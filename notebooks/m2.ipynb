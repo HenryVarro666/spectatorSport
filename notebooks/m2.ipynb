{
 "cells": [
  {
   "cell_type": "markdown",
   "id": "9d4b2136",
   "metadata": {},
   "source": [
    "# Method 2 \n",
    "\n",
    "## Pipeline \n",
    "![title](../assets/pipeleine.jpeg)"
   ]
  },
  {
   "cell_type": "code",
   "execution_count": 36,
   "id": "239732dc",
   "metadata": {},
   "outputs": [],
   "source": [
    "import pandas as pd \n",
    "import numpy as np\n",
    "from nltk.corpus import stopwords\n",
    "import re\n",
    "import gensim\n",
    "from gensim.corpora import Dictionary\n",
    "import matplotlib.pyplot as plt\n",
    "import matplotlib.colors as mcolors\n",
    "import seaborn as sns\n",
    "from wordcloud import WordCloud, STOPWORDS\n",
    "from gensim.utils import  simple_preprocess\n",
    "import spacy\n",
    "from nltk import bigrams\n",
    "from gensim.models import Word2Vec\n",
    "from sklearn.metrics import roc_curve,auc"
   ]
  },
  {
   "cell_type": "code",
   "execution_count": 37,
   "id": "216d2814",
   "metadata": {},
   "outputs": [
    {
     "data": {
      "text/html": [
       "<div>\n",
       "<style scoped>\n",
       "    .dataframe tbody tr th:only-of-type {\n",
       "        vertical-align: middle;\n",
       "    }\n",
       "\n",
       "    .dataframe tbody tr th {\n",
       "        vertical-align: top;\n",
       "    }\n",
       "\n",
       "    .dataframe thead th {\n",
       "        text-align: right;\n",
       "    }\n",
       "</style>\n",
       "<table border=\"1\" class=\"dataframe\">\n",
       "  <thead>\n",
       "    <tr style=\"text-align: right;\">\n",
       "      <th></th>\n",
       "      <th>Unnamed: 0</th>\n",
       "      <th>art_Unnamed: 0</th>\n",
       "      <th>art_uid</th>\n",
       "      <th>art_article_author</th>\n",
       "      <th>art_article_date</th>\n",
       "      <th>art_article_text</th>\n",
       "      <th>art_article_url</th>\n",
       "      <th>ref_Unnamed: 0</th>\n",
       "      <th>ref_Unnamed: 0.1</th>\n",
       "      <th>ref_uid</th>\n",
       "      <th>ref_title</th>\n",
       "      <th>ref_time</th>\n",
       "      <th>ref_source</th>\n",
       "      <th>ref_time-capture</th>\n",
       "      <th>ref_sc</th>\n",
       "      <th>ref_domain</th>\n",
       "      <th>ref_full-text</th>\n",
       "      <th>ref_sc2</th>\n",
       "      <th>ref_geo</th>\n",
       "      <th>ref_time_parsed</th>\n",
       "    </tr>\n",
       "  </thead>\n",
       "  <tbody>\n",
       "    <tr>\n",
       "      <th>0</th>\n",
       "      <td>0</td>\n",
       "      <td>5</td>\n",
       "      <td>02b5cecd-fac3-4b89-80a2-5bc7d3356d51</td>\n",
       "      <td>['Jake Epstein']</td>\n",
       "      <td>2022-04-04 00:00:00</td>\n",
       "      <td>Lithuania's top diplomat said buying Russian oil and gas is \"financing war crimes\" in Ukraine.\\n...</td>\n",
       "      <td>https://www.businessinsider.com/lithuania-diplomat-says-buying-russian-oil-financing-war-crimes-...</td>\n",
       "      <td>16</td>\n",
       "      <td>16</td>\n",
       "      <td>02b5cecd-fac3-4b89-80a2-5bc7d3356d51</td>\n",
       "      <td>Lithuanian ambassador to Ukraine to return to Kyiv - Lithuanian foreign minister</td>\n",
       "      <td>4 hours ago</td>\n",
       "      <td>https://twitter.com/idreesali114/status/1510980406421639171</td>\n",
       "      <td>2022-04-04 13:47:10.051481</td>\n",
       "      <td>False</td>\n",
       "      <td>data:image/svg+xml;base64,PHN2ZyB2ZXJzaW9uPSIxLjEiIHhtbG5zPSJodHRwOi8vd3d3LnczLm9yZy8yMDAwL3N2Zy...</td>\n",
       "      <td>SourceOn live map\\nTell friends\\n4 hours ago - 54°41′N 25°16′E\\nLithuanian ambassador to Ukraine...</td>\n",
       "      <td>False</td>\n",
       "      <td>54°41′N 25°16′E</td>\n",
       "      <td>2022-04-04 09:50:58</td>\n",
       "    </tr>\n",
       "  </tbody>\n",
       "</table>\n",
       "</div>"
      ],
      "text/plain": [
       "   Unnamed: 0  art_Unnamed: 0                               art_uid  \\\n",
       "0           0               5  02b5cecd-fac3-4b89-80a2-5bc7d3356d51   \n",
       "\n",
       "  art_article_author     art_article_date  \\\n",
       "0   ['Jake Epstein']  2022-04-04 00:00:00   \n",
       "\n",
       "                                                                                      art_article_text  \\\n",
       "0  Lithuania's top diplomat said buying Russian oil and gas is \"financing war crimes\" in Ukraine.\\n...   \n",
       "\n",
       "                                                                                       art_article_url  \\\n",
       "0  https://www.businessinsider.com/lithuania-diplomat-says-buying-russian-oil-financing-war-crimes-...   \n",
       "\n",
       "   ref_Unnamed: 0  ref_Unnamed: 0.1                               ref_uid  \\\n",
       "0              16                16  02b5cecd-fac3-4b89-80a2-5bc7d3356d51   \n",
       "\n",
       "                                                                          ref_title  \\\n",
       "0  Lithuanian ambassador to Ukraine to return to Kyiv - Lithuanian foreign minister   \n",
       "\n",
       "      ref_time                                                   ref_source  \\\n",
       "0  4 hours ago  https://twitter.com/idreesali114/status/1510980406421639171   \n",
       "\n",
       "             ref_time-capture  ref_sc  \\\n",
       "0  2022-04-04 13:47:10.051481   False   \n",
       "\n",
       "                                                                                            ref_domain  \\\n",
       "0  data:image/svg+xml;base64,PHN2ZyB2ZXJzaW9uPSIxLjEiIHhtbG5zPSJodHRwOi8vd3d3LnczLm9yZy8yMDAwL3N2Zy...   \n",
       "\n",
       "                                                                                         ref_full-text  \\\n",
       "0  SourceOn live map\\nTell friends\\n4 hours ago - 54°41′N 25°16′E\\nLithuanian ambassador to Ukraine...   \n",
       "\n",
       "   ref_sc2          ref_geo      ref_time_parsed  \n",
       "0    False  54°41′N 25°16′E  2022-04-04 09:50:58  "
      ]
     },
     "execution_count": 37,
     "metadata": {},
     "output_type": "execute_result"
    }
   ],
   "source": [
    "df = pd.read_csv('../data/processed/author-parse-articles.csv')\n",
    "df.head(1)"
   ]
  },
  {
   "cell_type": "code",
   "execution_count": 38,
   "id": "a08ccfcc",
   "metadata": {},
   "outputs": [],
   "source": [
    "# Getting Domains From News Websites \n",
    "m = df['art_article_url'].str.extract('(?<=http://)(.*?)(?=/)|(?<=https://)(.*?)(?=/)')\n",
    "m = m[0].fillna(m[1]).fillna(df['art_article_url'])\n",
    "df['art_extracted_domain'] = m"
   ]
  },
  {
   "cell_type": "markdown",
   "id": "9a3bbec0",
   "metadata": {},
   "source": [
    "### Split Based on Domains \n",
    "\n",
    "Topic Modelling \n",
    "\n",
    "1. We have on avg 7 articles from each domain(news site)\n",
    "2. We only keep domains with more than 20 articles \n",
    "3. Topic model and find topics that a website is more likely to publish \n",
    "\n",
    "\n"
   ]
  },
  {
   "cell_type": "code",
   "execution_count": 39,
   "id": "a1576d0d",
   "metadata": {},
   "outputs": [
    {
     "data": {
      "text/plain": [
       "7.036585365853658"
      ]
     },
     "execution_count": 39,
     "metadata": {},
     "output_type": "execute_result"
    }
   ],
   "source": [
    "# mean of the number of article\n",
    "df.groupby(['art_extracted_domain']).agg(\"count\")[\"art_uid\"].mean()"
   ]
  },
  {
   "cell_type": "code",
   "execution_count": 40,
   "id": "a0cd03e1",
   "metadata": {},
   "outputs": [],
   "source": [
    "# select the # of articles which is greater than 20\n",
    "df_domain = df.groupby(['art_extracted_domain']).agg(\"count\")[\"art_uid\"] \n",
    "domains = list(df_domain[df_domain>20].index)"
   ]
  },
  {
   "cell_type": "code",
   "execution_count": 41,
   "id": "a915236b",
   "metadata": {},
   "outputs": [],
   "source": [
    "df_filter = df[df[\"art_extracted_domain\"].isin(domains)]"
   ]
  },
  {
   "cell_type": "markdown",
   "id": "5ae008f6",
   "metadata": {},
   "source": [
    "### Topic Discover"
   ]
  },
  {
   "cell_type": "code",
   "execution_count": 42,
   "id": "7cf86e51",
   "metadata": {},
   "outputs": [],
   "source": [
    "\n",
    "# load stopwords\n",
    "stop_words = stopwords.words('english')\n",
    "stop_words.extend(['from', 'subject', 're', 'edu', 'use', 'not', 'would', 'say', 'could', '_', 'be', 'know', 'good', 'go', 'get', 'do', 'done', 'try', 'many', 'some', 'nice', 'thank', 'think', 'see', 'rather', 'easy', 'easily', 'lot', 'lack', 'make', 'want', 'seem', 'run', 'need', 'even', 'right', 'line', 'even', 'also', 'may', 'take', 'come'])\n"
   ]
  },
  {
   "cell_type": "code",
   "execution_count": 43,
   "id": "dc021641",
   "metadata": {},
   "outputs": [],
   "source": [
    "# get article text\n",
    "news = df_filter[[\"art_article_text\"]]"
   ]
  },
  {
   "cell_type": "code",
   "execution_count": 44,
   "id": "48db2d2c",
   "metadata": {},
   "outputs": [],
   "source": [
    "# text preprocessing\n",
    "def sent_to_words(sentences):\n",
    "    for sent in sentences:\n",
    "        sent = re.sub('[,\\.!?]', '', sent)  # remove emails\n",
    "        sent = sent.lower()  \n",
    "        sent = re.sub('\\s+', ' ', sent)  # remove newline chars\n",
    "        sent = re.sub(\"\\'\", \"\", sent)  # remove single quotes\n",
    "        sent = gensim.utils.simple_preprocess(str(sent), deacc=True) \n",
    "        yield(sent)  \n",
    "\n",
    "data = news['art_article_text'].values.tolist()\n",
    "data = [i for i in data if type(i) != float ]\n",
    "data_words = list(sent_to_words(data))"
   ]
  },
  {
   "cell_type": "code",
   "execution_count": 45,
   "id": "9f462361",
   "metadata": {},
   "outputs": [],
   "source": [
    "# remove stopwords\n",
    "sentences=[]\n",
    "for line in data_words:\n",
    "    try:\n",
    "        segs = [i for i in line if i not in stop_words]\n",
    "        sentences.append(segs)\n",
    "    except:\n",
    "        print (line)\n",
    "        continue"
   ]
  },
  {
   "cell_type": "code",
   "execution_count": null,
   "id": "546b8c39",
   "metadata": {},
   "outputs": [],
   "source": []
  },
  {
   "cell_type": "markdown",
   "id": "eb1d08c6",
   "metadata": {},
   "source": [
    "### Topic Discover"
   ]
  },
  {
   "cell_type": "code",
   "execution_count": 12,
   "id": "92775352",
   "metadata": {},
   "outputs": [],
   "source": [
    "# Create Dictionary\n",
    "id2word = Dictionary(sentences)\n",
    "\n",
    "# Create Corpus: Term Document Frequency\n",
    "corpus = [id2word.doc2bow(text) for text in sentences]\n",
    "\n",
    "# Build LDA model\n",
    "lda_model = gensim.models.ldamodel.LdaModel(corpus=corpus,\n",
    "                                           id2word=id2word,\n",
    "                                           num_topics=10, \n",
    "                                           random_state=100,\n",
    "                                           update_every=1,\n",
    "                                           chunksize=10,\n",
    "                                           passes=10,\n",
    "                                           alpha='symmetric',\n",
    "                                           iterations=100,\n",
    "                                           per_word_topics=True)\n"
   ]
  },
  {
   "cell_type": "code",
   "execution_count": 13,
   "id": "4eb0b0bf",
   "metadata": {},
   "outputs": [
    {
     "name": "stdout",
     "output_type": "stream",
     "text": [
      "0.043*\"said\" + 0.034*\"ukraine\" + 0.025*\"russian\" + 0.024*\"russia\" + 0.013*\"gmt\" + 0.012*\"war\" + 0.011*\"ukrainian\" + 0.010*\"says\" + 0.007*\"mar\" + 0.007*\"moscow\"\n",
      "0.046*\"russian\" + 0.028*\"forces\" + 0.026*\"ukrainian\" + 0.026*\"city\" + 0.018*\"kyiv\" + 0.016*\"military\" + 0.014*\"troops\" + 0.013*\"mariupol\" + 0.012*\"said\" + 0.008*\"capital\"\n",
      "0.025*\"ukraine\" + 0.022*\"us\" + 0.015*\"putin\" + 0.015*\"nato\" + 0.014*\"biden\" + 0.012*\"war\" + 0.011*\"russia\" + 0.009*\"military\" + 0.009*\"president\" + 0.007*\"wednesday\"\n",
      "0.038*\"sanctions\" + 0.021*\"russia\" + 0.021*\"european\" + 0.021*\"russian\" + 0.020*\"eu\" + 0.018*\"said\" + 0.014*\"gas\" + 0.014*\"president\" + 0.012*\"putin\" + 0.012*\"oil\"\n",
      "0.018*\"region\" + 0.010*\"armed\" + 0.009*\"plant\" + 0.009*\"russian\" + 0.008*\"according\" + 0.008*\"today\" + 0.008*\"head\" + 0.008*\"one\" + 0.007*\"occupiers\" + 0.007*\"information\"\n",
      "0.041*\"bucha\" + 0.027*\"ukraine\" + 0.022*\"kyiv\" + 0.020*\"ukrainian\" + 0.017*\"images\" + 0.016*\"people\" + 0.015*\"bodies\" + 0.013*\"town\" + 0.011*\"russian\" + 0.011*\"march\"\n",
      "0.048*\"russia\" + 0.035*\"ukraine\" + 0.016*\"security\" + 0.016*\"pm\" + 0.015*\"un\" + 0.014*\"council\" + 0.013*\"february\" + 0.012*\"united\" + 0.010*\"reuters\" + 0.010*\"international\"\n",
      "0.035*\"mr\" + 0.023*\"officials\" + 0.022*\"new\" + 0.021*\"russia\" + 0.016*\"york\" + 0.015*\"image\" + 0.014*\"credit\" + 0.013*\"times\" + 0.008*\"like\" + 0.008*\"michael\"\n",
      "0.031*\"april\" + 0.028*\"said\" + 0.027*\"russian\" + 0.017*\"ukrainian\" + 0.015*\"ukraine\" + 0.014*\"russia\" + 0.013*\"kyiv\" + 0.010*\"russias\" + 0.010*\"attacks\" + 0.010*\"city\"\n",
      "0.020*\"food\" + 0.019*\"region\" + 0.018*\"people\" + 0.015*\"sullivan\" + 0.013*\"pentagon\" + 0.011*\"wednesday\" + 0.011*\"week\" + 0.010*\"since\" + 0.010*\"million\" + 0.010*\"war\"\n"
     ]
    }
   ],
   "source": [
    "for topic in lda_model.print_topics(num_topics=10, num_words=10):\n",
    "    print (topic[1])"
   ]
  },
  {
   "cell_type": "code",
   "execution_count": 14,
   "id": "2db1b3ea",
   "metadata": {},
   "outputs": [
    {
     "data": {
      "text/html": [
       "<div>\n",
       "<style scoped>\n",
       "    .dataframe tbody tr th:only-of-type {\n",
       "        vertical-align: middle;\n",
       "    }\n",
       "\n",
       "    .dataframe tbody tr th {\n",
       "        vertical-align: top;\n",
       "    }\n",
       "\n",
       "    .dataframe thead th {\n",
       "        text-align: right;\n",
       "    }\n",
       "</style>\n",
       "<table border=\"1\" class=\"dataframe\">\n",
       "  <thead>\n",
       "    <tr style=\"text-align: right;\">\n",
       "      <th></th>\n",
       "      <th>Document_No</th>\n",
       "      <th>Dominant_Topic</th>\n",
       "      <th>Topic_Perc_Contrib</th>\n",
       "      <th>Keywords</th>\n",
       "      <th>Text</th>\n",
       "    </tr>\n",
       "  </thead>\n",
       "  <tbody>\n",
       "    <tr>\n",
       "      <th>0</th>\n",
       "      <td>0</td>\n",
       "      <td>3.0</td>\n",
       "      <td>0.424994</td>\n",
       "      <td>sanctions, russia, european, russian, eu, said...</td>\n",
       "      <td>[lithuanias, top, diplomat, said, buying, russ...</td>\n",
       "    </tr>\n",
       "    <tr>\n",
       "      <th>1</th>\n",
       "      <td>1</td>\n",
       "      <td>3.0</td>\n",
       "      <td>0.649332</td>\n",
       "      <td>sanctions, russia, european, russian, eu, said...</td>\n",
       "      <td>[live, blog, closed, follow, latest, updates, ...</td>\n",
       "    </tr>\n",
       "    <tr>\n",
       "      <th>2</th>\n",
       "      <td>2</td>\n",
       "      <td>4.0</td>\n",
       "      <td>0.218611</td>\n",
       "      <td>region, armed, plant, russian, according, toda...</td>\n",
       "      <td>[afu, repels, enemy, attacks, fronts, major, d...</td>\n",
       "    </tr>\n",
       "    <tr>\n",
       "      <th>3</th>\n",
       "      <td>3</td>\n",
       "      <td>9.0</td>\n",
       "      <td>0.393797</td>\n",
       "      <td>food, region, people, sullivan, pentagon, wedn...</td>\n",
       "      <td>[families, waiting, board, trains, eastern, uk...</td>\n",
       "    </tr>\n",
       "    <tr>\n",
       "      <th>4</th>\n",
       "      <td>4</td>\n",
       "      <td>4.0</td>\n",
       "      <td>0.391495</td>\n",
       "      <td>region, armed, plant, russian, according, toda...</td>\n",
       "      <td>[timeline, day, ukraines, defense, russian, ag...</td>\n",
       "    </tr>\n",
       "    <tr>\n",
       "      <th>5</th>\n",
       "      <td>5</td>\n",
       "      <td>0.0</td>\n",
       "      <td>0.375786</td>\n",
       "      <td>said, ukraine, russian, russia, gmt, war, ukra...</td>\n",
       "      <td>[united, states, britain, announced, plans, mo...</td>\n",
       "    </tr>\n",
       "    <tr>\n",
       "      <th>6</th>\n",
       "      <td>6</td>\n",
       "      <td>9.0</td>\n",
       "      <td>0.393797</td>\n",
       "      <td>food, region, people, sullivan, pentagon, wedn...</td>\n",
       "      <td>[families, waiting, board, trains, eastern, uk...</td>\n",
       "    </tr>\n",
       "    <tr>\n",
       "      <th>7</th>\n",
       "      <td>7</td>\n",
       "      <td>0.0</td>\n",
       "      <td>0.546153</td>\n",
       "      <td>said, ukraine, russian, russia, gmt, war, ukra...</td>\n",
       "      <td>[soldiers, walk, amid, destroyed, russian, tan...</td>\n",
       "    </tr>\n",
       "    <tr>\n",
       "      <th>8</th>\n",
       "      <td>8</td>\n",
       "      <td>1.0</td>\n",
       "      <td>0.380446</td>\n",
       "      <td>russian, forces, ukrainian, city, kyiv, milita...</td>\n",
       "      <td>[serhiy, haidai, head, luhansk, regional, mili...</td>\n",
       "    </tr>\n",
       "    <tr>\n",
       "      <th>9</th>\n",
       "      <td>9</td>\n",
       "      <td>8.0</td>\n",
       "      <td>0.998396</td>\n",
       "      <td>april, said, russian, ukrainian, ukraine, russ...</td>\n",
       "      <td>[russias, defense, ministry, warned, april, in...</td>\n",
       "    </tr>\n",
       "  </tbody>\n",
       "</table>\n",
       "</div>"
      ],
      "text/plain": [
       "   Document_No  Dominant_Topic  Topic_Perc_Contrib  \\\n",
       "0            0             3.0            0.424994   \n",
       "1            1             3.0            0.649332   \n",
       "2            2             4.0            0.218611   \n",
       "3            3             9.0            0.393797   \n",
       "4            4             4.0            0.391495   \n",
       "5            5             0.0            0.375786   \n",
       "6            6             9.0            0.393797   \n",
       "7            7             0.0            0.546153   \n",
       "8            8             1.0            0.380446   \n",
       "9            9             8.0            0.998396   \n",
       "\n",
       "                                            Keywords  \\\n",
       "0  sanctions, russia, european, russian, eu, said...   \n",
       "1  sanctions, russia, european, russian, eu, said...   \n",
       "2  region, armed, plant, russian, according, toda...   \n",
       "3  food, region, people, sullivan, pentagon, wedn...   \n",
       "4  region, armed, plant, russian, according, toda...   \n",
       "5  said, ukraine, russian, russia, gmt, war, ukra...   \n",
       "6  food, region, people, sullivan, pentagon, wedn...   \n",
       "7  said, ukraine, russian, russia, gmt, war, ukra...   \n",
       "8  russian, forces, ukrainian, city, kyiv, milita...   \n",
       "9  april, said, russian, ukrainian, ukraine, russ...   \n",
       "\n",
       "                                                Text  \n",
       "0  [lithuanias, top, diplomat, said, buying, russ...  \n",
       "1  [live, blog, closed, follow, latest, updates, ...  \n",
       "2  [afu, repels, enemy, attacks, fronts, major, d...  \n",
       "3  [families, waiting, board, trains, eastern, uk...  \n",
       "4  [timeline, day, ukraines, defense, russian, ag...  \n",
       "5  [united, states, britain, announced, plans, mo...  \n",
       "6  [families, waiting, board, trains, eastern, uk...  \n",
       "7  [soldiers, walk, amid, destroyed, russian, tan...  \n",
       "8  [serhiy, haidai, head, luhansk, regional, mili...  \n",
       "9  [russias, defense, ministry, warned, april, in...  "
      ]
     },
     "execution_count": 14,
     "metadata": {},
     "output_type": "execute_result"
    }
   ],
   "source": [
    "# \n",
    "# structure the main topic\n",
    "def format_topics_sentences(ldamodel=None, corpus=corpus, texts=data):\n",
    "    # Init output\n",
    "    sent_topics_df = pd.DataFrame()\n",
    "\n",
    "    # Get main topic in each document\n",
    "    for i, row_list in enumerate(ldamodel[corpus]):\n",
    "        row = row_list[0] if ldamodel.per_word_topics else row_list            \n",
    "        # print(row)\n",
    "        row = sorted(row, key=lambda x: (x[1]), reverse=True)\n",
    "        # Get the Dominant topic, Perc Contribution and Keywords for each document\n",
    "        for j, (topic_num, prop_topic) in enumerate(row):\n",
    "            if j == 0:  # => dominant topic\n",
    "                wp = ldamodel.show_topic(topic_num)\n",
    "                topic_keywords = \", \".join([word for word, prop in wp[:10]])\n",
    "                sent_topics_df = sent_topics_df.append(pd.Series([int(topic_num), round(prop_topic,10), topic_keywords]), ignore_index=True)\n",
    "            else:\n",
    "                break\n",
    "    sent_topics_df.columns = ['Dominant_Topic', 'Perc_Contribution', 'Topic_Keywords']\n",
    "\n",
    "    # Add original text to the end of the output\n",
    "    contents = pd.Series(texts)\n",
    "    sent_topics_df = pd.concat([sent_topics_df, contents], axis=1)\n",
    "    return(sent_topics_df)\n",
    "\n",
    "\n",
    "df_topic_sents_keywords = format_topics_sentences(ldamodel=lda_model, corpus=corpus, texts=sentences)\n",
    "\n",
    "# Format\n",
    "df_dominant_topic = df_topic_sents_keywords.reset_index()\n",
    "df_dominant_topic.columns = ['Document_No', 'Dominant_Topic', 'Topic_Perc_Contrib', 'Keywords', 'Text']\n",
    "df_dominant_topic.head(10)"
   ]
  },
  {
   "cell_type": "code",
   "execution_count": null,
   "id": "b193251f",
   "metadata": {},
   "outputs": [],
   "source": []
  },
  {
   "cell_type": "code",
   "execution_count": 15,
   "id": "ee0b9856",
   "metadata": {},
   "outputs": [
    {
     "data": {
      "text/html": [
       "<div>\n",
       "<style scoped>\n",
       "    .dataframe tbody tr th:only-of-type {\n",
       "        vertical-align: middle;\n",
       "    }\n",
       "\n",
       "    .dataframe tbody tr th {\n",
       "        vertical-align: top;\n",
       "    }\n",
       "\n",
       "    .dataframe thead th {\n",
       "        text-align: right;\n",
       "    }\n",
       "</style>\n",
       "<table border=\"1\" class=\"dataframe\">\n",
       "  <thead>\n",
       "    <tr style=\"text-align: right;\">\n",
       "      <th></th>\n",
       "      <th>Topic_Num</th>\n",
       "      <th>Topic_Perc_Contrib</th>\n",
       "      <th>Keywords</th>\n",
       "      <th>Representative Text</th>\n",
       "    </tr>\n",
       "  </thead>\n",
       "  <tbody>\n",
       "    <tr>\n",
       "      <th>0</th>\n",
       "      <td>0.0</td>\n",
       "      <td>0.906969</td>\n",
       "      <td>said, ukraine, russian, russia, gmt, war, ukrainian, says, mar, moscow</td>\n",
       "      <td>[lviv, next, round, face, face, talks, ukraine, russia, place, turkey, march, ukrainian, negotia...</td>\n",
       "    </tr>\n",
       "    <tr>\n",
       "      <th>1</th>\n",
       "      <td>1.0</td>\n",
       "      <td>0.751001</td>\n",
       "      <td>russian, forces, ukrainian, city, kyiv, military, troops, mariupol, said, capital</td>\n",
       "      <td>[opposite, turned, true, russian, forces, retreated, around, kyiv, ukrainian, forces, gained, gr...</td>\n",
       "    </tr>\n",
       "    <tr>\n",
       "      <th>2</th>\n",
       "      <td>2.0</td>\n",
       "      <td>0.809913</td>\n",
       "      <td>ukraine, us, putin, nato, biden, war, russia, military, president, wednesday</td>\n",
       "      <td>[us, president, joe, biden, chinese, president, xi, jinping, virtual, meeting, friday, photo, wh...</td>\n",
       "    </tr>\n",
       "    <tr>\n",
       "      <th>3</th>\n",
       "      <td>3.0</td>\n",
       "      <td>0.899253</td>\n",
       "      <td>sanctions, russia, european, russian, eu, said, gas, president, putin, oil</td>\n",
       "      <td>[coronavirus, bulletin, stay, informed, daily, latest, news, advice, covid, editors, us, news, w...</td>\n",
       "    </tr>\n",
       "    <tr>\n",
       "      <th>4</th>\n",
       "      <td>4.0</td>\n",
       "      <td>0.620007</td>\n",
       "      <td>region, armed, plant, russian, according, today, head, one, occupiers, information</td>\n",
       "      <td>[term, search, search, google]</td>\n",
       "    </tr>\n",
       "    <tr>\n",
       "      <th>5</th>\n",
       "      <td>5.0</td>\n",
       "      <td>0.825081</td>\n",
       "      <td>bucha, ukraine, kyiv, ukrainian, images, people, bodies, town, russian, march</td>\n",
       "      <td>[photos, russia, keep, attacks, parts, ukraine, millions, displaced, editors, note, graphic, con...</td>\n",
       "    </tr>\n",
       "    <tr>\n",
       "      <th>6</th>\n",
       "      <td>6.0</td>\n",
       "      <td>0.698406</td>\n",
       "      <td>russia, ukraine, security, pm, un, council, february, united, reuters, international</td>\n",
       "      <td>[united, nations, security, council, meets, un, headquarters, new, york, city, february, united,...</td>\n",
       "    </tr>\n",
       "    <tr>\n",
       "      <th>7</th>\n",
       "      <td>7.0</td>\n",
       "      <td>0.363055</td>\n",
       "      <td>mr, officials, new, russia, york, image, credit, times, like, michael</td>\n",
       "      <td>[zaporizhzhia, nuclear, power, plant, biggest, europe, photo, epa, efe]</td>\n",
       "    </tr>\n",
       "    <tr>\n",
       "      <th>8</th>\n",
       "      <td>8.0</td>\n",
       "      <td>0.998396</td>\n",
       "      <td>april, said, russian, ukrainian, ukraine, russia, kyiv, russias, attacks, city</td>\n",
       "      <td>[russias, defense, ministry, warned, april, intensify, attacks, ukrainian, capital, kyiv, accusi...</td>\n",
       "    </tr>\n",
       "    <tr>\n",
       "      <th>9</th>\n",
       "      <td>9.0</td>\n",
       "      <td>0.393797</td>\n",
       "      <td>food, region, people, sullivan, pentagon, wednesday, week, since, million, war</td>\n",
       "      <td>[families, waiting, board, trains, eastern, ukrainian, city, kramatorsk, tuesday, spurred, repor...</td>\n",
       "    </tr>\n",
       "  </tbody>\n",
       "</table>\n",
       "</div>"
      ],
      "text/plain": [
       "   Topic_Num  Topic_Perc_Contrib  \\\n",
       "0        0.0            0.906969   \n",
       "1        1.0            0.751001   \n",
       "2        2.0            0.809913   \n",
       "3        3.0            0.899253   \n",
       "4        4.0            0.620007   \n",
       "5        5.0            0.825081   \n",
       "6        6.0            0.698406   \n",
       "7        7.0            0.363055   \n",
       "8        8.0            0.998396   \n",
       "9        9.0            0.393797   \n",
       "\n",
       "                                                                               Keywords  \\\n",
       "0                said, ukraine, russian, russia, gmt, war, ukrainian, says, mar, moscow   \n",
       "1     russian, forces, ukrainian, city, kyiv, military, troops, mariupol, said, capital   \n",
       "2          ukraine, us, putin, nato, biden, war, russia, military, president, wednesday   \n",
       "3            sanctions, russia, european, russian, eu, said, gas, president, putin, oil   \n",
       "4    region, armed, plant, russian, according, today, head, one, occupiers, information   \n",
       "5         bucha, ukraine, kyiv, ukrainian, images, people, bodies, town, russian, march   \n",
       "6  russia, ukraine, security, pm, un, council, february, united, reuters, international   \n",
       "7                 mr, officials, new, russia, york, image, credit, times, like, michael   \n",
       "8        april, said, russian, ukrainian, ukraine, russia, kyiv, russias, attacks, city   \n",
       "9        food, region, people, sullivan, pentagon, wednesday, week, since, million, war   \n",
       "\n",
       "                                                                                   Representative Text  \n",
       "0  [lviv, next, round, face, face, talks, ukraine, russia, place, turkey, march, ukrainian, negotia...  \n",
       "1  [opposite, turned, true, russian, forces, retreated, around, kyiv, ukrainian, forces, gained, gr...  \n",
       "2  [us, president, joe, biden, chinese, president, xi, jinping, virtual, meeting, friday, photo, wh...  \n",
       "3  [coronavirus, bulletin, stay, informed, daily, latest, news, advice, covid, editors, us, news, w...  \n",
       "4                                                                       [term, search, search, google]  \n",
       "5  [photos, russia, keep, attacks, parts, ukraine, millions, displaced, editors, note, graphic, con...  \n",
       "6  [united, nations, security, council, meets, un, headquarters, new, york, city, february, united,...  \n",
       "7                              [zaporizhzhia, nuclear, power, plant, biggest, europe, photo, epa, efe]  \n",
       "8  [russias, defense, ministry, warned, april, intensify, attacks, ukrainian, capital, kyiv, accusi...  \n",
       "9  [families, waiting, board, trains, eastern, ukrainian, city, kramatorsk, tuesday, spurred, repor...  "
      ]
     },
     "execution_count": 15,
     "metadata": {},
     "output_type": "execute_result"
    }
   ],
   "source": [
    "\"\"\"get samples of sentences that most represent a given topic.\"\"\"\n",
    "pd.options.display.max_colwidth = 100\n",
    "\n",
    "sent_topics_sorteddf_mallet = pd.DataFrame()\n",
    "sent_topics_outdf_grpd = df_topic_sents_keywords.groupby('Dominant_Topic')\n",
    "\n",
    "for i, grp in sent_topics_outdf_grpd:\n",
    "    sent_topics_sorteddf_mallet = pd.concat([sent_topics_sorteddf_mallet, \n",
    "                                             grp.sort_values(['Perc_Contribution'], ascending=False).head(1)], \n",
    "                                            axis=0)\n",
    "\n",
    "# Reset Index    \n",
    "sent_topics_sorteddf_mallet.reset_index(drop=True, inplace=True)\n",
    "\n",
    "# Format\n",
    "sent_topics_sorteddf_mallet.columns = ['Topic_Num', \"Topic_Perc_Contrib\", \"Keywords\", \"Representative Text\"]\n",
    "\n",
    "# Show\n",
    "sent_topics_sorteddf_mallet.head(10)"
   ]
  },
  {
   "cell_type": "code",
   "execution_count": null,
   "id": "b9ac616a",
   "metadata": {},
   "outputs": [],
   "source": []
  },
  {
   "cell_type": "code",
   "execution_count": 16,
   "id": "295cfa5d",
   "metadata": {},
   "outputs": [
    {
     "data": {
      "image/png": "[encoded data removed]",
      "text/plain": [
       "<Figure size 720x720 with 10 Axes>"
      ]
     },
     "metadata": {
      "needs_background": "light"
     },
     "output_type": "display_data"
    }
   ],
   "source": [
    "cols = [color for name, color in mcolors.TABLEAU_COLORS.items()]  # more colors: 'mcolors.XKCD_COLORS'\n",
    "\n",
    "cloud = WordCloud(stopwords=stop_words,\n",
    "                  background_color='white',\n",
    "                  width=2500,\n",
    "                  height=1800,\n",
    "                  max_words=10,\n",
    "                  colormap='tab10',\n",
    "                  color_func=lambda *args, **kwargs: cols[i],\n",
    "                  prefer_horizontal=1.0)\n",
    "\n",
    "topics = lda_model.show_topics(formatted=False)\n",
    "\n",
    "fig, axes = plt.subplots(5, 2, figsize=(10,10), sharex=True, sharey=True)\n",
    "\n",
    "for i, ax in enumerate(axes.flatten()):\n",
    "    fig.add_subplot(ax)\n",
    "    topic_words = dict(topics[i][1])\n",
    "    cloud.generate_from_frequencies(topic_words, max_font_size=300)\n",
    "    plt.gca().imshow(cloud)\n",
    "    plt.gca().set_title('Topic ' + str(i), fontdict=dict(size=16))\n",
    "    plt.gca().axis('off')\n",
    "\n",
    "\n",
    "plt.subplots_adjust(wspace=0, hspace=0)\n",
    "plt.axis('off')\n",
    "plt.margins(x=0, y=0)\n",
    "plt.tight_layout()\n",
    "plt.show()"
   ]
  },
  {
   "cell_type": "code",
   "execution_count": 47,
   "id": "3d3120c4",
   "metadata": {},
   "outputs": [],
   "source": [
    "\n",
    "# Helper function\n",
    "def plot_10_most_common_words(count_data, count_vectorizer):\n",
    "    import matplotlib.pyplot as plt\n",
    "    words = count_vectorizer.get_feature_names()\n",
    "    total_counts = np.zeros(len(words))\n",
    "    for t in count_data:\n",
    "        total_counts+=t.toarray()[0]\n",
    "    \n",
    "    count_dict = (zip(words, total_counts))\n",
    "    count_dict = sorted(count_dict, key=lambda x:x[1], reverse=True)[0:10]\n",
    "    words = [w[0] for w in count_dict]\n",
    "    counts = [w[1] for w in count_dict]\n",
    "    x_pos = np.arange(len(words)) \n",
    "    \n",
    "    plt.figure(2, figsize=(15, 15/1.6180))\n",
    "    plt.subplot(title='10 most common words')\n",
    "    sns.set_context(\"notebook\", font_scale=1.25, rc={\"lines.linewidth\": 2.5})\n",
    "    sns.barplot(x_pos, counts, palette='husl')\n",
    "    plt.xticks(x_pos, words, rotation=90) \n",
    "    plt.xlabel('words')\n",
    "    plt.ylabel('counts')\n",
    "    plt.show()\n"
   ]
  },
  {
   "cell_type": "code",
   "execution_count": 48,
   "id": "27cfd78e",
   "metadata": {},
   "outputs": [
    {
     "name": "stderr",
     "output_type": "stream",
     "text": [
      "/Users/swagyangjh/opt/anaconda3/envs/641/lib/python3.7/site-packages/sklearn/utils/deprecation.py:87: FutureWarning: Function get_feature_names is deprecated; get_feature_names is deprecated in 1.0 and will be removed in 1.2. Please use get_feature_names_out instead.\n",
      "  warnings.warn(msg, category=FutureWarning)\n",
      "/Users/swagyangjh/opt/anaconda3/envs/641/lib/python3.7/site-packages/seaborn/_decorators.py:43: FutureWarning: Pass the following variables as keyword args: x, y. From version 0.12, the only valid positional argument will be `data`, and passing other arguments without an explicit keyword will result in an error or misinterpretation.\n",
      "  FutureWarning\n"
     ]
    },
    {
     "data": {
      "image/png": "[encoded data removed]",
      "text/plain": [
       "<Figure size 1080x667.491 with 1 Axes>"
      ]
     },
     "metadata": {
      "needs_background": "light"
     },
     "output_type": "display_data"
    }
   ],
   "source": [
    "from sklearn.feature_extraction.text import CountVectorizer\n",
    "# Initialise the count vectorizer with the English stop words\n",
    "count_vectorizer = CountVectorizer(stop_words='english')\n",
    "# Fit and transform the processed titles\n",
    "count_data = count_vectorizer.fit_transform(news[news[\"art_article_text\"].notnull()]['art_article_text'])\n",
    "# Visualise the 10 most common words\n",
    "plot_10_most_common_words(count_data, count_vectorizer)"
   ]
  },
  {
   "cell_type": "markdown",
   "id": "c76008c7",
   "metadata": {},
   "source": [
    "### Bigrams"
   ]
  },
  {
   "cell_type": "code",
   "execution_count": 49,
   "id": "fd9aa2eb",
   "metadata": {},
   "outputs": [],
   "source": [
    "# 剔除bigrams中没有主题词的词组\n",
    "def word_drop_keywords(x):\n",
    "    arr = [i.strip() for i in  x[0].split(\",\") if i.strip() ]\n",
    "    if len(arr) >=5:\n",
    "        key_words = arr[:5]\n",
    "    else:\n",
    "        key_words = arr\n",
    "    words = x[1]\n",
    "    keep_words = []\n",
    "    for i in range(len(words)):\n",
    "        \n",
    "        if i == 0:\n",
    "            if len(set(words[i:i+1])&set(key_words)) > 0 :\n",
    "                \n",
    "                keep_words.append(words[i])\n",
    "        elif i < len(words)-1 and i > 0:\n",
    "            if len(set(words[i:i+2])&set(key_words)) > 0 or len(set(words[i-1:i+1])&set(key_words)) > 0 :\n",
    "\n",
    "                keep_words.append(words[i])\n",
    "        else:\n",
    "            if words[i-1] in key_words:\n",
    "                keep_words.append(words[i])\n",
    "    return keep_words"
   ]
  },
  {
   "cell_type": "code",
   "execution_count": 50,
   "id": "2c620fb3",
   "metadata": {},
   "outputs": [],
   "source": [
    "new_text = df_dominant_topic[[\"Keywords\",\"Text\"]].apply(lambda x:word_drop_keywords(x),axis=1)\n",
    "new_text = [i for i in new_text if len(i) >0]\n"
   ]
  },
  {
   "cell_type": "code",
   "execution_count": 53,
   "id": "2a61482f",
   "metadata": {},
   "outputs": [],
   "source": [
    "new_data = [\" \".join(i) for i in new_text ]"
   ]
  },
  {
   "cell_type": "code",
   "execution_count": 54,
   "id": "3f0216c0",
   "metadata": {},
   "outputs": [],
   "source": [
    "# Build the bigram models\n",
    "bigram = gensim.models.Phrases(new_data, min_count=2, threshold=1) # higher threshold fewer phrases.\n",
    "bigram_mod = gensim.models.phrases.Phraser(bigram)"
   ]
  },
  {
   "cell_type": "code",
   "execution_count": 55,
   "id": "510455ae",
   "metadata": {},
   "outputs": [],
   "source": [
    "# keep N, adj, verb,adv,\n",
    "# text preprocessing\n",
    "def process_words(texts, stop_words=stop_words, allowed_postags=['NOUN', 'ADJ', 'VERB', 'ADV']):\n",
    "    \"\"\"Remove Stopwords, Form Bigrams, Trigrams and Lemmatization\"\"\"\n",
    "    \n",
    "    texts = [[word for word in simple_preprocess(str(doc)) if word not in stop_words] for doc in texts]\n",
    "    texts = [bigram_mod[doc] for doc in texts]\n",
    "    # texts = [trigram_mod[bigram_mod[doc]] for doc in texts]\n",
    "    texts_out = []\n",
    "    nlp = spacy.load(\"en_core_web_sm\", disable=['parser', 'ner'])\n",
    "    for sent in texts:\n",
    "        # print(sent)\n",
    "        doc = nlp(\" \".join(sent)) \n",
    "        texts_out.append([token.lemma_ for token in doc if token.pos_ in allowed_postags])\n",
    "    # remove stopwords once more after lemmatization\n",
    "    texts_out = [[word for word in simple_preprocess(str(doc)) if word not in stop_words] for doc in texts_out]    \n",
    "    return texts_out\n",
    "\n",
    "data_ready = process_words(new_data) \n"
   ]
  },
  {
   "cell_type": "code",
   "execution_count": 56,
   "id": "eac9fd2f",
   "metadata": {},
   "outputs": [],
   "source": [
    "# Create Dictionary\n",
    "id2word = Dictionary(data_ready)\n",
    "\n",
    "# Create Corpus: Term Document Frequency\n",
    "corpus = [id2word.doc2bow(text) for text in data_ready]\n",
    "\n",
    "# Build LDA model\n",
    "lda_model = gensim.models.ldamodel.LdaModel(corpus=corpus,\n",
    "                                           id2word=id2word,\n",
    "                                           num_topics=5, \n",
    "                                           random_state=100,\n",
    "                                           update_every=1,\n",
    "                                           chunksize=10,\n",
    "                                           passes=10,\n",
    "                                           alpha='symmetric',\n",
    "                                           iterations=100,\n",
    "                                           per_word_topics=True)"
   ]
  },
  {
   "cell_type": "code",
   "execution_count": 57,
   "id": "cf3ef4c5",
   "metadata": {},
   "outputs": [
    {
     "name": "stdout",
     "output_type": "stream",
     "text": [
      "0.174*\"ukrainian\" + 0.109*\"city\" + 0.091*\"kyiv\" + 0.047*\"force\" + 0.019*\"port\" + 0.015*\"invade\" + 0.010*\"tank\" + 0.010*\"hit\" + 0.010*\"mariupol\" + 0.008*\"advance\"\n",
      "0.130*\"region\" + 0.116*\"official\" + 0.106*\"people\" + 0.039*\"image\" + 0.036*\"senior\" + 0.029*\"luhansk\" + 0.028*\"leave\" + 0.023*\"announce\" + 0.022*\"tell\" + 0.022*\"donetsk\"\n",
      "0.360*\"ukraine\" + 0.061*\"invasion\" + 0.047*\"sanction\" + 0.018*\"support\" + 0.017*\"invade\" + 0.009*\"weapon\" + 0.009*\"people\" + 0.008*\"include\" + 0.008*\"help\" + 0.008*\"share\"\n",
      "0.138*\"apr\" + 0.094*\"war\" + 0.090*\"gmt\" + 0.023*\"kill\" + 0.022*\"accuse\" + 0.018*\"statement\" + 0.011*\"new\" + 0.010*\"provide\" + 0.008*\"authority\" + 0.008*\"civilian\"\n",
      "0.365*\"russian\" + 0.042*\"force\" + 0.034*\"troop\" + 0.020*\"attack\" + 0.016*\"military\" + 0.015*\"soldier\" + 0.012*\"official\" + 0.010*\"diplomat\" + 0.008*\"capital\" + 0.007*\"border\"\n"
     ]
    }
   ],
   "source": [
    "for topic in lda_model.print_topics(num_topics=5, num_words=10):\n",
    "    print (topic[1])"
   ]
  },
  {
   "cell_type": "code",
   "execution_count": 58,
   "id": "0418e8e1",
   "metadata": {},
   "outputs": [],
   "source": [
    "# \n",
    "def format_topics_sentences(ldamodel=None, corpus=corpus, texts=data):\n",
    "    # Init output\n",
    "    sent_topics_df = pd.DataFrame()\n",
    "\n",
    "    # Get main topic in each document\n",
    "    for i, row_list in enumerate(ldamodel[corpus]):\n",
    "        row = row_list[0] if ldamodel.per_word_topics else row_list            \n",
    "        # print(row)\n",
    "        row = sorted(row, key=lambda x: (x[1]), reverse=True)\n",
    "        # Get the Dominant topic, Perc Contribution and Keywords for each document\n",
    "        for j, (topic_num, prop_topic) in enumerate(row):\n",
    "            if j == 0:  # => dominant topic\n",
    "                wp = ldamodel.show_topic(topic_num)\n",
    "                topic_keywords = \", \".join([word for word, prop in wp][:10])\n",
    "                sent_topics_df = sent_topics_df.append(pd.Series([int(topic_num), round(prop_topic,5), topic_keywords]), ignore_index=True)\n",
    "            else:\n",
    "                break\n",
    "    sent_topics_df.columns = ['Dominant_Topic', 'Perc_Contribution', 'Topic_Keywords']\n",
    "\n",
    "    # Add original text to the end of the output\n",
    "    contents = pd.Series(texts)\n",
    "    sent_topics_df = pd.concat([sent_topics_df, contents], axis=1)\n",
    "    return(sent_topics_df)"
   ]
  },
  {
   "cell_type": "code",
   "execution_count": 59,
   "id": "3f3f6d29",
   "metadata": {},
   "outputs": [
    {
     "data": {
      "text/html": [
       "<div>\n",
       "<style scoped>\n",
       "    .dataframe tbody tr th:only-of-type {\n",
       "        vertical-align: middle;\n",
       "    }\n",
       "\n",
       "    .dataframe tbody tr th {\n",
       "        vertical-align: top;\n",
       "    }\n",
       "\n",
       "    .dataframe thead th {\n",
       "        text-align: right;\n",
       "    }\n",
       "</style>\n",
       "<table border=\"1\" class=\"dataframe\">\n",
       "  <thead>\n",
       "    <tr style=\"text-align: right;\">\n",
       "      <th></th>\n",
       "      <th>Document_No</th>\n",
       "      <th>Dominant_Topic</th>\n",
       "      <th>Topic_Perc_Contrib</th>\n",
       "      <th>Keywords</th>\n",
       "      <th>Text</th>\n",
       "    </tr>\n",
       "  </thead>\n",
       "  <tbody>\n",
       "    <tr>\n",
       "      <th>0</th>\n",
       "      <td>0</td>\n",
       "      <td>4.0</td>\n",
       "      <td>0.87762</td>\n",
       "      <td>russian, force, troop, attack, military, soldier, official, diplomat, capital, border</td>\n",
       "      <td>[russian, oil, half, russian, gas, buy, russian, oil, bucha, russian, buy, russian, oil, half, r...</td>\n",
       "    </tr>\n",
       "    <tr>\n",
       "      <th>1</th>\n",
       "      <td>1</td>\n",
       "      <td>4.0</td>\n",
       "      <td>0.83501</td>\n",
       "      <td>russian, force, troop, attack, military, soldier, official, diplomat, capital, border</td>\n",
       "      <td>[armed, force, perm, armed, force, punish, attack, russian, invader, associate, hospital, kyiv, ...</td>\n",
       "    </tr>\n",
       "    <tr>\n",
       "      <th>2</th>\n",
       "      <td>2</td>\n",
       "      <td>1.0</td>\n",
       "      <td>0.96647</td>\n",
       "      <td>region, official, people, image, senior, luhansk, leave, announce, tell, donetsk</td>\n",
       "      <td>[luhansk, region, ruin, people, leave, region, region, tell, donetsk, region, photo, crowd, peop...</td>\n",
       "    </tr>\n",
       "    <tr>\n",
       "      <th>3</th>\n",
       "      <td>3</td>\n",
       "      <td>4.0</td>\n",
       "      <td>0.93367</td>\n",
       "      <td>russian, force, troop, attack, military, soldier, official, diplomat, capital, border</td>\n",
       "      <td>[russian, aggression, russian, missile, russian, occupier, already, russian, occupier, list, rus...</td>\n",
       "    </tr>\n",
       "    <tr>\n",
       "      <th>4</th>\n",
       "      <td>4</td>\n",
       "      <td>4.0</td>\n",
       "      <td>0.55260</td>\n",
       "      <td>russian, force, troop, attack, military, soldier, official, diplomat, capital, border</td>\n",
       "      <td>[bucha, ukraine, image, ukraine, require, unbelievable, russian, ambassador, happen, russian, ru...</td>\n",
       "    </tr>\n",
       "    <tr>\n",
       "      <th>5</th>\n",
       "      <td>5</td>\n",
       "      <td>1.0</td>\n",
       "      <td>0.96647</td>\n",
       "      <td>region, official, people, image, senior, luhansk, leave, announce, tell, donetsk</td>\n",
       "      <td>[luhansk, region, ruin, people, leave, region, region, tell, donetsk, region, photo, crowd, peop...</td>\n",
       "    </tr>\n",
       "    <tr>\n",
       "      <th>6</th>\n",
       "      <td>6</td>\n",
       "      <td>2.0</td>\n",
       "      <td>0.49990</td>\n",
       "      <td>ukraine, invasion, sanction, support, invade, weapon, people, include, help, share</td>\n",
       "      <td>[tank, russian, military, case, russian, opposition, accusation, forward, round, ukraine, talk, ...</td>\n",
       "    </tr>\n",
       "    <tr>\n",
       "      <th>7</th>\n",
       "      <td>7</td>\n",
       "      <td>4.0</td>\n",
       "      <td>0.64996</td>\n",
       "      <td>russian, force, troop, attack, military, soldier, official, diplomat, capital, border</td>\n",
       "      <td>[russian, military, leader, kyiv, northern, ukrainian, chernihiv]</td>\n",
       "    </tr>\n",
       "    <tr>\n",
       "      <th>8</th>\n",
       "      <td>8</td>\n",
       "      <td>4.0</td>\n",
       "      <td>0.91585</td>\n",
       "      <td>russian, force, troop, attack, military, soldier, official, diplomat, capital, border</td>\n",
       "      <td>[attack, ukrainian, capital, target, russian, border, flagship, ukrainian, proud, day, russian, ...</td>\n",
       "    </tr>\n",
       "    <tr>\n",
       "      <th>9</th>\n",
       "      <td>9</td>\n",
       "      <td>4.0</td>\n",
       "      <td>0.91585</td>\n",
       "      <td>russian, force, troop, attack, military, soldier, official, diplomat, capital, border</td>\n",
       "      <td>[attack, ukrainian, capital, target, russian, border, flagship, ukrainian, proud, day, russian, ...</td>\n",
       "    </tr>\n",
       "  </tbody>\n",
       "</table>\n",
       "</div>"
      ],
      "text/plain": [
       "   Document_No  Dominant_Topic  Topic_Perc_Contrib  \\\n",
       "0            0             4.0             0.87762   \n",
       "1            1             4.0             0.83501   \n",
       "2            2             1.0             0.96647   \n",
       "3            3             4.0             0.93367   \n",
       "4            4             4.0             0.55260   \n",
       "5            5             1.0             0.96647   \n",
       "6            6             2.0             0.49990   \n",
       "7            7             4.0             0.64996   \n",
       "8            8             4.0             0.91585   \n",
       "9            9             4.0             0.91585   \n",
       "\n",
       "                                                                                Keywords  \\\n",
       "0  russian, force, troop, attack, military, soldier, official, diplomat, capital, border   \n",
       "1  russian, force, troop, attack, military, soldier, official, diplomat, capital, border   \n",
       "2       region, official, people, image, senior, luhansk, leave, announce, tell, donetsk   \n",
       "3  russian, force, troop, attack, military, soldier, official, diplomat, capital, border   \n",
       "4  russian, force, troop, attack, military, soldier, official, diplomat, capital, border   \n",
       "5       region, official, people, image, senior, luhansk, leave, announce, tell, donetsk   \n",
       "6     ukraine, invasion, sanction, support, invade, weapon, people, include, help, share   \n",
       "7  russian, force, troop, attack, military, soldier, official, diplomat, capital, border   \n",
       "8  russian, force, troop, attack, military, soldier, official, diplomat, capital, border   \n",
       "9  russian, force, troop, attack, military, soldier, official, diplomat, capital, border   \n",
       "\n",
       "                                                                                                  Text  \n",
       "0  [russian, oil, half, russian, gas, buy, russian, oil, bucha, russian, buy, russian, oil, half, r...  \n",
       "1  [armed, force, perm, armed, force, punish, attack, russian, invader, associate, hospital, kyiv, ...  \n",
       "2  [luhansk, region, ruin, people, leave, region, region, tell, donetsk, region, photo, crowd, peop...  \n",
       "3  [russian, aggression, russian, missile, russian, occupier, already, russian, occupier, list, rus...  \n",
       "4  [bucha, ukraine, image, ukraine, require, unbelievable, russian, ambassador, happen, russian, ru...  \n",
       "5  [luhansk, region, ruin, people, leave, region, region, tell, donetsk, region, photo, crowd, peop...  \n",
       "6  [tank, russian, military, case, russian, opposition, accusation, forward, round, ukraine, talk, ...  \n",
       "7                                    [russian, military, leader, kyiv, northern, ukrainian, chernihiv]  \n",
       "8  [attack, ukrainian, capital, target, russian, border, flagship, ukrainian, proud, day, russian, ...  \n",
       "9  [attack, ukrainian, capital, target, russian, border, flagship, ukrainian, proud, day, russian, ...  "
      ]
     },
     "execution_count": 59,
     "metadata": {},
     "output_type": "execute_result"
    }
   ],
   "source": [
    "df_topic_sents_keywords = format_topics_sentences(ldamodel=lda_model, corpus=corpus, texts=data_ready)\n",
    "\n",
    "# Format\n",
    "df_dominant_topic = df_topic_sents_keywords.reset_index()\n",
    "df_dominant_topic.columns = ['Document_No', 'Dominant_Topic', 'Topic_Perc_Contrib', 'Keywords', 'Text']\n",
    "df_dominant_topic.head(10)"
   ]
  },
  {
   "cell_type": "code",
   "execution_count": null,
   "id": "0cb57d8b",
   "metadata": {},
   "outputs": [],
   "source": []
  },
  {
   "cell_type": "code",
   "execution_count": 60,
   "id": "50194bd3",
   "metadata": {},
   "outputs": [
    {
     "data": {
      "text/html": [
       "<div>\n",
       "<style scoped>\n",
       "    .dataframe tbody tr th:only-of-type {\n",
       "        vertical-align: middle;\n",
       "    }\n",
       "\n",
       "    .dataframe tbody tr th {\n",
       "        vertical-align: top;\n",
       "    }\n",
       "\n",
       "    .dataframe thead th {\n",
       "        text-align: right;\n",
       "    }\n",
       "</style>\n",
       "<table border=\"1\" class=\"dataframe\">\n",
       "  <thead>\n",
       "    <tr style=\"text-align: right;\">\n",
       "      <th></th>\n",
       "      <th>Topic_Num</th>\n",
       "      <th>Topic_Perc_Contrib</th>\n",
       "      <th>Keywords</th>\n",
       "      <th>Representative Text</th>\n",
       "    </tr>\n",
       "  </thead>\n",
       "  <tbody>\n",
       "    <tr>\n",
       "      <th>0</th>\n",
       "      <td>0.0</td>\n",
       "      <td>0.89968</td>\n",
       "      <td>ukrainian, city, kyiv, force, port, invade, tank, hit, mariupol, advance</td>\n",
       "      <td>[city, constant, air, force, large, city, kharkiv]</td>\n",
       "    </tr>\n",
       "    <tr>\n",
       "      <th>1</th>\n",
       "      <td>1.0</td>\n",
       "      <td>0.98403</td>\n",
       "      <td>region, official, people, image, senior, luhansk, leave, announce, tell, donetsk</td>\n",
       "      <td>[getty, image, anastasia, getty, image, russian, getty, image, toggle, getty, image, toggle, get...</td>\n",
       "    </tr>\n",
       "    <tr>\n",
       "      <th>2</th>\n",
       "      <td>2.0</td>\n",
       "      <td>0.95386</td>\n",
       "      <td>ukraine, invasion, sanction, support, invade, weapon, people, include, help, share</td>\n",
       "      <td>[citizen, ukraine, ready, support, ukraine, square, citizen, ukraine, ready, evil, ukraine, defe...</td>\n",
       "    </tr>\n",
       "    <tr>\n",
       "      <th>3</th>\n",
       "      <td>3.0</td>\n",
       "      <td>0.79998</td>\n",
       "      <td>apr, war, gmt, kill, accuse, statement, new, provide, authority, civilian</td>\n",
       "      <td>[rage, war, hope]</td>\n",
       "    </tr>\n",
       "    <tr>\n",
       "      <th>4</th>\n",
       "      <td>4.0</td>\n",
       "      <td>0.96624</td>\n",
       "      <td>russian, force, troop, attack, military, soldier, official, diplomat, capital, border</td>\n",
       "      <td>[leader, import, russian, oil, dependence, extensively, away, russian, energy, dependency, russi...</td>\n",
       "    </tr>\n",
       "  </tbody>\n",
       "</table>\n",
       "</div>"
      ],
      "text/plain": [
       "   Topic_Num  Topic_Perc_Contrib  \\\n",
       "0        0.0             0.89968   \n",
       "1        1.0             0.98403   \n",
       "2        2.0             0.95386   \n",
       "3        3.0             0.79998   \n",
       "4        4.0             0.96624   \n",
       "\n",
       "                                                                                Keywords  \\\n",
       "0               ukrainian, city, kyiv, force, port, invade, tank, hit, mariupol, advance   \n",
       "1       region, official, people, image, senior, luhansk, leave, announce, tell, donetsk   \n",
       "2     ukraine, invasion, sanction, support, invade, weapon, people, include, help, share   \n",
       "3              apr, war, gmt, kill, accuse, statement, new, provide, authority, civilian   \n",
       "4  russian, force, troop, attack, military, soldier, official, diplomat, capital, border   \n",
       "\n",
       "                                                                                   Representative Text  \n",
       "0                                                   [city, constant, air, force, large, city, kharkiv]  \n",
       "1  [getty, image, anastasia, getty, image, russian, getty, image, toggle, getty, image, toggle, get...  \n",
       "2  [citizen, ukraine, ready, support, ukraine, square, citizen, ukraine, ready, evil, ukraine, defe...  \n",
       "3                                                                                    [rage, war, hope]  \n",
       "4  [leader, import, russian, oil, dependence, extensively, away, russian, energy, dependency, russi...  "
      ]
     },
     "execution_count": 60,
     "metadata": {},
     "output_type": "execute_result"
    }
   ],
   "source": [
    "pd.options.display.max_colwidth = 100\n",
    "\n",
    "sent_topics_sorteddf_mallet = pd.DataFrame()\n",
    "sent_topics_outdf_grpd = df_topic_sents_keywords.groupby('Dominant_Topic')\n",
    "\n",
    "for i, grp in sent_topics_outdf_grpd:\n",
    "    sent_topics_sorteddf_mallet = pd.concat([sent_topics_sorteddf_mallet, \n",
    "                                             grp.sort_values(['Perc_Contribution'], ascending=False).head(1)], \n",
    "                                            axis=0)\n",
    "\n",
    "# Reset Index    \n",
    "sent_topics_sorteddf_mallet.reset_index(drop=True, inplace=True)\n",
    "\n",
    "# Format\n",
    "sent_topics_sorteddf_mallet.columns = ['Topic_Num', \"Topic_Perc_Contrib\", \"Keywords\", \"Representative Text\"]\n",
    "\n",
    "# Show\n",
    "sent_topics_sorteddf_mallet.head(10)"
   ]
  },
  {
   "cell_type": "code",
   "execution_count": 61,
   "id": "4344e366",
   "metadata": {},
   "outputs": [
    {
     "name": "stdout",
     "output_type": "stream",
     "text": [
      "0.174*\"ukrainian\" + 0.109*\"city\" + 0.091*\"kyiv\" + 0.047*\"force\" + 0.019*\"port\" + 0.015*\"invade\" + 0.010*\"tank\" + 0.010*\"hit\" + 0.010*\"mariupol\" + 0.008*\"advance\"\n",
      "0.130*\"region\" + 0.116*\"official\" + 0.106*\"people\" + 0.039*\"image\" + 0.036*\"senior\" + 0.029*\"luhansk\" + 0.028*\"leave\" + 0.023*\"announce\" + 0.022*\"tell\" + 0.022*\"donetsk\"\n",
      "0.360*\"ukraine\" + 0.061*\"invasion\" + 0.047*\"sanction\" + 0.018*\"support\" + 0.017*\"invade\" + 0.009*\"weapon\" + 0.009*\"people\" + 0.008*\"include\" + 0.008*\"help\" + 0.008*\"share\"\n",
      "0.138*\"apr\" + 0.094*\"war\" + 0.090*\"gmt\" + 0.023*\"kill\" + 0.022*\"accuse\" + 0.018*\"statement\" + 0.011*\"new\" + 0.010*\"provide\" + 0.008*\"authority\" + 0.008*\"civilian\"\n",
      "0.365*\"russian\" + 0.042*\"force\" + 0.034*\"troop\" + 0.020*\"attack\" + 0.016*\"military\" + 0.015*\"soldier\" + 0.012*\"official\" + 0.010*\"diplomat\" + 0.008*\"capital\" + 0.007*\"border\"\n"
     ]
    }
   ],
   "source": [
    "for topic in lda_model.print_topics(num_topics=10, num_words=10):\n",
    "    print (topic[1])"
   ]
  },
  {
   "cell_type": "markdown",
   "id": "0f4e72e7",
   "metadata": {},
   "source": [
    "### Visualization"
   ]
  },
  {
   "cell_type": "code",
   "execution_count": 62,
   "id": "a2a3b11a",
   "metadata": {},
   "outputs": [
    {
     "data": {
      "text/html": [
       "<div>\n",
       "<style scoped>\n",
       "    .dataframe tbody tr th:only-of-type {\n",
       "        vertical-align: middle;\n",
       "    }\n",
       "\n",
       "    .dataframe tbody tr th {\n",
       "        vertical-align: top;\n",
       "    }\n",
       "\n",
       "    .dataframe thead th {\n",
       "        text-align: right;\n",
       "    }\n",
       "</style>\n",
       "<table border=\"1\" class=\"dataframe\">\n",
       "  <thead>\n",
       "    <tr style=\"text-align: right;\">\n",
       "      <th></th>\n",
       "      <th>Topic_Num</th>\n",
       "      <th>Topic_Perc_Contrib</th>\n",
       "      <th>Keywords</th>\n",
       "      <th>Representative Text</th>\n",
       "    </tr>\n",
       "  </thead>\n",
       "  <tbody>\n",
       "    <tr>\n",
       "      <th>0</th>\n",
       "      <td>0.0</td>\n",
       "      <td>0.89968</td>\n",
       "      <td>ukrainian, city, kyiv, force, port, invade, tank, hit, mariupol, advance</td>\n",
       "      <td>[city, constant, air, force, large, city, kharkiv]</td>\n",
       "    </tr>\n",
       "    <tr>\n",
       "      <th>1</th>\n",
       "      <td>1.0</td>\n",
       "      <td>0.98403</td>\n",
       "      <td>region, official, people, image, senior, luhansk, leave, announce, tell, donetsk</td>\n",
       "      <td>[getty, image, anastasia, getty, image, russian, getty, image, toggle, getty, image, toggle, get...</td>\n",
       "    </tr>\n",
       "    <tr>\n",
       "      <th>2</th>\n",
       "      <td>2.0</td>\n",
       "      <td>0.95386</td>\n",
       "      <td>ukraine, invasion, sanction, support, invade, weapon, people, include, help, share</td>\n",
       "      <td>[citizen, ukraine, ready, support, ukraine, square, citizen, ukraine, ready, evil, ukraine, defe...</td>\n",
       "    </tr>\n",
       "    <tr>\n",
       "      <th>3</th>\n",
       "      <td>3.0</td>\n",
       "      <td>0.79998</td>\n",
       "      <td>apr, war, gmt, kill, accuse, statement, new, provide, authority, civilian</td>\n",
       "      <td>[rage, war, hope]</td>\n",
       "    </tr>\n",
       "    <tr>\n",
       "      <th>4</th>\n",
       "      <td>4.0</td>\n",
       "      <td>0.96624</td>\n",
       "      <td>russian, force, troop, attack, military, soldier, official, diplomat, capital, border</td>\n",
       "      <td>[leader, import, russian, oil, dependence, extensively, away, russian, energy, dependency, russi...</td>\n",
       "    </tr>\n",
       "  </tbody>\n",
       "</table>\n",
       "</div>"
      ],
      "text/plain": [
       "   Topic_Num  Topic_Perc_Contrib  \\\n",
       "0        0.0             0.89968   \n",
       "1        1.0             0.98403   \n",
       "2        2.0             0.95386   \n",
       "3        3.0             0.79998   \n",
       "4        4.0             0.96624   \n",
       "\n",
       "                                                                                Keywords  \\\n",
       "0               ukrainian, city, kyiv, force, port, invade, tank, hit, mariupol, advance   \n",
       "1       region, official, people, image, senior, luhansk, leave, announce, tell, donetsk   \n",
       "2     ukraine, invasion, sanction, support, invade, weapon, people, include, help, share   \n",
       "3              apr, war, gmt, kill, accuse, statement, new, provide, authority, civilian   \n",
       "4  russian, force, troop, attack, military, soldier, official, diplomat, capital, border   \n",
       "\n",
       "                                                                                   Representative Text  \n",
       "0                                                   [city, constant, air, force, large, city, kharkiv]  \n",
       "1  [getty, image, anastasia, getty, image, russian, getty, image, toggle, getty, image, toggle, get...  \n",
       "2  [citizen, ukraine, ready, support, ukraine, square, citizen, ukraine, ready, evil, ukraine, defe...  \n",
       "3                                                                                    [rage, war, hope]  \n",
       "4  [leader, import, russian, oil, dependence, extensively, away, russian, energy, dependency, russi...  "
      ]
     },
     "execution_count": 62,
     "metadata": {},
     "output_type": "execute_result"
    }
   ],
   "source": [
    "sent_topics_sorteddf_mallet"
   ]
  },
  {
   "cell_type": "code",
   "execution_count": 63,
   "id": "f8ff4e77",
   "metadata": {},
   "outputs": [
    {
     "data": {
      "text/html": [
       "<div>\n",
       "<style scoped>\n",
       "    .dataframe tbody tr th:only-of-type {\n",
       "        vertical-align: middle;\n",
       "    }\n",
       "\n",
       "    .dataframe tbody tr th {\n",
       "        vertical-align: top;\n",
       "    }\n",
       "\n",
       "    .dataframe thead th {\n",
       "        text-align: right;\n",
       "    }\n",
       "</style>\n",
       "<table border=\"1\" class=\"dataframe\">\n",
       "  <thead>\n",
       "    <tr style=\"text-align: right;\">\n",
       "      <th></th>\n",
       "      <th>Document_No</th>\n",
       "      <th>Dominant_Topic</th>\n",
       "      <th>Topic_Perc_Contrib</th>\n",
       "      <th>Keywords</th>\n",
       "      <th>Text</th>\n",
       "    </tr>\n",
       "  </thead>\n",
       "  <tbody>\n",
       "    <tr>\n",
       "      <th>0</th>\n",
       "      <td>0</td>\n",
       "      <td>4.0</td>\n",
       "      <td>0.87762</td>\n",
       "      <td>russian, force, troop, attack, military, soldier, official, diplomat, capital, border</td>\n",
       "      <td>[russian, oil, half, russian, gas, buy, russian, oil, bucha, russian, buy, russian, oil, half, r...</td>\n",
       "    </tr>\n",
       "    <tr>\n",
       "      <th>1</th>\n",
       "      <td>1</td>\n",
       "      <td>4.0</td>\n",
       "      <td>0.83501</td>\n",
       "      <td>russian, force, troop, attack, military, soldier, official, diplomat, capital, border</td>\n",
       "      <td>[armed, force, perm, armed, force, punish, attack, russian, invader, associate, hospital, kyiv, ...</td>\n",
       "    </tr>\n",
       "    <tr>\n",
       "      <th>2</th>\n",
       "      <td>2</td>\n",
       "      <td>1.0</td>\n",
       "      <td>0.96647</td>\n",
       "      <td>region, official, people, image, senior, luhansk, leave, announce, tell, donetsk</td>\n",
       "      <td>[luhansk, region, ruin, people, leave, region, region, tell, donetsk, region, photo, crowd, peop...</td>\n",
       "    </tr>\n",
       "    <tr>\n",
       "      <th>3</th>\n",
       "      <td>3</td>\n",
       "      <td>4.0</td>\n",
       "      <td>0.93367</td>\n",
       "      <td>russian, force, troop, attack, military, soldier, official, diplomat, capital, border</td>\n",
       "      <td>[russian, aggression, russian, missile, russian, occupier, already, russian, occupier, list, rus...</td>\n",
       "    </tr>\n",
       "    <tr>\n",
       "      <th>4</th>\n",
       "      <td>4</td>\n",
       "      <td>4.0</td>\n",
       "      <td>0.55260</td>\n",
       "      <td>russian, force, troop, attack, military, soldier, official, diplomat, capital, border</td>\n",
       "      <td>[bucha, ukraine, image, ukraine, require, unbelievable, russian, ambassador, happen, russian, ru...</td>\n",
       "    </tr>\n",
       "  </tbody>\n",
       "</table>\n",
       "</div>"
      ],
      "text/plain": [
       "   Document_No  Dominant_Topic  Topic_Perc_Contrib  \\\n",
       "0            0             4.0             0.87762   \n",
       "1            1             4.0             0.83501   \n",
       "2            2             1.0             0.96647   \n",
       "3            3             4.0             0.93367   \n",
       "4            4             4.0             0.55260   \n",
       "\n",
       "                                                                                Keywords  \\\n",
       "0  russian, force, troop, attack, military, soldier, official, diplomat, capital, border   \n",
       "1  russian, force, troop, attack, military, soldier, official, diplomat, capital, border   \n",
       "2       region, official, people, image, senior, luhansk, leave, announce, tell, donetsk   \n",
       "3  russian, force, troop, attack, military, soldier, official, diplomat, capital, border   \n",
       "4  russian, force, troop, attack, military, soldier, official, diplomat, capital, border   \n",
       "\n",
       "                                                                                                  Text  \n",
       "0  [russian, oil, half, russian, gas, buy, russian, oil, bucha, russian, buy, russian, oil, half, r...  \n",
       "1  [armed, force, perm, armed, force, punish, attack, russian, invader, associate, hospital, kyiv, ...  \n",
       "2  [luhansk, region, ruin, people, leave, region, region, tell, donetsk, region, photo, crowd, peop...  \n",
       "3  [russian, aggression, russian, missile, russian, occupier, already, russian, occupier, list, rus...  \n",
       "4  [bucha, ukraine, image, ukraine, require, unbelievable, russian, ambassador, happen, russian, ru...  "
      ]
     },
     "execution_count": 63,
     "metadata": {},
     "output_type": "execute_result"
    }
   ],
   "source": [
    "df_dominant_topic.head()"
   ]
  },
  {
   "cell_type": "code",
   "execution_count": null,
   "id": "6e2d0e63",
   "metadata": {},
   "outputs": [],
   "source": []
  },
  {
   "cell_type": "code",
   "execution_count": null,
   "id": "d0bd6fe8",
   "metadata": {},
   "outputs": [],
   "source": []
  },
  {
   "cell_type": "code",
   "execution_count": null,
   "id": "2468bcfd",
   "metadata": {},
   "outputs": [],
   "source": []
  },
  {
   "cell_type": "code",
   "execution_count": 35,
   "id": "a94bedcb",
   "metadata": {},
   "outputs": [
    {
     "data": {
      "text/plain": [
       "Document_No                                                                                                             0\n",
       "Dominant_Topic                                                                                                        4.0\n",
       "Topic_Perc_Contrib                                                                                                0.84945\n",
       "Keywords                           russian, ukraine, force, invasion, sanction, troop, statement, war, support, zelenskyy\n",
       "Text                  [buy, russian, oil, urge, country, half, russian, gas, export, european, country, urge, european...\n",
       "Name: 0, dtype: object"
      ]
     },
     "execution_count": 35,
     "metadata": {},
     "output_type": "execute_result"
    }
   ],
   "source": []
  },
  {
   "cell_type": "code",
   "execution_count": 65,
   "id": "f4b89248",
   "metadata": {},
   "outputs": [
    {
     "name": "stdout",
     "output_type": "stream",
     "text": [
      "Common Topic words：  ['russian']\n",
      "Topic Word Analysis：  russian\n"
     ]
    },
    {
     "data": {
      "image/png": "[encoded data removed]",
      "text/plain": [
       "<Figure size 720x576 with 1 Axes>"
      ]
     },
     "metadata": {
      "needs_background": "light"
     },
     "output_type": "display_data"
    },
    {
     "data": {
      "image/png": "[encoded data removed]",
      "text/plain": [
       "<Figure size 720x576 with 1 Axes>"
      ]
     },
     "metadata": {
      "needs_background": "light"
     },
     "output_type": "display_data"
    },
    {
     "name": "stdout",
     "output_type": "stream",
     "text": [
      "\n",
      "\n"
     ]
    }
   ],
   "source": [
    "# 得到所有主题关键词，用作计算每篇文章的top 5 关键词\n",
    "def slt_all_key_words(df_dominant_topic):\n",
    "    all_kw = [ i.replace(\" \",\"\").split(\",\") for i in df_dominant_topic[\"Keywords\"].values]\n",
    "    all_kw_unique = set()\n",
    "    for kw in all_kw:\n",
    "        all_kw_unique = set(kw) | all_kw_unique\n",
    "    return list(all_kw_unique)\n",
    "\n",
    "# 得到文章的top5关键词\n",
    "def doc_top5_words(txt,all_kv):\n",
    "    kv_dic = {} \n",
    "    for k in txt:\n",
    "        if k in all_kv:\n",
    "            kv_dic[k] = kv_dic.get(k,0) + 1\n",
    "    kv_dic = sorted(kv_dic,key=lambda x: x[1],reverse=True)\n",
    "    top5_key = []\n",
    "    for i,v in enumerate(kv_dic):\n",
    "        if i <= 4:\n",
    "            top5_key.append(v)\n",
    "    return top5_key\n",
    "\n",
    "# 统计共有关键词的词组中另一个词出现的频率\n",
    "def not_keywords_frequncy(text,common_keywords):\n",
    "    word_dic = {}\n",
    "    for grams in bigrams(text):\n",
    "        if len(set([common_keywords]) & set(grams)) >0:\n",
    "            tmp = list(set(grams).difference(set([common_keywords])))\n",
    "            for k in tmp:\n",
    "                word_dic[k] = word_dic.get(k,0) + 1\n",
    "    return word_dic\n",
    "\n",
    "\n",
    "# 对上述结果频率进行可视化\n",
    "def draw_from_dict(dicdata,RANGE=10, heng=1):\n",
    "    plt.figure(figsize=(10,8))\n",
    "    by_value = sorted(dicdata.items(),key = lambda item:item[1],reverse=True)\n",
    "    # print(by_value)\n",
    "    x = []\n",
    "    y = []\n",
    "    for d in by_value:\n",
    "        x.append(d[0])\n",
    "        y.append(d[1])\n",
    "    if heng == 0:\n",
    "        plt.bar(x[0:RANGE], y[0:RANGE])\n",
    "        plt.show()\n",
    "        return \n",
    "    elif heng == 1:\n",
    "        plt.barh(x[0:RANGE], y[0:RANGE])\n",
    "        plt.show()\n",
    "        return \n",
    "    else:\n",
    "        return None\n",
    "\n",
    "# 得到所有关键词\n",
    "all_key_words = slt_all_key_words(df_dominant_topic)\n",
    "\n",
    "# 任取两篇文章进行分析(自己选择文章)\n",
    "news_tmp_1 = df_dominant_topic.iloc[0]\n",
    "news_tmp_2 = df_dominant_topic.iloc[1]\n",
    "\n",
    "# 文章文本\n",
    "news_text_1 = news_tmp_1[\"Text\"]\n",
    "news_text_2 = news_tmp_2[\"Text\"]\n",
    "\n",
    "# 得到文章关键词\n",
    "keys_word_1 = doc_top5_words(news_text_1,all_key_words)\n",
    "keys_word_2 =  doc_top5_words(news_text_2,all_key_words)\n",
    "\n",
    "# 共有关键词\n",
    "common_keywords = list(set(keys_word_1) & set(keys_word_2))\n",
    "print(\"Common Topic words： \",common_keywords )\n",
    "\n",
    "\n",
    "\n",
    "# 依次分析每个keyword 的另外的词组的评率\n",
    "for keyword in common_keywords:\n",
    "    print(\"Topic Word Analysis： \",keyword)\n",
    "    word_dic_1 = not_keywords_frequncy(news_text_1,keyword)\n",
    "    draw_from_dict(word_dic_1)\n",
    "\n",
    "    word_dic_2 = not_keywords_frequncy(news_text_2,keyword)\n",
    "    draw_from_dict(word_dic_2)\n",
    "\n",
    "    print(\"\\n\")"
   ]
  },
  {
   "cell_type": "code",
   "execution_count": 91,
   "id": "cd1525b5",
   "metadata": {},
   "outputs": [
    {
     "name": "stdout",
     "output_type": "stream",
     "text": [
      "Common Topic words：  []\n"
     ]
    }
   ],
   "source": [
    "# 得到所有主题关键词，用作计算每篇文章的top 5 关键词\n",
    "def slt_all_key_words(df_dominant_topic):\n",
    "    all_kw = [ i.replace(\" \",\"\").split(\",\") for i in df_dominant_topic[\"Keywords\"].values]\n",
    "    all_kw_unique = set()\n",
    "    for kw in all_kw:\n",
    "        all_kw_unique = set(kw) | all_kw_unique\n",
    "    return list(all_kw_unique)\n",
    "\n",
    "# 得到文章的top5关键词\n",
    "def doc_top5_words(txt,all_kv):\n",
    "    kv_dic = {} \n",
    "    for k in txt:\n",
    "        if k in all_kv:\n",
    "            kv_dic[k] = kv_dic.get(k,0) + 1\n",
    "    kv_dic = sorted(kv_dic,key=lambda x: x[1],reverse=True)\n",
    "    top5_key = []\n",
    "    for i,v in enumerate(kv_dic):\n",
    "        if i <= 4:\n",
    "            top5_key.append(v)\n",
    "    return top5_key\n",
    "\n",
    "# 统计共有关键词的词组中另一个词出现的频率\n",
    "def not_keywords_frequncy(text,common_keywords):\n",
    "    word_dic = {}\n",
    "    for grams in bigrams(text):\n",
    "        if len(set([common_keywords]) & set(grams)) >0:\n",
    "            tmp = list(set(grams).difference(set([common_keywords])))\n",
    "            for k in tmp:\n",
    "                word_dic[k] = word_dic.get(k,0) + 1\n",
    "    return word_dic\n",
    "\n",
    "\n",
    "# 对上述结果频率进行可视化\n",
    "def draw_from_dict(dicdata,RANGE=10, heng=1):\n",
    "    plt.figure(figsize=(10,8))\n",
    "    by_value = sorted(dicdata.items(),key = lambda item:item[1],reverse=True)\n",
    "    # print(by_value)\n",
    "    x = []\n",
    "    y = []\n",
    "    for d in by_value:\n",
    "        x.append(d[0])\n",
    "        y.append(d[1])\n",
    "    if heng == 0:\n",
    "        plt.bar(x[0:RANGE], y[0:RANGE])\n",
    "        plt.show()\n",
    "        return \n",
    "    elif heng == 1:\n",
    "        plt.barh(x[0:RANGE], y[0:RANGE])\n",
    "        plt.show()\n",
    "        return \n",
    "    else:\n",
    "        return None\n",
    "\n",
    "# 得到所有关键词\n",
    "all_key_words = slt_all_key_words(df_dominant_topic)\n",
    "\n",
    "# 任取两篇文章进行分析(自己选择文章)\n",
    "news_tmp_1 = df_dominant_topic.iloc[0]\n",
    "news_tmp_2 = df_dominant_topic.iloc[2]\n",
    "\n",
    "# 文章文本\n",
    "news_text_1 = news_tmp_1[\"Text\"]\n",
    "news_text_2 = news_tmp_2[\"Text\"]\n",
    "\n",
    "# 得到文章关键词\n",
    "keys_word_1 = doc_top5_words(news_text_1,all_key_words)\n",
    "keys_word_2 =  doc_top5_words(news_text_2,all_key_words)\n",
    "\n",
    "# 共有关键词\n",
    "common_keywords = list(set(keys_word_1) & set(keys_word_2))\n",
    "print(\"Common Topic words： \",common_keywords )\n",
    "\n",
    "\n",
    "\n",
    "# 依次分析每个keyword 的另外的词组的评率\n",
    "for keyword in common_keywords:\n",
    "    print(\"Topic Word Analysis： \",keyword)\n",
    "    word_dic_1 = not_keywords_frequncy(news_text_1,keyword)\n",
    "    draw_from_dict(word_dic_1)\n",
    "\n",
    "    word_dic_2 = not_keywords_frequncy(news_text_2,keyword)\n",
    "    draw_from_dict(word_dic_2)\n",
    "\n",
    "    print(\"\\n\")"
   ]
  },
  {
   "cell_type": "code",
   "execution_count": 92,
   "id": "57d86282",
   "metadata": {
    "scrolled": false
   },
   "outputs": [
    {
     "name": "stdout",
     "output_type": "stream",
     "text": [
      "Common Topic words：  ['russian', 'force']\n",
      "Topic Word Analysis：  russian\n"
     ]
    },
    {
     "data": {
      "image/png": "[encoded data removed]",
      "text/plain": [
       "<Figure size 720x576 with 1 Axes>"
      ]
     },
     "metadata": {
      "needs_background": "light"
     },
     "output_type": "display_data"
    },
    {
     "data": {
      "image/png": "[encoded data removed]",
      "text/plain": [
       "<Figure size 720x576 with 1 Axes>"
      ]
     },
     "metadata": {
      "needs_background": "light"
     },
     "output_type": "display_data"
    },
    {
     "name": "stdout",
     "output_type": "stream",
     "text": [
      "\n",
      "\n",
      "Topic Word Analysis：  force\n"
     ]
    },
    {
     "data": {
      "image/png": "[encoded data removed]",
      "text/plain": [
       "<Figure size 720x576 with 1 Axes>"
      ]
     },
     "metadata": {
      "needs_background": "light"
     },
     "output_type": "display_data"
    },
    {
     "data": {
      "image/png": "[encoded data removed]",
      "text/plain": [
       "<Figure size 720x576 with 1 Axes>"
      ]
     },
     "metadata": {
      "needs_background": "light"
     },
     "output_type": "display_data"
    },
    {
     "name": "stdout",
     "output_type": "stream",
     "text": [
      "\n",
      "\n"
     ]
    }
   ],
   "source": [
    "# 得到所有主题关键词，用作计算每篇文章的top 5 关键词\n",
    "def slt_all_key_words(df_dominant_topic):\n",
    "    all_kw = [ i.replace(\" \",\"\").split(\",\") for i in df_dominant_topic[\"Keywords\"].values]\n",
    "    all_kw_unique = set()\n",
    "    for kw in all_kw:\n",
    "        all_kw_unique = set(kw) | all_kw_unique\n",
    "    return list(all_kw_unique)\n",
    "\n",
    "# 得到文章的top5关键词\n",
    "def doc_top5_words(txt,all_kv):\n",
    "    kv_dic = {} \n",
    "    for k in txt:\n",
    "        if k in all_kv:\n",
    "            kv_dic[k] = kv_dic.get(k,0) + 1\n",
    "    kv_dic = sorted(kv_dic,key=lambda x: x[1],reverse=True)\n",
    "    top5_key = []\n",
    "    for i,v in enumerate(kv_dic):\n",
    "        if i <= 4:\n",
    "            top5_key.append(v)\n",
    "    return top5_key\n",
    "\n",
    "# 统计共有关键词的词组中另一个词出现的频率\n",
    "def not_keywords_frequncy(text,common_keywords):\n",
    "    word_dic = {}\n",
    "    for grams in bigrams(text):\n",
    "        if len(set([common_keywords]) & set(grams)) >0:\n",
    "            tmp = list(set(grams).difference(set([common_keywords])))\n",
    "            for k in tmp:\n",
    "                word_dic[k] = word_dic.get(k,0) + 1\n",
    "    return word_dic\n",
    "\n",
    "\n",
    "# 对上述结果频率进行可视化\n",
    "def draw_from_dict(dicdata,RANGE=10, heng=1):\n",
    "    plt.figure(figsize=(10,8))\n",
    "    by_value = sorted(dicdata.items(),key = lambda item:item[1],reverse=True)\n",
    "    # print(by_value)\n",
    "    x = []\n",
    "    y = []\n",
    "    for d in by_value:\n",
    "        x.append(d[0])\n",
    "        y.append(d[1])\n",
    "    if heng == 0:\n",
    "        plt.bar(x[0:RANGE], y[0:RANGE])\n",
    "        plt.show()\n",
    "        return \n",
    "    elif heng == 1:\n",
    "        plt.barh(x[0:RANGE], y[0:RANGE])\n",
    "        plt.show()\n",
    "        return \n",
    "    else:\n",
    "        return None\n",
    "\n",
    "# 得到所有关键词\n",
    "all_key_words = slt_all_key_words(df_dominant_topic)\n",
    "\n",
    "# 任取两篇文章进行分析(自己选择文章)\n",
    "news_tmp_1 = df_dominant_topic.iloc[0]\n",
    "news_tmp_2 = df_dominant_topic.iloc[3]\n",
    "\n",
    "# 文章文本\n",
    "news_text_1 = news_tmp_1[\"Text\"]\n",
    "news_text_2 = news_tmp_2[\"Text\"]\n",
    "\n",
    "# 得到文章关键词\n",
    "keys_word_1 = doc_top5_words(news_text_1,all_key_words)\n",
    "keys_word_2 =  doc_top5_words(news_text_2,all_key_words)\n",
    "\n",
    "# 共有关键词\n",
    "common_keywords = list(set(keys_word_1) & set(keys_word_2))\n",
    "print(\"Common Topic words： \",common_keywords )\n",
    "\n",
    "\n",
    "\n",
    "# 依次分析每个keyword 的另外的词组的评率\n",
    "for keyword in common_keywords:\n",
    "    print(\"Topic Word Analysis： \",keyword)\n",
    "    word_dic_1 = not_keywords_frequncy(news_text_1,keyword)\n",
    "    draw_from_dict(word_dic_1)\n",
    "\n",
    "    word_dic_2 = not_keywords_frequncy(news_text_2,keyword)\n",
    "    draw_from_dict(word_dic_2)\n",
    "\n",
    "    print(\"\\n\")"
   ]
  },
  {
   "cell_type": "code",
   "execution_count": 93,
   "id": "6eff24c4",
   "metadata": {},
   "outputs": [
    {
     "name": "stdout",
     "output_type": "stream",
     "text": [
      "Common Topic words：  ['russian']\n",
      "Topic Word Analysis：  russian\n"
     ]
    },
    {
     "data": {
      "image/png": "[encoded data removed]",
      "text/plain": [
       "<Figure size 720x576 with 1 Axes>"
      ]
     },
     "metadata": {
      "needs_background": "light"
     },
     "output_type": "display_data"
    },
    {
     "data": {
      "image/png": "[encoded data removed]",
      "text/plain": [
       "<Figure size 720x576 with 1 Axes>"
      ]
     },
     "metadata": {
      "needs_background": "light"
     },
     "output_type": "display_data"
    },
    {
     "name": "stdout",
     "output_type": "stream",
     "text": [
      "\n",
      "\n"
     ]
    }
   ],
   "source": [
    "# 得到所有主题关键词，用作计算每篇文章的top 5 关键词\n",
    "def slt_all_key_words(df_dominant_topic):\n",
    "    all_kw = [ i.replace(\" \",\"\").split(\",\") for i in df_dominant_topic[\"Keywords\"].values]\n",
    "    all_kw_unique = set()\n",
    "    for kw in all_kw:\n",
    "        all_kw_unique = set(kw) | all_kw_unique\n",
    "    return list(all_kw_unique)\n",
    "\n",
    "# 得到文章的top5关键词\n",
    "def doc_top5_words(txt,all_kv):\n",
    "    kv_dic = {} \n",
    "    for k in txt:\n",
    "        if k in all_kv:\n",
    "            kv_dic[k] = kv_dic.get(k,0) + 1\n",
    "    kv_dic = sorted(kv_dic,key=lambda x: x[1],reverse=True)\n",
    "    top5_key = []\n",
    "    for i,v in enumerate(kv_dic):\n",
    "        if i <= 4:\n",
    "            top5_key.append(v)\n",
    "    return top5_key\n",
    "\n",
    "# 统计共有关键词的词组中另一个词出现的频率\n",
    "def not_keywords_frequncy(text,common_keywords):\n",
    "    word_dic = {}\n",
    "    for grams in bigrams(text):\n",
    "        if len(set([common_keywords]) & set(grams)) >0:\n",
    "            tmp = list(set(grams).difference(set([common_keywords])))\n",
    "            for k in tmp:\n",
    "                word_dic[k] = word_dic.get(k,0) + 1\n",
    "    return word_dic\n",
    "\n",
    "\n",
    "# 对上述结果频率进行可视化\n",
    "def draw_from_dict(dicdata,RANGE=10, heng=1):\n",
    "    plt.figure(figsize=(10,8))\n",
    "    by_value = sorted(dicdata.items(),key = lambda item:item[1],reverse=True)\n",
    "    # print(by_value)\n",
    "    x = []\n",
    "    y = []\n",
    "    for d in by_value:\n",
    "        x.append(d[0])\n",
    "        y.append(d[1])\n",
    "    if heng == 0:\n",
    "        plt.bar(x[0:RANGE], y[0:RANGE])\n",
    "        plt.show()\n",
    "        return \n",
    "    elif heng == 1:\n",
    "        plt.barh(x[0:RANGE], y[0:RANGE])\n",
    "        plt.show()\n",
    "        return \n",
    "    else:\n",
    "        return None\n",
    "\n",
    "# 得到所有关键词\n",
    "all_key_words = slt_all_key_words(df_dominant_topic)\n",
    "\n",
    "# 任取两篇文章进行分析(自己选择文章)\n",
    "news_tmp_1 = df_dominant_topic.iloc[1]\n",
    "news_tmp_2 = df_dominant_topic.iloc[4]\n",
    "\n",
    "# 文章文本\n",
    "news_text_1 = news_tmp_1[\"Text\"]\n",
    "news_text_2 = news_tmp_2[\"Text\"]\n",
    "\n",
    "# 得到文章关键词\n",
    "keys_word_1 = doc_top5_words(news_text_1,all_key_words)\n",
    "keys_word_2 =  doc_top5_words(news_text_2,all_key_words)\n",
    "\n",
    "# 共有关键词\n",
    "common_keywords = list(set(keys_word_1) & set(keys_word_2))\n",
    "print(\"Common Topic words： \",common_keywords )\n",
    "\n",
    "\n",
    "\n",
    "# 依次分析每个keyword 的另外的词组的评率\n",
    "for keyword in common_keywords:\n",
    "    print(\"Topic Word Analysis： \",keyword)\n",
    "    word_dic_1 = not_keywords_frequncy(news_text_1,keyword)\n",
    "    draw_from_dict(word_dic_1)\n",
    "\n",
    "    word_dic_2 = not_keywords_frequncy(news_text_2,keyword)\n",
    "    draw_from_dict(word_dic_2)\n",
    "\n",
    "    print(\"\\n\")"
   ]
  },
  {
   "cell_type": "markdown",
   "id": "1f0a9855",
   "metadata": {},
   "source": [
    "###  Theme Pridict"
   ]
  },
  {
   "cell_type": "code",
   "execution_count": 33,
   "id": "a5fa6176",
   "metadata": {},
   "outputs": [
    {
     "data": {
      "text/html": [
       "<div>\n",
       "<style scoped>\n",
       "    .dataframe tbody tr th:only-of-type {\n",
       "        vertical-align: middle;\n",
       "    }\n",
       "\n",
       "    .dataframe tbody tr th {\n",
       "        vertical-align: top;\n",
       "    }\n",
       "\n",
       "    .dataframe thead th {\n",
       "        text-align: right;\n",
       "    }\n",
       "</style>\n",
       "<table border=\"1\" class=\"dataframe\">\n",
       "  <thead>\n",
       "    <tr style=\"text-align: right;\">\n",
       "      <th></th>\n",
       "      <th>Document_No</th>\n",
       "      <th>Dominant_Topic</th>\n",
       "      <th>Topic_Perc_Contrib</th>\n",
       "      <th>Keywords</th>\n",
       "      <th>Text</th>\n",
       "    </tr>\n",
       "  </thead>\n",
       "  <tbody>\n",
       "    <tr>\n",
       "      <th>0</th>\n",
       "      <td>0</td>\n",
       "      <td>4.0</td>\n",
       "      <td>0.84945</td>\n",
       "      <td>russian, ukraine, force, invasion, sanction, troop, statement, war, support, zelenskyy</td>\n",
       "      <td>[buy, russian, oil, urge, country, half, russian, gas, export, european, country, urge, european...</td>\n",
       "    </tr>\n",
       "    <tr>\n",
       "      <th>1</th>\n",
       "      <td>1</td>\n",
       "      <td>3.0</td>\n",
       "      <td>0.47905</td>\n",
       "      <td>russian, ukrainian, force, city, kyiv, troop, attack, military, soldier, capital</td>\n",
       "      <td>[staff, armed, force, perm, region, republic, armed, force, punish, russian, federation, attack,...</td>\n",
       "    </tr>\n",
       "    <tr>\n",
       "      <th>2</th>\n",
       "      <td>2</td>\n",
       "      <td>0.0</td>\n",
       "      <td>0.98739</td>\n",
       "      <td>region, people, official, image, accord, announce, tell, senior, luhansk, food</td>\n",
       "      <td>[civilian, region, flee, luhansk, region, ruin, thousand, people, leave, region, region, tell, d...</td>\n",
       "    </tr>\n",
       "    <tr>\n",
       "      <th>3</th>\n",
       "      <td>3</td>\n",
       "      <td>4.0</td>\n",
       "      <td>0.47451</td>\n",
       "      <td>russian, ukraine, force, invasion, sanction, troop, statement, war, support, zelenskyy</td>\n",
       "      <td>[defense, russian, aggression, russian, missile, russian, occupier, already, russian, occupier, ...</td>\n",
       "    </tr>\n",
       "    <tr>\n",
       "      <th>4</th>\n",
       "      <td>4</td>\n",
       "      <td>4.0</td>\n",
       "      <td>0.80834</td>\n",
       "      <td>russian, ukraine, force, invasion, sanction, troop, statement, war, support, zelenskyy</td>\n",
       "      <td>[allegation, russian, troop, bucha, ukraine, image, ukraine, require, greenfield, vote, bucha, c...</td>\n",
       "    </tr>\n",
       "  </tbody>\n",
       "</table>\n",
       "</div>"
      ],
      "text/plain": [
       "   Document_No  Dominant_Topic  Topic_Perc_Contrib  \\\n",
       "0            0             4.0             0.84945   \n",
       "1            1             3.0             0.47905   \n",
       "2            2             0.0             0.98739   \n",
       "3            3             4.0             0.47451   \n",
       "4            4             4.0             0.80834   \n",
       "\n",
       "                                                                                 Keywords  \\\n",
       "0  russian, ukraine, force, invasion, sanction, troop, statement, war, support, zelenskyy   \n",
       "1        russian, ukrainian, force, city, kyiv, troop, attack, military, soldier, capital   \n",
       "2          region, people, official, image, accord, announce, tell, senior, luhansk, food   \n",
       "3  russian, ukraine, force, invasion, sanction, troop, statement, war, support, zelenskyy   \n",
       "4  russian, ukraine, force, invasion, sanction, troop, statement, war, support, zelenskyy   \n",
       "\n",
       "                                                                                                  Text  \n",
       "0  [buy, russian, oil, urge, country, half, russian, gas, export, european, country, urge, european...  \n",
       "1  [staff, armed, force, perm, region, republic, armed, force, punish, russian, federation, attack,...  \n",
       "2  [civilian, region, flee, luhansk, region, ruin, thousand, people, leave, region, region, tell, d...  \n",
       "3  [defense, russian, aggression, russian, missile, russian, occupier, already, russian, occupier, ...  \n",
       "4  [allegation, russian, troop, bucha, ukraine, image, ukraine, require, greenfield, vote, bucha, c...  "
      ]
     },
     "execution_count": 33,
     "metadata": {},
     "output_type": "execute_result"
    }
   ],
   "source": [
    "df_dominant_topic.head()"
   ]
  },
  {
   "cell_type": "code",
   "execution_count": 67,
   "id": "9b962ab1",
   "metadata": {},
   "outputs": [],
   "source": [
    "\"\"\"word2vec：将词转化成向量\"\"\"\n",
    "def word2vec_feature(data,emb_size = 32 ):\n",
    "\n",
    "    sentences = data['Text'].values.tolist()\n",
    "\n",
    "    model = Word2Vec(sentences, vector_size=emb_size, window=6, min_count=5, sg=0, hs=0, seed=1, epochs=5)\n",
    "\n",
    "    emb_matrix = []\n",
    "\n",
    "    for seq in sentences:\n",
    "        vec = []\n",
    "        for w in seq:\n",
    "            if w in model.wv:\n",
    "                vec.append(model.wv[w])\n",
    "        if len(vec) > 0:\n",
    "            emb_matrix.append(np.mean(vec, axis=0))\n",
    "        else:\n",
    "            emb_matrix.append([0] * emb_size)\n",
    "    \n",
    "    vec_feature = pd.DataFrame(emb_matrix,columns=['tag_emb_{}'.format(i) for i in range(emb_size)])\n",
    "    return vec_feature"
   ]
  },
  {
   "cell_type": "code",
   "execution_count": 68,
   "id": "7d69b8cf",
   "metadata": {},
   "outputs": [],
   "source": [
    "\"\"\"Word2Vec 编码\"\"\"\n",
    "embed_size = 32\n",
    "vec_feature = word2vec_feature(df_dominant_topic,emb_size = embed_size)"
   ]
  },
  {
   "cell_type": "code",
   "execution_count": 69,
   "id": "ea2cb996",
   "metadata": {},
   "outputs": [],
   "source": [
    "theme_label = df_dominant_topic[\"Dominant_Topic\"]"
   ]
  },
  {
   "cell_type": "code",
   "execution_count": 70,
   "id": "56fd0132",
   "metadata": {},
   "outputs": [],
   "source": [
    "from sklearn.model_selection import train_test_split"
   ]
  },
  {
   "cell_type": "code",
   "execution_count": 71,
   "id": "b0805aea",
   "metadata": {},
   "outputs": [],
   "source": [
    "# divide data\n",
    "x_train,x_test,y_train,y_test = train_test_split(vec_feature,theme_label)"
   ]
  },
  {
   "cell_type": "code",
   "execution_count": 72,
   "id": "e97840c3",
   "metadata": {},
   "outputs": [],
   "source": [
    "\"\"\"random forest\"\"\"\n",
    "from sklearn.multiclass import OneVsRestClassifier\n",
    "from sklearn.ensemble import RandomForestClassifier\n",
    "from itertools import cycle\n",
    "\n",
    "dtc = RandomForestClassifier(random_state=0)\n",
    "# \n",
    "clf = dtc.fit(X=x_train, y=y_train)\n",
    "\n",
    "# The probability score, y_score, \n",
    "# is a matrix with a shape of (number of test set entries, number of classification species).\n",
    "\n",
    "y_score = clf.predict_proba(x_test)  "
   ]
  },
  {
   "cell_type": "code",
   "execution_count": 73,
   "id": "b1a7e230",
   "metadata": {},
   "outputs": [
    {
     "data": {
      "text/plain": [
       "array([[1.  , 0.  , 0.  , 0.  , 0.  ],\n",
       "       [0.  , 0.  , 1.  , 0.  , 0.  ],\n",
       "       [0.  , 0.  , 0.74, 0.  , 0.26],\n",
       "       ...,\n",
       "       [0.04, 0.02, 0.87, 0.01, 0.06],\n",
       "       [0.  , 0.  , 0.86, 0.  , 0.14],\n",
       "       [0.28, 0.  , 0.  , 0.  , 0.72]])"
      ]
     },
     "execution_count": 73,
     "metadata": {},
     "output_type": "execute_result"
    }
   ],
   "source": [
    "y_score"
   ]
  },
  {
   "cell_type": "code",
   "execution_count": 83,
   "id": "a0188342",
   "metadata": {},
   "outputs": [
    {
     "data": {
      "text/plain": [
       "<Figure size 1440x1440 with 0 Axes>"
      ]
     },
     "execution_count": 83,
     "metadata": {},
     "output_type": "execute_result"
    },
    {
     "data": {
      "text/plain": [
       "<Figure size 1440x1440 with 0 Axes>"
      ]
     },
     "metadata": {},
     "output_type": "display_data"
    }
   ],
   "source": []
  },
  {
   "cell_type": "code",
   "execution_count": 88,
   "id": "a3fca72e",
   "metadata": {},
   "outputs": [
    {
     "data": {
      "image/png": "[encoded data removed]",
      "text/plain": [
       "<Figure size 432x288 with 1 Axes>"
      ]
     },
     "metadata": {
      "needs_background": "light"
     },
     "output_type": "display_data"
    }
   ],
   "source": [
    "# 进行roc曲线可视化，auc值在0-1，值越大，预测准确率越高\n",
    "\n",
    "y_label = pd.get_dummies(y_test).values\n",
    "y_score = clf.predict_proba(x_test)\n",
    "n_classes = 5\n",
    "\n",
    "\n",
    "# 计算每一类的ROC\n",
    "fpr = dict()\n",
    "tpr = dict()\n",
    "roc_auc = dict()\n",
    "for i in range(n_classes):\n",
    "    fpr[i], tpr[i], _ = roc_curve(y_label[:, i], y_score[:, i])\n",
    "    roc_auc[i] = auc(fpr[i], tpr[i])\n",
    " \n",
    "\n",
    "fpr[\"micro\"], tpr[\"micro\"], _ = roc_curve(y_label.ravel(), y_score.ravel())\n",
    "roc_auc[\"micro\"] = auc(fpr[\"micro\"], tpr[\"micro\"])\n",
    " \n",
    " \n",
    "plt.plot(fpr[\"micro\"], tpr[\"micro\"],\n",
    "         label='micro-average ROC curve (area = {0:0.2f})'\n",
    "               ''.format(roc_auc[\"micro\"]),\n",
    "         color='navy', linestyle=':', linewidth=4)\n",
    " \n",
    "colors = cycle(['aqua', 'darkorange', 'cornflowerblue'])\n",
    "for i, color in zip(range(n_classes), colors):\n",
    "    plt.plot(fpr[i], tpr[i], color=color, \n",
    "             label='ROC curve of class {0} (area = {1:0.2f})'\n",
    "             ''.format(i, roc_auc[i]))\n",
    "    \n",
    "\n",
    "plt.plot([0, 1], [0, 1], 'k--')\n",
    "\n",
    "\n",
    "plt.xlim([0.0, 1.0])\n",
    "plt.ylim([0.0, 1.05])\n",
    "plt.xlabel('False Positive Rate')\n",
    "plt.ylabel('True Positive Rate')\n",
    "plt.title('multi-calss ROC')\n",
    "plt.legend(loc=\"lower right\")\n",
    "\n",
    "plt.show()"
   ]
  },
  {
   "cell_type": "code",
   "execution_count": 89,
   "id": "ef69c32b",
   "metadata": {},
   "outputs": [
    {
     "data": {
      "text/plain": [
       "LogisticRegression(max_iter=1000, multi_class='multinomial', solver='newton-cg')"
      ]
     },
     "execution_count": 89,
     "metadata": {},
     "output_type": "execute_result"
    }
   ],
   "source": [
    "\"\"\"LR 逻辑回归多分类\"\"\"\n",
    "from sklearn.linear_model import LogisticRegression\n",
    "\n",
    "# 训练\n",
    "clf = LogisticRegression(multi_class=\"multinomial\", solver=\"newton-cg\", max_iter=1000)\n",
    "clf.fit(x_train,y_train)\n"
   ]
  },
  {
   "cell_type": "code",
   "execution_count": 90,
   "id": "a82aa894",
   "metadata": {},
   "outputs": [
    {
     "data": {
      "image/png": "[encoded data removed]",
      "text/plain": [
       "<Figure size 432x288 with 1 Axes>"
      ]
     },
     "metadata": {
      "needs_background": "light"
     },
     "output_type": "display_data"
    }
   ],
   "source": [
    "# 进行roc曲线可视化，auc值在0-1，值越大，预测准确率越高\n",
    "y_label = pd.get_dummies(y_test).values\n",
    "y_score = clf.predict_proba(x_test)\n",
    "n_classes = 5\n",
    "\n",
    "\n",
    "# 计算每一类的ROC\n",
    "fpr = dict()\n",
    "tpr = dict()\n",
    "roc_auc = dict()\n",
    "for i in range(n_classes):\n",
    "    fpr[i], tpr[i], _ = roc_curve(y_label[:, i], y_score[:, i])\n",
    "    roc_auc[i] = auc(fpr[i], tpr[i])\n",
    " \n",
    "\n",
    "fpr[\"micro\"], tpr[\"micro\"], _ = roc_curve(y_label.ravel(), y_score.ravel())\n",
    "roc_auc[\"micro\"] = auc(fpr[\"micro\"], tpr[\"micro\"])\n",
    " \n",
    " \n",
    "plt.plot(fpr[\"micro\"], tpr[\"micro\"],\n",
    "         label='micro-average ROC curve (area = {0:0.2f})'\n",
    "               ''.format(roc_auc[\"micro\"]),\n",
    "         color='navy', linestyle=':', linewidth=4)\n",
    " \n",
    "colors = cycle(['aqua', 'darkorange', 'cornflowerblue'])\n",
    "for i, color in zip(range(n_classes), colors):\n",
    "    plt.plot(fpr[i], tpr[i], color=color, \n",
    "             label='ROC curve of class {0} (area = {1:0.2f})'\n",
    "             ''.format(i, roc_auc[i]))\n",
    " \n",
    "plt.plot([0, 1], [0, 1], 'k--')\n",
    "plt.xlim([0.0, 1.0])\n",
    "plt.ylim([0.0, 1.05])\n",
    "plt.xlabel('False Positive Rate')\n",
    "plt.ylabel('True Positive Rate')\n",
    "plt.title('multi-calss ROC')\n",
    "plt.legend(loc=\"lower right\")\n",
    "plt.show()"
   ]
  },
  {
   "cell_type": "markdown",
   "id": "4dd472f4",
   "metadata": {},
   "source": [
    "# Results and Insights\n",
    "\n",
    "## Sample 1 \n",
    "\n",
    "![title](../assets/m2o2.png)\n",
    "\n",
    "## Sample 2 \n",
    "\n",
    "![title](../assets/m2o1.png)"
   ]
  },
  {
   "cell_type": "code",
   "execution_count": null,
   "id": "a3b87332",
   "metadata": {},
   "outputs": [],
   "source": []
  }
 ],
 "metadata": {
  "kernelspec": {
   "display_name": "Python 3 (ipykernel)",
   "language": "python",
   "name": "python3"
  },
  "language_info": {
   "codemirror_mode": {
    "name": "ipython",
    "version": 3
   },
   "file_extension": ".py",
   "mimetype": "text/x-python",
   "name": "python",
   "nbconvert_exporter": "python",
   "pygments_lexer": "ipython3",
   "version": "3.9.7"
  }
 },
 "nbformat": 4,
 "nbformat_minor": 5
}
