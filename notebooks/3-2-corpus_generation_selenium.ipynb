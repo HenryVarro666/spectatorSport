{
 "cells": [
  {
   "cell_type": "code",
   "execution_count": 4,
   "id": "093c1930",
   "metadata": {},
   "outputs": [],
   "source": [
    "import pandas as pd\n",
    "from textblob import TextBlob\n",
    "from newspaper import Article\n",
    "from datetime import timedelta\n",
    "import spacy\n",
    "from collections import Counter\n",
    "from string import punctuation\n",
    "\n",
    "# from googlesearch import search\n",
    "\n",
    "\n",
    "import sys\n",
    "sys.path.append('../')\n",
    "import utility_functions\n",
    "\n"
   ]
  },
  {
   "cell_type": "code",
   "execution_count": 6,
   "id": "3f4723d6",
   "metadata": {},
   "outputs": [],
   "source": [
    "nlp = spacy.load(\"en_core_web_md\")"
   ]
  },
  {
   "cell_type": "code",
   "execution_count": 7,
   "id": "71e8d6db",
   "metadata": {},
   "outputs": [],
   "source": [
    "reference = pd.read_csv('../data/processed/input-data.csv',parse_dates=['time_parsed'])"
   ]
  },
  {
   "cell_type": "code",
   "execution_count": 8,
   "id": "635fe825",
   "metadata": {},
   "outputs": [
    {
     "data": {
      "text/plain": [
       "2921"
      ]
     },
     "execution_count": 8,
     "metadata": {},
     "output_type": "execute_result"
    }
   ],
   "source": [
    "len(reference)"
   ]
  },
  {
   "cell_type": "markdown",
   "id": "702ffcc3",
   "metadata": {},
   "source": [
    "# Starting Selenium Server"
   ]
  },
  {
   "cell_type": "code",
   "execution_count": 10,
   "id": "191865cc",
   "metadata": {},
   "outputs": [],
   "source": [
    "# Selenium Imports \n",
    "from selenium import webdriver\n",
    "from selenium.webdriver.common.keys import Keys\n",
    "from selenium.webdriver.support.ui import WebDriverWait\n",
    "from selenium.webdriver.support.ui import Select\n",
    "from selenium.webdriver.common.by import By\n",
    "from selenium.webdriver.common.keys import Keys\n",
    "from selenium.webdriver.chrome.options import Options\n",
    "from webdriver_manager.chrome import ChromeDriverManager\n",
    "from selenium.webdriver.common.action_chains import ActionChains\n",
    "\n",
    "# Utility Imports\n",
    "import copy\n",
    "from urllib.parse import urlparse\n",
    "import numpy as np\n",
    "import pandas as pd\n",
    "import re \n",
    "from pathlib import Path\n",
    "import os\n",
    "import time\n",
    "from datetime import date\n",
    "from datetime import timedelta\n",
    "from datetime import datetime\n",
    "import dateutil.parser as parser\n",
    "import urllib.request\n",
    "import random\n",
    "from dateutil.parser import parse\n",
    "cwd = os.getcwd()"
   ]
  },
  {
   "cell_type": "code",
   "execution_count": 11,
   "id": "4addf284",
   "metadata": {},
   "outputs": [
    {
     "name": "stderr",
     "output_type": "stream",
     "text": [
      "[WDM] - \n",
      "\n",
      "[WDM] - ====== WebDriver manager ======\n",
      "[WDM] - Current google-chrome version is 100.0.4896\n",
      "[WDM] - Get LATEST driver version for 100.0.4896\n",
      "[WDM] - Driver [/Users/flipflops/.wdm/drivers/chromedriver/mac64/100.0.4896.60/chromedriver] found in cache\n",
      "/usr/local/Caskroom/miniconda/base/envs/tpc-wa/lib/python3.7/site-packages/ipykernel_launcher.py:5: DeprecationWarning: executable_path has been deprecated, please pass in a Service object\n",
      "  \"\"\"\n"
     ]
    }
   ],
   "source": [
    "# Starting the selenium webserver and getting whatsapp \n",
    "userprofile = 'samarth'\n",
    "options = webdriver.ChromeOptions()\n",
    "options.add_argument(f\"user-data-dir=/Users/flipflops/Library/Application Support/Google/Chrome/Default\")\n",
    "driver = webdriver.Chrome(ChromeDriverManager().install() , options=options)"
   ]
  },
  {
   "cell_type": "code",
   "execution_count": 12,
   "id": "65e94442",
   "metadata": {},
   "outputs": [],
   "source": []
  },
  {
   "cell_type": "code",
   "execution_count": null,
   "id": "8a60cf09",
   "metadata": {},
   "outputs": [
    {
     "name": "stdout",
     "output_type": "stream",
     "text": [
      "Getting Dataset From 100 to 200 \n",
      "Searching for\n",
      "----- president joe biden brussels belgium nato summit thursday ongoing deterrence defense efforts response russia unprovoked unjustified attack ukraine ironclad commitment nato psaki after:2022-03-15 before:2022-03-17\n",
      "https://www.whitehouse.gov/briefing-room/statements-releases/2022/03/15/statement-by-press-secretary-jen-psaki-on-the-presidents-travel-to-belgium/ ---Done\n",
      "https://www.nbcnews.com/politics/white-house/biden-travel-brussels-summit-ukraine-week-rcna20119 ---Done\n",
      "https://www.independent.co.uk/news/world/americas/us-politics/biden-belgium-us-nato-russia-b2036462.html ---Done\n",
      "https://www.cbsnews.com/news/biden-nato-summit-russia-ukraine-european-council/ ---Done\n",
      "https://www.usatoday.com/story/news/politics/2022/03/15/biden-nato-brussels-ukraine-russia/7050971001/ ---Done\n",
      "https://www.yahoo.com/now/biden-travel-brussels-nato-summit-172242540.html ---Done\n",
      "https://www.yahoo.com/lifestyle/biden-travel-europe-nato-summit-185931413.html ---Done\n",
      "https://www.politico.com/news/2022/03/15/biden-to-travel-to-brussels-nato-00017372 ---Done\n",
      "https://www.axios.com/biden-europe-travel-ukraine-russia-invasion-248401d9-481d-4977-b016-69dc4217e1e1.html ---Done\n",
      "https://www.cnbc.com/2022/03/15/russia-ukraine-live-updates.html ---Done\n"
     ]
    }
   ],
   "source": [
    "# Batch n \n",
    "\n",
    "BATCH_NO = 0 \n",
    "SCRAPED_BY = 'sam'\n",
    "\n",
    "startIndex = 100\n",
    "endIndex = 200\n",
    "\n",
    "print(f'Getting Dataset From {startIndex} to {endIndex} ')\n",
    "\n",
    "\n",
    "\n",
    "for index in range(startIndex,endIndex):\n",
    "    batch = []\n",
    "    current_ref = reference.iloc[index]\n",
    "    title = current_ref['title']\n",
    "    titleHotwords = utility_functions.get_hotwords(title, nlp)\n",
    "    uid = current_ref['uid']\n",
    "    modifiedHotwords = utility_functions.add_numerics(title,titleHotwords)\n",
    "    timeFrom = str(current_ref['time_parsed'].date()) # Date at the time of reporting\n",
    "    timeTo = str((current_ref['time_parsed'] + timedelta(days=2)).date())  # Date 2 days from the date of reporting \n",
    "    \n",
    "    SEARCHTERM = ' '.join(modifiedHotwords) + ' after:' +timeFrom + ' before:' + timeTo\n",
    "    print(f'Searching for\\n----- {SEARCHTERM}')\n",
    "    \n",
    "    searches = 0 \n",
    "    \n",
    "    \n",
    "    notSearchClass = 'gLFyf gsfi'\n",
    "    searchButton = driver.find_elements(By.XPATH,f\"//input[@class='{notSearchClass}']\")\n",
    "    searchButton[0].clear()\n",
    "    time.sleep(2)\n",
    "    searchButton[0].send_keys(SEARCHTERM)\n",
    "    time.sleep(3)\n",
    "    searchButton[0].send_keys(Keys.ENTER)\n",
    "    time.sleep(8)\n",
    "    innerSearchClass = 'yuRUbf'\n",
    "    searchResults = driver.find_elements(By.XPATH,f\"//div[@class='{innerSearchClass}']/a\")\n",
    "    searchResults[0].get_attribute('href')\n",
    "    \n",
    "    \n",
    "\n",
    "    \n",
    "    \n",
    "    for searchResult in [x.get_attribute('href') for x in searchResults]:\n",
    "        \n",
    "        if 'liveuamap.com' in searchResult or 'wikipedia.org' in searchResult :\n",
    "            continue\n",
    "\n",
    "        \n",
    "        print(searchResult,end = ' ---')\n",
    "        \n",
    "        try:\n",
    "\n",
    "            article_parse = Article(searchResult)\n",
    "            article_parse.download()\n",
    "            article_parse.parse()\n",
    "            article_author = article_parse.authors\n",
    "            article_date = article_parse.publish_date\n",
    "            article_text = article_parse.text\n",
    "\n",
    "            batch.append({\n",
    "                'uid' : uid,\n",
    "                'article_author' : article_author,\n",
    "                'article_date' : article_date,\n",
    "                'article_text' : article_text,\n",
    "                'article_url' : searchResult\n",
    "            })\n",
    "            searches = searches + 1 \n",
    "            print('Done')\n",
    "        except Exception:\n",
    "            print('Failed:Skipping')\n",
    "        if searches >10:\n",
    "            break\n",
    "    \n",
    "    pd.DataFrame(batch).to_csv(f'../data/processed/articles/{index}.csv')\n",
    "    time.sleep(10)\n",
    "\n",
    "            \n",
    "            \n",
    "    "
   ]
  },
  {
   "cell_type": "code",
   "execution_count": null,
   "id": "c7930993",
   "metadata": {},
   "outputs": [],
   "source": []
  }
 ],
 "metadata": {
  "kernelspec": {
   "display_name": "Python 3 (ipykernel)",
   "language": "python",
   "name": "python3"
  },
  "language_info": {
   "codemirror_mode": {
    "name": "ipython",
    "version": 3
   },
   "file_extension": ".py",
   "mimetype": "text/x-python",
   "name": "python",
   "nbconvert_exporter": "python",
   "pygments_lexer": "ipython3",
   "version": "3.7.11"
  }
 },
 "nbformat": 4,
 "nbformat_minor": 5
}
