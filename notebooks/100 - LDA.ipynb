{
 "cells": [
  {
   "cell_type": "markdown",
   "id": "3fce213f",
   "metadata": {},
   "source": [
    "# Where Copy : [this medium article](https://towardsdatascience.com/end-to-end-topic-modeling-in-python-latent-dirichlet-allocation-lda-35ce4ed6b3e0)"
   ]
  },
  {
   "cell_type": "markdown",
   "id": "b45acf7a",
   "metadata": {},
   "source": [
    "> LDA is a generative probabilistic model that assumes each topic is a mixture over an underlying set of words, and each document is a mixture of over a set of topic probabilities"
   ]
  },
  {
   "cell_type": "code",
   "execution_count": 1,
   "id": "7d101172",
   "metadata": {},
   "outputs": [],
   "source": [
    "import pandas as pd\n",
    "import random\n",
    "import os"
   ]
  },
  {
   "cell_type": "markdown",
   "id": "7a4bd20c",
   "metadata": {},
   "source": [
    "# Getting most scraped articles"
   ]
  },
  {
   "cell_type": "code",
   "execution_count": 3,
   "id": "a7523b41",
   "metadata": {},
   "outputs": [],
   "source": [
    "df = pd.read_csv('../data/processed/author-parse-articles.csv')"
   ]
  },
  {
   "cell_type": "code",
   "execution_count": 4,
   "id": "fc6820fd",
   "metadata": {},
   "outputs": [],
   "source": [
    "# Getting Domains From News Websites \n",
    "m = df['art_article_url'].str.extract('(?<=http://)(.*?)(?=/)|(?<=https://)(.*?)(?=/)')\n",
    "m = m[0].fillna(m[1]).fillna(df['art_article_url'])\n",
    "df['art_extracted_domain'] = m"
   ]
  },
  {
   "cell_type": "code",
   "execution_count": 5,
   "id": "fe446336",
   "metadata": {},
   "outputs": [
    {
     "data": {
      "text/plain": [
       "art_extracted_domain\n",
       "www.nytimes.com        489\n",
       "www.cnn.com            412\n",
       "www.theguardian.com    258\n",
       "www.reuters.com        217\n",
       "www.aljazeera.com      181\n",
       "                      ... \n",
       "warsawinstitute.org      1\n",
       "wdnyradio.com            1\n",
       "weartv.com               1\n",
       "weisradio.com            1\n",
       "zoso.ro                  1\n",
       "Name: art_extracted_domain, Length: 902, dtype: int64"
      ]
     },
     "execution_count": 5,
     "metadata": {},
     "output_type": "execute_result"
    }
   ],
   "source": [
    "df.groupby('art_extracted_domain')['art_extracted_domain'].count().sort_values(ascending=False)"
   ]
  },
  {
   "cell_type": "code",
   "execution_count": 6,
   "id": "4490f2ad",
   "metadata": {},
   "outputs": [],
   "source": [
    "most_scraped = list(df.groupby('art_extracted_domain')['art_extracted_domain'].count().sort_values(ascending=False)[:50].index)"
   ]
  },
  {
   "cell_type": "code",
   "execution_count": 42,
   "id": "f92d646a",
   "metadata": {},
   "outputs": [],
   "source": [
    "df_filtered = df[df['art_extracted_domain'].isin(most_scraped)]"
   ]
  },
  {
   "cell_type": "code",
   "execution_count": 43,
   "id": "ffef7b95",
   "metadata": {},
   "outputs": [
    {
     "data": {
      "text/plain": [
       "4098"
      ]
     },
     "execution_count": 43,
     "metadata": {},
     "output_type": "execute_result"
    }
   ],
   "source": [
    "len(df_filtered)"
   ]
  },
  {
   "cell_type": "markdown",
   "id": "45e0a09c",
   "metadata": {},
   "source": [
    "# Topic Modelling for One Domain"
   ]
  },
  {
   "cell_type": "code",
   "execution_count": 44,
   "id": "9fa66c09",
   "metadata": {},
   "outputs": [],
   "source": [
    "import random"
   ]
  },
  {
   "cell_type": "code",
   "execution_count": 45,
   "id": "463c37e7",
   "metadata": {},
   "outputs": [
    {
     "name": "stdout",
     "output_type": "stream",
     "text": [
      "['www.nytimes.com', 'www.cnn.com', 'www.theguardian.com', 'www.reuters.com', 'www.aljazeera.com', 'www.dailymail.co.uk', 'edition.cnn.com', 'www.rferl.org', 'www.nbcnews.com', 'www.cnbc.com', 'www.dw.com', 'abcnews.go.com', 'www.usnews.com', 'www.businessinsider.com', 'www.telegraph.co.uk', 'www.cbsnews.com', 'news.sky.com', 'apnews.com', 'www.npr.org', 'rubryka.com', 'www.voanews.com', 'thehill.com', 'nypost.com', 'www.pbs.org', 'foreignpolicy.com', 'www.politico.eu', 'hindustannewshub.com', 'www.themoscowtimes.com', 'www.axios.com', 'www.dailykos.com', 'www.latimes.com', 'www.express.co.uk', 'economictimes.indiatimes.com', 'www.foxnews.com', 'www.dailysabah.com', 'www.19fortyfive.com', 'www.thedrive.com', 'www.firstpost.com', 'www.mirror.co.uk', 'www.militarytimes.com', 'm.economictimes.com', 'www.atlanticcouncil.org', 'time.com', 'timesofindia.indiatimes.com', 'www.france24.com', 'www.scmp.com', 'www.cbc.ca', 'www.vox.com', 'charter97.org', 'www.theglobeandmail.com']\n"
     ]
    }
   ],
   "source": [
    "# List of Publications \n",
    "print(most_scraped)\n"
   ]
  },
  {
   "cell_type": "code",
   "execution_count": 69,
   "id": "90971896",
   "metadata": {},
   "outputs": [
    {
     "name": "stdout",
     "output_type": "stream",
     "text": [
      "Index Picked: 49\n",
      "Orgnisation Picked: www.theglobeandmail.com\n"
     ]
    }
   ],
   "source": [
    "# Picking one news domain randomly\n",
    "index_picked = random.randint(0,len(most_scraped))\n",
    "organisation = most_scraped[index_picked]\n",
    "print(f'Index Picked: {index_picked}\\nOrgnisation Picked: {organisation}')\n",
    "\n",
    "df_focus = df_filtered[df_filtered['art_extracted_domain']==organisation][['art_article_author',\n",
    "                                                                           'art_article_date',\n",
    "                                                                            'art_article_text',\n",
    "                                                                           'ref_time-capture',\n",
    "                                                                           'ref_full-text',\n",
    "                                                                           'ref_title'\n",
    "                                                                          ]]\n"
   ]
  },
  {
   "cell_type": "code",
   "execution_count": 73,
   "id": "e576e92f",
   "metadata": {},
   "outputs": [],
   "source": [
    "df_focus = df_focus.reset_index().head()"
   ]
  },
  {
   "cell_type": "code",
   "execution_count": 74,
   "id": "c1c204b2",
   "metadata": {},
   "outputs": [
    {
     "data": {
      "text/html": [
       "<div>\n",
       "<style scoped>\n",
       "    .dataframe tbody tr th:only-of-type {\n",
       "        vertical-align: middle;\n",
       "    }\n",
       "\n",
       "    .dataframe tbody tr th {\n",
       "        vertical-align: top;\n",
       "    }\n",
       "\n",
       "    .dataframe thead th {\n",
       "        text-align: right;\n",
       "    }\n",
       "</style>\n",
       "<table border=\"1\" class=\"dataframe\">\n",
       "  <thead>\n",
       "    <tr style=\"text-align: right;\">\n",
       "      <th></th>\n",
       "      <th>index</th>\n",
       "      <th>art_article_author</th>\n",
       "      <th>art_article_date</th>\n",
       "      <th>art_article_text</th>\n",
       "      <th>ref_time-capture</th>\n",
       "      <th>ref_full-text</th>\n",
       "      <th>ref_title</th>\n",
       "    </tr>\n",
       "  </thead>\n",
       "  <tbody>\n",
       "    <tr>\n",
       "      <th>0</th>\n",
       "      <td>886</td>\n",
       "      <td>['Mark Mackinnon', 'Murat Yukselir', 'The Glob...</td>\n",
       "      <td>2022-03-26 06:00:00-04:00</td>\n",
       "      <td>Kyiv residents march on Feb. 12 to show a unit...</td>\n",
       "      <td>2022-03-25 08:33:32.112068</td>\n",
       "      <td>SourceOn live map\\r\\nTell friends\\r\\n18 hours ...</td>\n",
       "      <td>Evacuation train Kyiv-Ivano-Frankivsk near Vas...</td>\n",
       "    </tr>\n",
       "    <tr>\n",
       "      <th>1</th>\n",
       "      <td>889</td>\n",
       "      <td>['David Ljunggren']</td>\n",
       "      <td>2022-03-26 16:52:33-04:00</td>\n",
       "      <td>A view of the square outside the damaged local...</td>\n",
       "      <td>2022-03-25 08:33:36.538618</td>\n",
       "      <td>SourceOn live map\\r\\nTell friends\\r\\n18 hours ...</td>\n",
       "      <td>Many fires across Kharkiv as result of Russian...</td>\n",
       "    </tr>\n",
       "    <tr>\n",
       "      <th>2</th>\n",
       "      <td>1026</td>\n",
       "      <td>['Globe Staff', 'Murat Yukselir', 'The Globe A...</td>\n",
       "      <td>2022-03-01 01:44:04-05:00</td>\n",
       "      <td>This digest has now been archived. Find the la...</td>\n",
       "      <td>2022-02-27 22:04:07.644186</td>\n",
       "      <td>SourceOn live map\\r\\nTell friends\\r\\n5 hours a...</td>\n",
       "      <td>Slovakia announces temporary residency, includ...</td>\n",
       "    </tr>\n",
       "    <tr>\n",
       "      <th>3</th>\n",
       "      <td>1088</td>\n",
       "      <td>['Globe Staff', 'Murat Yukselir', 'The Globe A...</td>\n",
       "      <td>2022-02-27 02:04:46-05:00</td>\n",
       "      <td>This digest has now been archived. Find the la...</td>\n",
       "      <td>2022-02-27 22:05:35.139451</td>\n",
       "      <td>SourceOn live map\\r\\nTell friends\\r\\n7 hours a...</td>\n",
       "      <td>EU foreign policy chief Borrell says part of t...</td>\n",
       "    </tr>\n",
       "    <tr>\n",
       "      <th>4</th>\n",
       "      <td>1209</td>\n",
       "      <td>['Globe Staff']</td>\n",
       "      <td>2022-04-03 10:21:09-04:00</td>\n",
       "      <td>A woman walks amid destroyed Russian tanks in ...</td>\n",
       "      <td>2022-04-03 12:43:36.388682</td>\n",
       "      <td>NaN</td>\n",
       "      <td>Multiple casualties as result of Russian shell...</td>\n",
       "    </tr>\n",
       "  </tbody>\n",
       "</table>\n",
       "</div>"
      ],
      "text/plain": [
       "   index                                 art_article_author  \\\n",
       "0    886  ['Mark Mackinnon', 'Murat Yukselir', 'The Glob...   \n",
       "1    889                                ['David Ljunggren']   \n",
       "2   1026  ['Globe Staff', 'Murat Yukselir', 'The Globe A...   \n",
       "3   1088  ['Globe Staff', 'Murat Yukselir', 'The Globe A...   \n",
       "4   1209                                    ['Globe Staff']   \n",
       "\n",
       "            art_article_date  \\\n",
       "0  2022-03-26 06:00:00-04:00   \n",
       "1  2022-03-26 16:52:33-04:00   \n",
       "2  2022-03-01 01:44:04-05:00   \n",
       "3  2022-02-27 02:04:46-05:00   \n",
       "4  2022-04-03 10:21:09-04:00   \n",
       "\n",
       "                                    art_article_text  \\\n",
       "0  Kyiv residents march on Feb. 12 to show a unit...   \n",
       "1  A view of the square outside the damaged local...   \n",
       "2  This digest has now been archived. Find the la...   \n",
       "3  This digest has now been archived. Find the la...   \n",
       "4  A woman walks amid destroyed Russian tanks in ...   \n",
       "\n",
       "             ref_time-capture  \\\n",
       "0  2022-03-25 08:33:32.112068   \n",
       "1  2022-03-25 08:33:36.538618   \n",
       "2  2022-02-27 22:04:07.644186   \n",
       "3  2022-02-27 22:05:35.139451   \n",
       "4  2022-04-03 12:43:36.388682   \n",
       "\n",
       "                                       ref_full-text  \\\n",
       "0  SourceOn live map\\r\\nTell friends\\r\\n18 hours ...   \n",
       "1  SourceOn live map\\r\\nTell friends\\r\\n18 hours ...   \n",
       "2  SourceOn live map\\r\\nTell friends\\r\\n5 hours a...   \n",
       "3  SourceOn live map\\r\\nTell friends\\r\\n7 hours a...   \n",
       "4                                                NaN   \n",
       "\n",
       "                                           ref_title  \n",
       "0  Evacuation train Kyiv-Ivano-Frankivsk near Vas...  \n",
       "1  Many fires across Kharkiv as result of Russian...  \n",
       "2  Slovakia announces temporary residency, includ...  \n",
       "3  EU foreign policy chief Borrell says part of t...  \n",
       "4  Multiple casualties as result of Russian shell...  "
      ]
     },
     "execution_count": 74,
     "metadata": {},
     "output_type": "execute_result"
    }
   ],
   "source": [
    "df_focus"
   ]
  },
  {
   "cell_type": "markdown",
   "id": "e0a2ccef",
   "metadata": {},
   "source": [
    "# Preprocessing "
   ]
  },
  {
   "cell_type": "code",
   "execution_count": 75,
   "id": "a8b19acb",
   "metadata": {},
   "outputs": [
    {
     "data": {
      "text/plain": [
       "0    kyiv residents march on feb 12 to show a unite...\n",
       "1    a view of the square outside the damaged local...\n",
       "2    this digest has now been archived find the lat...\n",
       "3    this digest has now been archived find the lat...\n",
       "4    a woman walks amid destroyed russian tanks in ...\n",
       "Name: art_article_text_processed, dtype: object"
      ]
     },
     "execution_count": 75,
     "metadata": {},
     "output_type": "execute_result"
    }
   ],
   "source": [
    "# Load the regular expression library\n",
    "import re\n",
    "# Remove punctuation\n",
    "df_focus['art_article_text_processed'] = \\\n",
    "df_focus['art_article_text'].map(lambda x: re.sub('[,\\.!?]', '', x))\n",
    "# Convert the titles to lowercase\n",
    "df_focus['art_article_text_processed'] = \\\n",
    "df_focus['art_article_text_processed'].map(lambda x: x.lower())\n",
    "# Print out the first rows of papers\n",
    "df_focus['art_article_text_processed'].head()"
   ]
  },
  {
   "cell_type": "code",
   "execution_count": 77,
   "id": "63c5ff48",
   "metadata": {},
   "outputs": [
    {
     "data": {
      "text/plain": [
       "\"kyiv residents march on feb 12 to show a united front against russian president vladimir putin who would invade the country two weeks lateranton skyba/the globe and mail\\r\\n\\r\\nthe day began as most now do with air-raid sirens over the black sea port of odesa but last friday morning’s screams were accompanied by bursts of heavy shooting seemingly just a few blocks from where we were standing\\r\\n\\r\\ni stood on the sidewalk with a group of ukrainian men and speculated nervously these weren’t the singular spaced booms of artillery that we’d become sadly accustomed to in kyiv and other cities in the three weeks since this war began these more rapid sounds suggested ukrainian anti-aircraft fire targeting something overhead or – perhaps worse – small-arms fire somewhere inside the city\\r\\n\\r\\neither way it was time to move and for the first time since russian president vladimir putin ordered his army to invade ukraine i was heading not toward another ukrainian city to another part of the war zone but away from it all into neighbouring moldova and eventually all the way home to london\\r\\n\\r\\nit was agonizing for me to leave – after three weeks of war and two decades of reporting on ukraine – while friends and colleagues remained my editors however foresaw a long war one that would require many more reporting trips to ukraine over the months and maybe years ahead rather than a single long deployment it was time to take a break\\r\\n\\r\\nless than two hours later i was leaving ukraine aboard a green minibus that had 12 seats but on this day held 27 passengers all except me were women and children the minibus also held a long-haired cat plus all the luggage we could collectively carry\\r\\n\\r\\nother than a few sniffles we sat mostly in silence as the minibus approached the border\\r\\n\\r\\neven the children – piled onto each other’s laps in the seats while most of the adults stood and pressed their hands against the ceiling for balance – seemed to grasp the enormity of the moment they were joining the nearly four million ukrainians who have fled this country and this unnecessary war\\r\\n\\r\\na phone somewhere on the crowded minibus repeatedly played u2′s beautiful day as a ringtone but the owner quickly blocked the call each time after only a few notes\\r\\n\\r\\nat the border a guard perused my passport pausing to look suspiciously at my unused russian visa before moving on to the back of the passport where ukrainian border guards always leave their stamps amid all comings and goings from this country over the past few years she couldn’t find the current one\\r\\n\\r\\nfinally she gave up and asked: “when did you enter ukraine”\\r\\n\\r\\nchernihiv is home to a soviet monument to second world war soldiers and guerrilla forces ukraine was part of the ussr from the 1920s until the union's collapse in the early 1990santon skyba/the globe and mail\\r\\n\\r\\npresidents alexander lukashenko of belarus vladimir putin of russia and leonid kuchma of ukraine meet in yalta in the early 2000sefrem lukatsky/the associated press\\r\\n\\r\\nthe first time i landed in kyiv was in december of 2002 back then another war loomed – the us invasion of iraq – and i had been sent to the ukrainian capital to investigate reports that then-president leonid kuchma’s russian-backed government had sold sophisticated radar systems to the regime of saddam hussein in contravention of united nations sanctions\\r\\n\\r\\ni remember the reporting less than i do wandering through kyiv in the evenings i watched an outdoor concert in the city’s historic podil neighbourhood where the musicians played songs by russian bands like ddt kino and splean then i strolled back to my hotel along the city’s main khreshchatyk street past protest stickers that read “ukraine without kuchma” – a call for the country to hold free and fair elections\\r\\n\\r\\nwith its blocky soviet architecture domed orthodox cathedrals and a population that primarily spoke russian it was easy to see why many russians considered kyiv (or kiev as we spelled it back then using the transliteration from russian) to be a lost part of their own country mr putin certainly felt that way as did the man he and mr kuchma were both supporting to be the next president of ukraine viktor yanukovych\\r\\n\\r\\nit’s arguable that 20 years ago shortly after mr putin first came to power in the kremlin something of a “russky mir” – a “russian world” that looked to moscow for leadership – existed across much of the former soviet union including ukraine mr putin believes this is what the us and the west with their meddling and their democracy promotion stole from him over the past two decades and this is perhaps the main reason he has chosen to go to war against a country and a ukrainian people that mr putin referred to as being “one” with russia and russians in an essay published last summer\\r\\n\\r\\nin laid-back kyiv it always felt like it was mr putin with his autocratic and imperialistic politics who was pushing ukraine away one of his first visits to the country as russian president was to oversee a soviet-style military parade through the streets of kyiv a city that associated the ussr with murderous repression\\r\\n\\r\\nstanding in the gently falling snow one evening during that first reporting trip to ukraine i called my foreign editor and jokingly suggested that we move our bureau from moscow – where i lived at the time – to kyiv a city i had quickly fallen in love with we both laughed there wasn’t enough news happening in ukraine to justify it\\r\\n\\r\\nfirefighter dmitry kotenkov top had never held an ak-47 until this volunteer training in chernihiv on jan 29 in stanytsia luhanska bottom a kindergarten was damaged in shelling by pro-russian forces in the breakaway regions of donbasanton skyba/the globe and mail\\r\\n\\r\\nthe real answer the guard at the moldova border crossing was seeking was that i had landed in ukraine this time on jan 15 2022 via kyiv’s boryspil airport the guard looked up with a sad smile as she finally found the relevant stamp in my passport boryspil airport had been bombed on the first day of the war feb 24 and the country’s airspace has been closed to civilian air traffic ever since\\r\\n\\r\\nonly two months have passed but it was a different ukraine that i landed in and reported from back then along with ukrainian photographer anton skyba i flew in late january to kharkiv a russian-speaking city in the east of the country that military analysts felt would swiftly fall to mr putin’s forces which had been amassing around the country since april last year\\r\\n\\r\\nthe kharkiv i discovered was determinedly preparing a resistance that has since stunned russia and the world we met businessmen lawyers and scientists who were learning to handle weapons and defend their homes the city’s high-tech industry was pumping out drones for use against russian tanks and artillery kharkiv just 30 kilometres from the russian border knew well what life was like on mr putin’s side of the frontier and didn’t want to be a part of that the city’s fierce resistance has helped change the script of this war from an expected russian blitzkrieg to a war of attrition that’s taking an enormous toll on both sides\\r\\n\\r\\nlater we drove to the northern city of chernihiv near ukraine’s border with belarus and watched more civilians hold automatic rifles for the first time as they prepared for a russian assault from the north through belarus a country where many in chernihiv have relatives the city’s refusal to capitulate despite an increasingly cruel siege has prevented russia from fully encircling kyiv just 150 kilometres to the south\\r\\n\\r\\nanton and i also visited prewar odesa which was even then bracing for a possible amphibious assault by russia’s black sea fleet we also took a pair of nerve-wracking helicopter trips to the front line in the donbas region where russia had been waging a low-level proxy war against ukraine since 2014\\r\\n\\r\\nin the village of stanytsia luhanska we visited a kindergarten that had been shelled by pro-russian forces on feb 17 precisely a week before mr putin widened the battlefield from donbas to include all of ukraine three teachers were hurt in the shelling of the fairy tale kindergarten and the children were only spared by the swift actions of the adults around them the shattered kindergarten wall and the scattered soccer balls and other toys were a horrible portent of the merciless war that was about to begin\\r\\n\\r\\na supporter of opposition presidential candidate viktor yushchenko celebrates in kyiv on dec 26 2004 after exit polls showed him in the leaddimitar dilkoff/afp via getty images\\r\\n\\r\\nmr yushchenko and his top ally yulia tymoshenko wear their movement's signature orange colours on dec 28 2004maxim marmur/afp via getty images\\r\\n\\r\\nevery now and again someone asks me what the happiest story i’ve ever reported on was my answer has long been the orange revolution in 2004 which saw ukrainians take to the streets to demand a genuine election rather than the sort of stage-managed farce that mr putin’s regime in russia had by then already perfected\\r\\n\\r\\nthe revolution was slow to get going – i remember an awkward conversation in october of that year with my editor who wondered what had happened to the massive popular uprising i predicted – but it rapidly swelled as more and more ukrainians realized they were not alone in their disgust with mr kuchma mr yanukovych and mr putin\\r\\n\\r\\nmany years before air-raid sirens became the standard wake-up call in kyiv i would open my eyes each morning in november and december of 2004 to chants of “yush-chen-ko” for viktor yushchenko the pro-western politician who had become the face of the uprising after surviving a poisoning attempt that many believe was masterminded in the kremlin the orange revolution was named after the colour used by mr yushchenko’s campaign\\r\\n\\r\\nafter more than two months of non-stop peaceful protests on kyiv’s central independence square better known now as the maidan mr yushchenko and his supporters got what they wanted – a fairly held runoff vote which gave mr yushchenko a clear win over mr yanukovych\\r\\n\\r\\nthe celebrations on the maidan were joyous though western embassies in kyiv had provided behind-the-scenes support to the pro-democracy demonstrations it was nonetheless fair to say that people power and hope had won out over cynicism and authoritarianism\\r\\n\\r\\nif you looked at geopolitics as a real-life game of risk – as many in washington and moscow did and do overlooking the will of the ukrainian people – the west had wrested an important country out of the kremlin’s orbit and moved another chip into the territory of the former soviet union but the modern struggle for ukraine was only beginning\\r\\n\\r\\non feb 24 top the day russia invaded a kyiv resident watches the congested road leading to western ukraine at bottom the hotel where mark mackinnon and photographer anton skyba were staying residents take shelter in the underground parking garageanton skyba/the globe and mail\\r\\n\\r\\nafter weeks of rumours this february the almost nightly reports about a russian invasion that would start at this or that hour had become a source of grim humour among the western media based in kyiv we’d joke about whose turn it was to stay up late watching for the first air strike laugh and then drink another glass of wine or beer in the lobbies of our still-functioning hotels\\r\\n\\r\\nthey were in retrospect the very strange last hours of the kyiv and the ukraine that we knew\\r\\n\\r\\nthe latest rumour about an attack that would start at 4 o’clock on the morning of feb 24 a thursday felt more solid than the ones that preceded it\\r\\n\\r\\nmr putin’s speech three days earlier in which he recognized the “independence” of the areas of donbas that were under the control of moscow-backed militias had turned war from a possibility into what felt like an inevitability the only questions still unanswered were when the invasion would start and how big it would be\\r\\n\\r\\nat 3:50 am i gave up waiting and went back to room 717 of the radisson hotel my eyes were closed before my face hit the pillow and i had optimistic plans of sleeping until at least noon just more than an hour later i was running down the emergency stairs into the parking lot under the hotel as air-raid sirens wailed over the ukrainian capital for the first time in this conflict\\r\\n\\r\\nit was a routine we’d repeat often over the days ahead the sirens shouted you grabbed your bulletproof vest helmet and “go bag” – a backpack stuffed with what you hoped was everything you’d need to survive the night (and if you’re a journalist file a report) – and you dashed into the nearest basement parking lot or subway station to hunker down until the all-clear siren finally came\\r\\n\\r\\non the morning of feb 24 we emerged sleepless and frightened not knowing what had happened to the city while we hid in our parking garage after a breakfast magicked up by the radisson staff a group of journalists decided to go for a walk at first we planned only to wander the street outside the hotel then we decided to range a little further toward what we assumed would be the safety of the city’s golden-domed saint sophia cathedral 700 metres away\\r\\n\\r\\nthe streets were deserted and the normally bustling heart of kyiv eerily quiet other than the solemn lineups that were already forming at bank machines i spotted an open coffee shop and ducked in for a cup while my colleagues muttered about how my desire for caffeination was going to get us all killed\\r\\n\\r\\na trio of us then headed downhill to the maidan the scene of so much tumult and triumph in the past i must have 1000 photos on various phones and cameras that i’ve taken over the years of independence square some are touristy snaps a few are grim (i took one in december 2013 that shows a line of mr yanukovych’s helmeted riot police hitting at a crowd of pro-european protesters with batons) but most of the photos capture something either inspiring or joyous the square in the photos and in my memory is almost always packed with people either fighting for or enjoying their freedom\\r\\n\\r\\nbut that morning of feb 24 the square was empty fear which this country had fought so long and hard to shake off had returned\\r\\n\\r\\nprotesters and riot police face each other outside kyiv's parliament on dec 3 2013 amid a growing political crisis that would topple the government of russian-allied president viktor yanukovychgenya savilov/afp via getty images\\r\\n\\r\\na portrait of mr yanukovych is used as a dartboard on kyiv's independence square in february 2014 the month he fled the countrythe associated press\\r\\n\\r\\nthe russian narrative of what happened in ukraine over the past 20 years – which is important because this is the alternate reality in which mr putin lives thinks and acts – is one of stolen russian lands and western aggression\\r\\n\\r\\nthe kremlin was willing to tolerate ukraine’s independence as long as it had a pliant regime in kyiv as was the case under mr kuchma and mr yanukovych the orange revolution which collapsed after a few years of bitter infighting among the pro-western camp – allowing mr yanukovych to win the presidency in a fairly fought 2010 election – ironically only strengthened russia’s hold over ukraine\\r\\n\\r\\nthen came the winter of 2013-2014 which saw mr yanukovych yank the country off its course of european integration and toward something called the eurasian economic union the eaeu is a moscow-dominated trading bloc that is widely considered an attempt by mr putin – who has always mourned the fall of the soviet union – to rebuild something like the ussr all five current member states were soviet republics until 1991\\r\\n\\r\\nmr yanukovych’s about-face brought ukrainians onto the maidan once more but where both sides avoided the use of violence during the orange revolution this time they came ready to fight an attempt by mr yanukovych in november 2013 to crush the demonstrations with riot police only caused the protests to grow in size and determination in february 2014 when police used live ammunition on a crowd of protesters advancing toward the presidential administration building in kyiv the demonstrators fought back using everything from pieces of torn-up sidewalk to their own guns\\r\\n\\r\\nmr yanukovych was forced to flee and the uprising became known in ukraine as the revolution of dignity chocolate tycoon petro poroshenko one of the key leaders of the revolt was elected president and five years later he lost a fairly run election to tv comedian volodymyr zelensky\\r\\n\\r\\nin moscow however the events of 2014 were viewed as a coup that the west had supported diplomatically and financially mr putin sent his troops to seize and annex the strategic crimean peninsula – the base of russia’s black sea fleet a soviet-era arrangement that mr yanukovych had agreed to extend – and russian agents stirred up a popular uprising in the donbas region sparking a war there that would kill 14000 people over the next eight years\\r\\n\\r\\nthe donbas war was mr putin’s counter to the revolution of dignity the proxy conflict was supposed to bleed ukraine of its fighting strength while simultaneously preventing economic development the west responded with a phalanx of sanctions that now looks modest alongside the economic weapons that have been used to punish russia for its most recent invasion\\r\\n\\r\\nthe failed peace process that mr putin fostered over the course of the donbas war revealed his true aim: to force a ukrainian surrender that would give moscow a permanent say via its armed control of donbas over how the country was governed – as well as a de facto guarantee that ukraine would never join nato but ukraine as we see now never intended to surrender and so mr putin decided to escalate yet again\\r\\n\\r\\nat top a girl stands beside the crater left by a russian cruise missile in kyiv on feb 25; at bottom residents of fastiv a city in central ukraine wait for evacuation to lviv in the west on march 7anton skyba/the globe and mail\\r\\n\\r\\nafter spending the first 48 hours of mr putin’s latest war dashing in and out of bomb shelters in kyiv anton and i – along with two colleagues from the guardian newspaper of britain – decided that we could do a better job covering the war from a base just outside the capital than we could if we were caught inside a russian siege of the city\\r\\n\\r\\nor so we thought but that changed as soon as we arrived at the country cottage that the guardian had arranged for us about 30 kilometres southwest of the capital\\r\\n\\r\\nfirst the driver we had hired supposedly for the duration of the war quit – understandably choosing to remain with his family\\r\\n\\r\\nsecond our new countryside retreat was caught between two targets that didn’t appear on tourist maps of ukraine the vasylkiv military airport just south of us would be the scene of fierce fighting over the three days that we stayed carless on the outskirts of kyiv russian warplanes repeatedly hit an oil refinery in the area turning the sky orange with fire by day and darkening it by night with toxic smoke\\r\\n\\r\\nafter a weekend spent repeatedly diving to the floor of our cottage as warplanes flew overhead and the sounds of artillery got closer and closer our rescue arrived in the form of a 2007 land rover that we’d purchased over the internet (driven to us by the courageous serhey mastriuk whom we hired on the spot as our new full-time driver)\\r\\n\\r\\nwe left almost immediately heading west to the relative safety of lviv the cultural capital of western ukraine these days the city feels more like the set of a cold war movie full of refugees journalists aid workers and spies eying each other warily in the increasingly crowded cobblestoned streets\\r\\n\\r\\nmidway through our stay in lviv we got a chance to head back toward kyiv following a 14-car convoy of volunteers who were delivering donated food medicines and hygiene products to the city of fastiv a smallish centre on the last open road into the capital after a night of sleeping on the floor of a community centre there the volunteers would head back to lviv with as many women and children as the convoy could carry\\r\\n\\r\\nas we stood on fastiv’s main square listening as the local priest read out a list of the 70 people who would be evacuated that day anton had a request: could we dash back into kyiv\\r\\n\\r\\nhe wanted to grab a few more things from the apartment he’d abandoned days earlier – the second time he’d been forced to flee a home in just eight years a badminton fanatic it deeply bothered anton that he’d forgotten to grab his rackets when we hastily departed kyiv\\r\\n\\r\\ngiven all we had been through together i couldn’t say no serhey drove our land rover into the city via the still-open southern road through a maze of ukrainian checkpoints\\r\\n\\r\\nwhen we reached anton’s apartment we filled a duffel bag with extra clothes a book about the pro-ukrainian protests in donbas in 2014 that featured one of anton’s photographs on the cover plus a bottle of 30-year-old whiskey that he’d received on his 30th birthday\\r\\n\\r\\nas well as his beloved badminton rackets\\r\\n\\r\\npeople carry a giant russian flag during a rally in simferopol crimea on feb 27 2014 the weeks that followed would be a chaotic struggle by separatist groups aided by russian troops to wrest the crimean peninsula and donbas from ukrainedavid mdzinarishvili/reuters\\r\\n\\r\\na pro-russian protester and a dog pose for a picture in a regional government building in donetsk on april 25 2014reuters\\r\\n\\r\\nsome of the wars i’ve covered have begun to blur into each other\\r\\n\\r\\ni met anton while covering the war in donbas and we later travelled together into donetsk a city controlled by so-called separatists to rescue a source – a pro-ukrainian blogger – who had gone missing after speaking to me vlad our source had been jailed for several months by the authorities of the donetsk people’s republic and released in early 2016 with neither his passport nor his mobile phone making him a free man who could never leave the kafkaesque territory\\r\\n\\r\\nanton and i – mostly anton – got vlad out by bending all the rules of journalism and arranging for a smuggler to drive our source out to ukrainian-held territory on a night when soldiers on both sides were paid a little extra not to look into that specific car\\r\\n\\r\\nfive years later as kabul fell to the taliban and the globe and mail and other news organizations scrambled to evacuate afghans who had worked for them it was anton and his girlfriend lisa who helped me settle the globe’s long-time news assistant sharif sharaf in kyiv after the ukrainian military had flown sharif and his family out of kabul\\r\\n\\r\\nthough sharif and his family were quickly allowed to move on to toronto we nonetheless found ourselves enmeshed in yet another drama set in kyiv jawed haqmal a canadian military translator who was evacuated by the ukrainian military – at the globe’s request – at the same time as sharif found himself stranded by the byzantine processes of immigration refugees and citizenship canada for six months even as another war closed in on jawed and his extended family of 12 people\\r\\n\\r\\nanton and i met jawed on the maidan the morning after the first bombs fell on kyiv he was going to flee with his family to lviv he had decided and then wherever fate took him from there\\r\\n\\r\\ni was worried and suggested he might be better staying at his hotel room in kyiv (which the globe had been paying for) rather than chancing the potentially more dangerous road out of the city but jawed whose wife was six-months pregnant had seen enough of war to know he didn’t want to put his family through another one\\r\\n\\r\\non march 1 jawed messaged me to say that he and his family had safely reached poland and were planning to head next to germany a few days later lisa – already displaced once by the donbas war – reached the european union too as the pain mr putin has inflicted on ukraine continued to grow\\r\\n\\r\\nthe train station in lviv shown at top on march 9 was far from the heaviest fighting in the invasion's first weeks not so odesa bottom where the globe met restauranteur daniel salem a volunteer with ukraine's national guard the patch on his gear reads 'don't make mama nervous' a common phrase in the cityanton skyba/the globe and mail\\r\\n\\r\\nsitting in lviv as war rages in the rest of the country came with a strange feeling of guilt\\r\\n\\r\\nthe city with its unesco-protected old town that reflects its history as part of the austro-hungarian empire has always felt different from the rest of ukraine ceded to poland at the end of the first world war it was protected from the holodmor famine that stalin unleashed on the rest of ukraine in the 1930s though it was captured by the red army in 1945 lviv nonetheless maintained its unique feel eventually becoming the heartland of ukraine’s drive for independence in 1991\\r\\n\\r\\nlviv has largely been spared again through the awful first month of vladimir putin’s war of reconquest the city is overflowing with internally displaced persons from the rest of the country with an estimated 60000 more arriving or passing through every day but the city’s banks and restaurants have continued to function and grocery stores continue to operate with constant resupply from poland just 65 kilometres away the city’s airport and the nearby yavoriv military base have been struck by russian cruise missiles but otherwise the invasion is something that’s happening somewhere else\\r\\n\\r\\nafter prolonged debate anton and i decided lviv was too removed a spot from which to properly cover the war so we headed east and then south toward the strategic black sea port of odesa a city founded by the russian empress catherine the great which is believed to be one of the key objectives of mr putin’s war halfway through our 800-kilometre journey we paused for a sleepless night in uman a normally serene jewish pilgrimage site air-raid sirens wailed throughout our short stay in the city as russian rockets targeted another nearby airfield\\r\\n\\r\\nthough the war had not yet come to odesa returning to the city after six weeks away was nonetheless one of the most jarring experiences of our journey in early february we had repeatedly gathered with friends in the cafés and restaurants of the city’s famed deribasovskaya street staying up late and arguing about whether western media and diplomats were being ridiculous with their predictions that mr putin was about to attack\\r\\n\\r\\nby mid-march the centre of odesa was deserted other than the ukrainian soldiers who manned the city’s newly built labyrinth of concrete blocks and sandbags the restaurants and bars of deribasovskaya were all closed and the street was blocked by dozens of metal anti-tank barricades ukrainian armoured vehicles were parked at strategic locations around the city the barrels of their guns pointed out toward the black sea where russian warships lingered somewhere over the horizon\\r\\n\\r\\nthe reason odesa had thus far gone untouched was the ferocious defence mounted by ukrainian forces in the smaller port city of mykolaiv 130 kilometres to the east mykolaiv which before the war was the centre of ukraine’s shipbuilding industry has become one of the defining battlegrounds of the early stages of this conflict alongside kyiv kharkiv and horrifically battered azov sea port of mariupol half of mykolaiv’s prewar population of just under 475000 are believed to have fled the city\\r\\n\\r\\nwe made the slow trip into mykolaiv via the last remaining bridge over the bug river – a narrow lifeline that connects the city and its remaining population to the rest of ukraine the bridge had already been scarred by at least one explosion that left a hole in the road that drivers heading in and out of the city had to navigate around\\r\\n\\r\\nas in kyiv the fighting for mykolaiv has been largely contained to the outskirts of the city while the centre has become a transit point for desperate families fleeing their destroyed villages some of which had fallen behind the slowly advancing front line a hostel in the city operated by the local red cross as a transit centre for people fleeing their homes was a whirlwind of activity when we visited\\r\\n\\r\\nwe met a family that escaped that morning after russian forces had been sighted near their tiny village outside mykolaiv then a carload of evacuees – with the back window of their soviet-era zhiguli blown out – who had been sheltering in a school basement that morning when it was hit by an air strike in the adjacent kherson region\\r\\n\\r\\nas we spoke to them a yellow bus rolled up disgorging more than a dozen disoriented and displaced elderly residents of local villages that had become battlefields we heard tales of bodies – some of them said to be russian soldiers – lying uncollected in the streets\\r\\n\\r\\nin the distance artillery sounded we decided to head back to odesa before nightfall cognizant of the fact that if that last bridge was hit again we would be trapped in mykolaiv for the duration of the battle\\r\\n\\r\\nin mykolaiv dmytro yakhshyboyev sits in the damaged car he used to flee posad-pokrovske village busloads of people from surrounding villages were arriving in mykolaiv when the globe visited thereanton skyba/the globe and mail\\r\\n\\r\\nfollowing the trip to mykolaiv it was time to go home at least for now\\r\\n\\r\\nafter leaving ukraine on foot i was given a seat on a second minibus that took 10 of us – six women three girls and me – to the first refugee camp inside moldova another corner of the former soviet union as we rode i followed our journey on google maps\\r\\n\\r\\nwe were just south of transdniestria a part of moldova that has been controlled by russian-backed separatists since the early 1990s another conflict fuelled by the kremlin as a way of maintaining its influence over the far-flung bits of its former empire one many in moldova worry could lead to fresh fighting in their country as the war for ukraine enters its second month\\r\\n\\r\\nwhen we reached the refugee camp a yellow-jacketed volunteer boarded the minibus “just to inform you we have free transportation from here to romania and to kishinev also free there is also food and tea here in the camp” she told the newly arrived refugees using the russian name of the moldovan capital city chisinau there were other buses heading from the camp to germany france poland and the czech republic\\r\\n\\r\\nthe volunteer was moldovan but spoke in russian the women on the bus all responded in their own native russian the lingua franca of odesa and mykolaiv as well as kharkiv mariupol and much of kyiv “spacibo” they whispered in unison to the volunteer “thank you”\\r\\n\\r\\nthe russian world that mr putin dreams of existed here or at least it could have but rather than building a russia that the former soviet republics looked to with admiration mr putin repeatedly resorted to intimidation and violence if there is a russian world now it detests the russia they see attacking its cities destroying its treasures killing its people and forcing the survivors to flee their homes\\r\\n\\r\\ni sat on a bench in the refugee camp and watched as the russian-speaking ukrainians – the very people mr putin sent his armies to “rescue” – clambered onto the waiting buses all of them were headed west\\r\\n\\r\\nwar in ukraine: more from the globe and mail\\r\\n\\r\\nunderneath odesa\\r\\n\\r\\nbeneath odesa is a 2500-kilometre-long labyrinth of tunnels dug in the 19th century and used as bomb shelters duringthe cold war as russian troops advanced ukrainians began to turn them into refuges once again the globe and mail’s mark mackinnon took a look the globe and mail\\r\\n\\r\\n\\r\\n\\r\\n\\r\\n\\r\\nmore from mark mackinnon in ukraine\\r\\n\\r\\nwho is volodymyr zelensky his rise from tv comic to president\\r\\n\\r\\ninside mykolaiv where death destruction and chaos are the norm\\r\\n\\r\\nodesa city of music and laughter prepares to resist assault\\r\\n\\r\\n‘it’s like dunkirk’: a civilian rescue convoy's perilous journey\\r\\n\\r\\nukrainian children with cancer escape to poland in complex rescue\\r\\n\\r\\n\\r\\n\\r\\n\\r\\n\\r\\nthe decibel\\r\\n\\r\\nwomen and children have made up most of the exodus from ukraine and some risk becoming targets of human traffickers reporter janice dickson spoke with the decibel from slovakia about what she saw at the border subscribe for more episodes\\r\\n\\r\\n\\r\\n\\r\\n\\r\\n\\r\\nmore from the globe’s foreign correspondents\\r\\n\\r\\nslovakia: on their phones refugees keep mementoes of home\\r\\n\\r\\npoland: ukrainians and poles now roommates try to find common ground\\r\\n\\r\\nestonia: war in ukraine has estonians fearing what comes next\\r\\n\\r\\nromania: inside a frantic race to get ukrainian grain to world markets\""
      ]
     },
     "execution_count": 77,
     "metadata": {},
     "output_type": "execute_result"
    }
   ],
   "source": [
    "df_focus.loc[0]['art_article_text_processed']"
   ]
  },
  {
   "cell_type": "markdown",
   "id": "dcaeb7b0",
   "metadata": {},
   "source": [
    "# WordCloud"
   ]
  },
  {
   "cell_type": "code",
   "execution_count": 79,
   "id": "fa164ad8",
   "metadata": {},
   "outputs": [
    {
     "ename": "ModuleNotFoundError",
     "evalue": "No module named 'wordcloud'",
     "output_type": "error",
     "traceback": [
      "\u001b[1;31m---------------------------------------------------------------------------\u001b[0m",
      "\u001b[1;31mModuleNotFoundError\u001b[0m                       Traceback (most recent call last)",
      "\u001b[1;32m~\\AppData\\Local\\Temp/ipykernel_28564/3256413172.py\u001b[0m in \u001b[0;36m<module>\u001b[1;34m\u001b[0m\n\u001b[1;32m----> 1\u001b[1;33m \u001b[1;32mfrom\u001b[0m \u001b[0mwordcloud\u001b[0m \u001b[1;32mimport\u001b[0m \u001b[0mWordCloud\u001b[0m\u001b[1;33m\u001b[0m\u001b[1;33m\u001b[0m\u001b[0m\n\u001b[0m",
      "\u001b[1;31mModuleNotFoundError\u001b[0m: No module named 'wordcloud'"
     ]
    }
   ],
   "source": [
    "from wordcloud "
   ]
  },
  {
   "cell_type": "code",
   "execution_count": null,
   "id": "d37a305e",
   "metadata": {},
   "outputs": [],
   "source": [
    "# Join the different processed titles together.\n",
    "long_string = ','.join(list(papers['paper_text_processed'].values))\n",
    "# Create a WordCloud object\n",
    "wordcloud = WordCloud(background_color=\"white\", max_words=5000, contour_width=3, contour_color='steelblue')\n",
    "# Generate a word cloud\n",
    "wordcloud.generate(long_string)\n",
    "# Visualize the word cloud\n",
    "wordcloud.to_image()\n"
   ]
  }
 ],
 "metadata": {
  "kernelspec": {
   "display_name": "Python 3 (ipykernel)",
   "language": "python",
   "name": "python3"
  },
  "language_info": {
   "codemirror_mode": {
    "name": "ipython",
    "version": 3
   },
   "file_extension": ".py",
   "mimetype": "text/x-python",
   "name": "python",
   "nbconvert_exporter": "python",
   "pygments_lexer": "ipython3",
   "version": "3.9.7"
  }
 },
 "nbformat": 4,
 "nbformat_minor": 5
}
