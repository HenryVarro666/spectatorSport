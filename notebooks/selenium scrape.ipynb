{
 "cells": [
  {
   "cell_type": "code",
   "execution_count": null,
   "id": "e6dbfcf5",
   "metadata": {},
   "outputs": [],
   "source": [
    "# Selenium Imports \n",
    "from selenium import webdriver\n",
    "from selenium.webdriver.common.keys import Keys\n",
    "from selenium.webdriver.support.ui import WebDriverWait\n",
    "from selenium.webdriver.support.ui import Select\n",
    "from selenium.webdriver.common.by import By\n",
    "from selenium.webdriver.common.keys import Keys\n",
    "from selenium.webdriver.chrome.options import Options\n",
    "from webdriver_manager.chrome import ChromeDriverManager\n",
    "from selenium.webdriver.common.action_chains import ActionChains\n",
    "\n",
    "# Utility Imports\n",
    "import copy\n",
    "from urllib.parse import urlparse\n",
    "import numpy as np\n",
    "import pandas as pd\n",
    "import re \n",
    "from pathlib import Path\n",
    "import os\n",
    "import time\n",
    "from datetime import date\n",
    "from datetime import timedelta\n",
    "from datetime import datetime\n",
    "import dateutil.parser as parser\n",
    "import urllib.request\n",
    "import random\n",
    "from dateutil.parser import parse\n",
    "cwd = os.getcwd()"
   ]
  },
  {
   "cell_type": "code",
   "execution_count": null,
   "id": "100d8cd1",
   "metadata": {},
   "outputs": [],
   "source": [
    "# Starting the selenium webserver and getting whatsapp \n",
    "userprofile = 'samarth'\n",
    "options = webdriver.ChromeOptions()\n",
    "options.add_argument(f\"user-data-dir=/Users/flipflops/Library/Application Support/Google/Chrome/Default\")\n",
    "driver = webdriver.Chrome(ChromeDriverManager().install() , options=options)\n"
   ]
  },
  {
   "cell_type": "code",
   "execution_count": null,
   "id": "6dc80635",
   "metadata": {},
   "outputs": [],
   "source": [
    "searchButton = driver.find_elements(By.XPATH,f\"//input[@title='Search']\")\n",
    "\n",
    "notSearchClass = 'gLFyf gsfi'\n",
    "searchButton = driver.find_elements(By.XPATH,f\"//input[@class='{notSearchClass}']\")"
   ]
  },
  {
   "cell_type": "code",
   "execution_count": null,
   "id": "5b02403b",
   "metadata": {},
   "outputs": [],
   "source": [
    "searchButton"
   ]
  },
  {
   "cell_type": "code",
   "execution_count": null,
   "id": "305d723d",
   "metadata": {},
   "outputs": [],
   "source": []
  },
  {
   "cell_type": "code",
   "execution_count": null,
   "id": "60103d07",
   "metadata": {},
   "outputs": [],
   "source": []
  },
  {
   "cell_type": "code",
   "execution_count": null,
   "id": "21e91b73",
   "metadata": {},
   "outputs": [],
   "source": []
  },
  {
   "cell_type": "code",
   "execution_count": null,
   "id": "862e1540",
   "metadata": {},
   "outputs": [],
   "source": [
    "searchResultClass = 'g tF2Cxc'\n",
    "searchResults = driver.find_elements(By.XPATH,f\"//div[@class='{searchResultClass}']\")"
   ]
  },
  {
   "cell_type": "code",
   "execution_count": null,
   "id": "e7bf2e40",
   "metadata": {},
   "outputs": [],
   "source": []
  },
  {
   "cell_type": "code",
   "execution_count": null,
   "id": "cc0ae586",
   "metadata": {},
   "outputs": [],
   "source": []
  },
  {
   "cell_type": "code",
   "execution_count": null,
   "id": "2fa3a59e",
   "metadata": {},
   "outputs": [],
   "source": []
  }
 ],
 "metadata": {
  "kernelspec": {
   "display_name": "Python 3 (ipykernel)",
   "language": "python",
   "name": "python3"
  },
  "language_info": {
   "codemirror_mode": {
    "name": "ipython",
    "version": 3
   },
   "file_extension": ".py",
   "mimetype": "text/x-python",
   "name": "python",
   "nbconvert_exporter": "python",
   "pygments_lexer": "ipython3",
   "version": "3.7.11"
  }
 },
 "nbformat": 4,
 "nbformat_minor": 5
}
