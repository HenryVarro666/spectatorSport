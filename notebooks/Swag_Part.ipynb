{
 "cells": [
  {
   "cell_type": "code",
   "execution_count": 1,
   "id": "0813dedb",
   "metadata": {},
   "outputs": [],
   "source": [
    "import pandas as pd \n",
    "import numpy as np\n",
    "from nltk.corpus import stopwords\n",
    "import re\n",
    "import gensim\n",
    "from gensim.corpora import Dictionary\n",
    "import matplotlib.pyplot as plt\n",
    "import matplotlib.colors as mcolors\n",
    "import seaborn as sns\n",
    "from wordcloud import WordCloud, STOPWORDS\n",
    "from gensim.utils import  simple_preprocess\n",
    "import spacy\n",
    "from nltk import bigrams\n",
    "from gensim.models import Word2Vec\n",
    "from sklearn.model_selection import train_test_split\n",
    "from sklearn.multiclass import OneVsRestClassifier\n",
    "from sklearn.ensemble import RandomForestClassifier\n",
    "from itertools import cycle\n",
    "from sklearn.metrics import auc \n",
    "from sklearn.metrics import roc_curve"
   ]
  },
  {
   "cell_type": "code",
   "execution_count": 2,
   "id": "4decba40",
   "metadata": {},
   "outputs": [
    {
     "data": {
      "text/html": [
       "<div>\n",
       "<style scoped>\n",
       "    .dataframe tbody tr th:only-of-type {\n",
       "        vertical-align: middle;\n",
       "    }\n",
       "\n",
       "    .dataframe tbody tr th {\n",
       "        vertical-align: top;\n",
       "    }\n",
       "\n",
       "    .dataframe thead th {\n",
       "        text-align: right;\n",
       "    }\n",
       "</style>\n",
       "<table border=\"1\" class=\"dataframe\">\n",
       "  <thead>\n",
       "    <tr style=\"text-align: right;\">\n",
       "      <th></th>\n",
       "      <th>Unnamed: 0</th>\n",
       "      <th>art_Unnamed: 0</th>\n",
       "      <th>art_uid</th>\n",
       "      <th>art_article_author</th>\n",
       "      <th>art_article_date</th>\n",
       "      <th>art_article_text</th>\n",
       "      <th>art_article_url</th>\n",
       "      <th>ref_Unnamed: 0</th>\n",
       "      <th>ref_Unnamed: 0.1</th>\n",
       "      <th>ref_uid</th>\n",
       "      <th>ref_title</th>\n",
       "      <th>ref_time</th>\n",
       "      <th>ref_source</th>\n",
       "      <th>ref_time-capture</th>\n",
       "      <th>ref_sc</th>\n",
       "      <th>ref_domain</th>\n",
       "      <th>ref_full-text</th>\n",
       "      <th>ref_sc2</th>\n",
       "      <th>ref_geo</th>\n",
       "      <th>ref_time_parsed</th>\n",
       "    </tr>\n",
       "  </thead>\n",
       "  <tbody>\n",
       "    <tr>\n",
       "      <th>0</th>\n",
       "      <td>0</td>\n",
       "      <td>5</td>\n",
       "      <td>02b5cecd-fac3-4b89-80a2-5bc7d3356d51</td>\n",
       "      <td>['Jake Epstein']</td>\n",
       "      <td>2022-04-04 00:00:00</td>\n",
       "      <td>Lithuania's top diplomat said buying Russian o...</td>\n",
       "      <td>https://www.businessinsider.com/lithuania-dipl...</td>\n",
       "      <td>16</td>\n",
       "      <td>16</td>\n",
       "      <td>02b5cecd-fac3-4b89-80a2-5bc7d3356d51</td>\n",
       "      <td>Lithuanian ambassador to Ukraine to return to ...</td>\n",
       "      <td>4 hours ago</td>\n",
       "      <td>https://twitter.com/idreesali114/status/151098...</td>\n",
       "      <td>2022-04-04 13:47:10.051481</td>\n",
       "      <td>False</td>\n",
       "      <td>data:image/svg+xml;base64,PHN2ZyB2ZXJzaW9uPSIx...</td>\n",
       "      <td>SourceOn live map\\nTell friends\\n4 hours ago -...</td>\n",
       "      <td>False</td>\n",
       "      <td>54°41′N 25°16′E</td>\n",
       "      <td>2022-04-04 09:50:58</td>\n",
       "    </tr>\n",
       "  </tbody>\n",
       "</table>\n",
       "</div>"
      ],
      "text/plain": [
       "   Unnamed: 0  art_Unnamed: 0                               art_uid  \\\n",
       "0           0               5  02b5cecd-fac3-4b89-80a2-5bc7d3356d51   \n",
       "\n",
       "  art_article_author     art_article_date  \\\n",
       "0   ['Jake Epstein']  2022-04-04 00:00:00   \n",
       "\n",
       "                                    art_article_text  \\\n",
       "0  Lithuania's top diplomat said buying Russian o...   \n",
       "\n",
       "                                     art_article_url  ref_Unnamed: 0  \\\n",
       "0  https://www.businessinsider.com/lithuania-dipl...              16   \n",
       "\n",
       "   ref_Unnamed: 0.1                               ref_uid  \\\n",
       "0                16  02b5cecd-fac3-4b89-80a2-5bc7d3356d51   \n",
       "\n",
       "                                           ref_title     ref_time  \\\n",
       "0  Lithuanian ambassador to Ukraine to return to ...  4 hours ago   \n",
       "\n",
       "                                          ref_source  \\\n",
       "0  https://twitter.com/idreesali114/status/151098...   \n",
       "\n",
       "             ref_time-capture  ref_sc  \\\n",
       "0  2022-04-04 13:47:10.051481   False   \n",
       "\n",
       "                                          ref_domain  \\\n",
       "0  data:image/svg+xml;base64,PHN2ZyB2ZXJzaW9uPSIx...   \n",
       "\n",
       "                                       ref_full-text  ref_sc2  \\\n",
       "0  SourceOn live map\\nTell friends\\n4 hours ago -...    False   \n",
       "\n",
       "           ref_geo      ref_time_parsed  \n",
       "0  54°41′N 25°16′E  2022-04-04 09:50:58  "
      ]
     },
     "execution_count": 2,
     "metadata": {},
     "output_type": "execute_result"
    }
   ],
   "source": [
    "df = pd.read_csv('../data/processed/author-parse-articles.csv')\n",
    "df.head(1)"
   ]
  },
  {
   "cell_type": "code",
   "execution_count": 3,
   "id": "2747336d",
   "metadata": {},
   "outputs": [],
   "source": [
    "# Getting Domains From News Websites \n",
    "m = df['art_article_url'].str.extract('(?<=http://)(.*?)(?=/)|(?<=https://)(.*?)(?=/)')\n",
    "m = m[0].fillna(m[1]).fillna(df['art_article_url'])\n",
    "df['art_extracted_domain'] = m"
   ]
  },
  {
   "cell_type": "code",
   "execution_count": 4,
   "id": "3d810168",
   "metadata": {},
   "outputs": [
    {
     "data": {
      "text/plain": [
       "7.036585365853658"
      ]
     },
     "execution_count": 4,
     "metadata": {},
     "output_type": "execute_result"
    }
   ],
   "source": [
    "\n",
    "df.groupby(['art_extracted_domain']).agg(\"count\")[\"art_uid\"].mean()"
   ]
  },
  {
   "cell_type": "code",
   "execution_count": 5,
   "id": "6717e9d8",
   "metadata": {},
   "outputs": [],
   "source": [
    "df_domain = df.groupby(['art_extracted_domain']).agg(\"count\")[\"art_uid\"] \n",
    "domains = list(df_domain[df_domain>20].index)"
   ]
  },
  {
   "cell_type": "code",
   "execution_count": 6,
   "id": "2ce5f10b",
   "metadata": {},
   "outputs": [],
   "source": [
    "df_filter = df[df[\"art_extracted_domain\"].isin(domains)]"
   ]
  },
  {
   "cell_type": "code",
   "execution_count": 7,
   "id": "8d8d58fe",
   "metadata": {},
   "outputs": [],
   "source": [
    "stop_words = stopwords.words('english')\n",
    "stop_words.extend(['from', 'subject', 're', 'edu', 'use', 'not', 'would', 'say', 'could', '_', 'be', 'know', 'good', 'go', 'get', 'do', 'done', 'try', 'many', 'some', 'nice', 'thank', 'think', 'see', 'rather', 'easy', 'easily', 'lot', 'lack', 'make', 'want', 'seem', 'run', 'need', 'even', 'right', 'line', 'even', 'also', 'may', 'take', 'come'])\n"
   ]
  },
  {
   "cell_type": "code",
   "execution_count": 8,
   "id": "5deb3eef",
   "metadata": {},
   "outputs": [],
   "source": [
    "news = df_filter[[\"art_article_text\"]]"
   ]
  },
  {
   "cell_type": "code",
   "execution_count": 9,
   "id": "e6065e42",
   "metadata": {},
   "outputs": [],
   "source": [
    "def sent_to_words(sentences):\n",
    "    for sent in sentences:\n",
    "        sent = re.sub('[,\\.!?]', '', sent)  # remove emails\n",
    "        sent = sent.lower()  \n",
    "        sent = re.sub('\\s+', ' ', sent)  # remove newline chars\n",
    "        sent = re.sub(\"\\'\", \"\", sent)  # remove single quotes\n",
    "        sent = gensim.utils.simple_preprocess(str(sent), deacc=True) \n",
    "        yield(sent)  \n",
    "\n",
    "data = news['art_article_text'].values.tolist()\n",
    "data = [i for i in data if type(i) != float ]\n",
    "data_words = list(sent_to_words(data))"
   ]
  },
  {
   "cell_type": "code",
   "execution_count": 10,
   "id": "ae39ea40",
   "metadata": {},
   "outputs": [],
   "source": [
    "# remove stopwords\n",
    "sentences=[]\n",
    "for line in data_words:\n",
    "    try:\n",
    "        segs = [i for i in line if i not in stop_words]\n",
    "        sentences.append(segs)\n",
    "    except:\n",
    "        print (line)\n",
    "        continue"
   ]
  },
  {
   "cell_type": "markdown",
   "id": "2b069b54",
   "metadata": {},
   "source": [
    "# topic discover"
   ]
  },
  {
   "cell_type": "code",
   "execution_count": null,
   "id": "64c42b75",
   "metadata": {},
   "outputs": [],
   "source": [
    "# Create Dictionary\n",
    "id2word = Dictionary(sentences)\n",
    "\n",
    "# Create Corpus: Term Document Frequency\n",
    "corpus = [id2word.doc2bow(text) for text in sentences]\n",
    "\n",
    "# Build LDA model\n",
    "lda_model = gensim.models.ldamodel.LdaModel(corpus=corpus,\n",
    "                                           id2word=id2word,\n",
    "                                           num_topics=10, \n",
    "                                           random_state=100,\n",
    "                                           update_every=1,\n",
    "                                           chunksize=10,\n",
    "                                           passes=10,\n",
    "                                           alpha='symmetric',\n",
    "                                           iterations=100,\n",
    "                                           per_word_topics=True)"
   ]
  },
  {
   "cell_type": "code",
   "execution_count": null,
   "id": "613e446a",
   "metadata": {},
   "outputs": [],
   "source": [
    "for topic in lda_model.print_topics(num_topics=10, num_words=8):\n",
    "    print (topic[1])"
   ]
  },
  {
   "cell_type": "code",
   "execution_count": null,
   "id": "4bd0e371",
   "metadata": {},
   "outputs": [],
   "source": [
    "# Structure the theme, cluster every article topic words and theme and give the possibility. \n",
    "\n",
    "def format_topics_sentences(ldamodel=None, corpus=corpus, texts=data):\n",
    "    # Init output\n",
    "    sent_topics_df = pd.DataFrame()\n",
    "\n",
    "    # Get main topic in each document\n",
    "    for i, row_list in enumerate(ldamodel[corpus]):\n",
    "        row = row_list[0] if ldamodel.per_word_topics else row_list            \n",
    "        # print(row)\n",
    "        row = sorted(row, key=lambda x: (x[1]), reverse=True)\n",
    "        # Get the Dominant topic, Perc Contribution and Keywords for each document\n",
    "        for j, (topic_num, prop_topic) in enumerate(row):\n",
    "            if j == 0:  # => dominant topic\n",
    "                wp = ldamodel.show_topic(topic_num)\n",
    "                topic_keywords = \", \".join([word for word, prop in wp])\n",
    "                sent_topics_df = sent_topics_df.append(pd.Series([int(topic_num), round(prop_topic,10), topic_keywords]), ignore_index=True)\n",
    "            else:\n",
    "                break\n",
    "    sent_topics_df.columns = ['Dominant_Topic', 'Perc_Contribution', 'Topic_Keywords']\n",
    "\n",
    "    # Add original text to the end of the output\n",
    "    contents = pd.Series(texts)\n",
    "    sent_topics_df = pd.concat([sent_topics_df, contents], axis=1)\n",
    "    return(sent_topics_df)\n",
    "\n",
    "\n",
    "df_topic_sents_keywords = format_topics_sentences(ldamodel=lda_model, corpus=corpus, texts=sentences)\n",
    "\n",
    "# Format\n",
    "df_dominant_topic = df_topic_sents_keywords.reset_index()\n",
    "df_dominant_topic.columns = ['Document_No', 'Dominant_Topic', 'Topic_Perc_Contrib', 'Keywords', 'Text']\n",
    "df_dominant_topic.head(10)"
   ]
  },
  {
   "cell_type": "code",
   "execution_count": null,
   "id": "b44a231a",
   "metadata": {},
   "outputs": [],
   "source": [
    "\"\"\"get samples of sentences that most represent a given topic.\"\"\"\n",
    "pd.options.display.max_colwidth = 100\n",
    "\n",
    "sent_topics_sorteddf_mallet = pd.DataFrame()\n",
    "sent_topics_outdf_grpd = df_topic_sents_keywords.groupby('Dominant_Topic')\n",
    "\n",
    "for i, grp in sent_topics_outdf_grpd:\n",
    "    sent_topics_sorteddf_mallet = pd.concat([sent_topics_sorteddf_mallet, \n",
    "                                             grp.sort_values(['Perc_Contribution'], ascending=False).head(1)], \n",
    "                                            axis=0)\n",
    "\n",
    "# Reset Index    \n",
    "sent_topics_sorteddf_mallet.reset_index(drop=True, inplace=True)\n",
    "\n",
    "# Format\n",
    "sent_topics_sorteddf_mallet.columns = ['Topic_Num', \"Topic_Perc_Contrib\", \"Keywords\", \"Representative Text\"]\n",
    "\n",
    "# Show\n",
    "sent_topics_sorteddf_mallet.head(10)"
   ]
  },
  {
   "cell_type": "code",
   "execution_count": null,
   "id": "77a27659",
   "metadata": {},
   "outputs": [],
   "source": [
    "cols = [color for name, color in mcolors.TABLEAU_COLORS.items()]  # more colors: 'mcolors.XKCD_COLORS'\n",
    "\n",
    "fig, axes = plt.subplots(2,2,figsize=(16,14), dpi=100, sharex=True, sharey=True)\n",
    "\n",
    "for i, ax in enumerate(axes.flatten()):    \n",
    "    df_dominant_topic_sub = df_dominant_topic.loc[df_dominant_topic.Dominant_Topic == i, :]\n",
    "    doc_lens = [len(d) for d in df_dominant_topic_sub.Text]\n",
    "    ax.hist(doc_lens, bins = 100, color=cols[i])\n",
    "    ax.tick_params(axis='y', labelcolor=cols[i], color=cols[i])\n",
    "    sns.kdeplot(doc_lens, color=\"black\", shade=False, ax=ax.twinx())\n",
    "    ax.set(xlim=(0, 200), xlabel='Document Word Count')\n",
    "    ax.set_ylabel('Number of Documents', color=cols[i])\n",
    "    ax.set_title('Topic: '+str(i), fontdict=dict(size=16, color=cols[i]))\n",
    "\n",
    "fig.tight_layout()\n",
    "fig.subplots_adjust(top=0.90)\n",
    "plt.xticks(np.linspace(0,200,9))\n",
    "fig.suptitle('Distribution of Document Word Counts by Dominant Topic', fontsize=22)\n",
    "plt.show()"
   ]
  },
  {
   "cell_type": "code",
   "execution_count": null,
   "id": "4f137095",
   "metadata": {},
   "outputs": [],
   "source": [
    "cols = [color for name, color in mcolors.TABLEAU_COLORS.items()]  # more colors: 'mcolors.XKCD_COLORS'\n",
    "\n",
    "cloud = WordCloud(stopwords=stop_words,\n",
    "                  background_color='white',\n",
    "                  width=2500,\n",
    "                  height=1800,\n",
    "                  max_words=10,\n",
    "                  colormap='tab10',\n",
    "                  color_func=lambda *args, **kwargs: cols[i],\n",
    "                  prefer_horizontal=1.0)\n",
    "\n",
    "topics = lda_model.show_topics(formatted=False)\n",
    "\n",
    "fig, axes = plt.subplots(5, 2, figsize=(10,10), sharex=True, sharey=True)\n",
    "\n",
    "for i, ax in enumerate(axes.flatten()):\n",
    "    fig.add_subplot(ax)\n",
    "    topic_words = dict(topics[i][1])\n",
    "    cloud.generate_from_frequencies(topic_words, max_font_size=300)\n",
    "    plt.gca().imshow(cloud)\n",
    "    plt.gca().set_title('Topic ' + str(i), fontdict=dict(size=16))\n",
    "    plt.gca().axis('off')\n",
    "\n",
    "\n",
    "plt.subplots_adjust(wspace=0, hspace=0)\n",
    "plt.axis('off')\n",
    "plt.margins(x=0, y=0)\n",
    "plt.tight_layout()\n",
    "plt.show()"
   ]
  },
  {
   "cell_type": "code",
   "execution_count": null,
   "id": "a6398299",
   "metadata": {},
   "outputs": [],
   "source": [
    "\n",
    "# Helper function\n",
    "def plot_10_most_common_words(count_data, count_vectorizer):\n",
    "    import matplotlib.pyplot as plt\n",
    "    words = count_vectorizer.get_feature_names()\n",
    "    total_counts = np.zeros(len(words))\n",
    "    for t in count_data:\n",
    "        total_counts+=t.toarray()[0]\n",
    "    \n",
    "    count_dict = (zip(words, total_counts))\n",
    "    count_dict = sorted(count_dict, key=lambda x:x[1], reverse=True)[0:10]\n",
    "    words = [w[0] for w in count_dict]\n",
    "    counts = [w[1] for w in count_dict]\n",
    "    x_pos = np.arange(len(words)) \n",
    "    \n",
    "    plt.figure(2, figsize=(15, 15/1.6180))\n",
    "    plt.subplot(title='10 most common words')\n",
    "    sns.set_context(\"notebook\", font_scale=1.25, rc={\"lines.linewidth\": 2.5})\n",
    "    sns.barplot(x_pos, counts, palette='husl')\n",
    "    plt.xticks(x_pos, words, rotation=90) \n",
    "    plt.xlabel('words')\n",
    "    plt.ylabel('counts')\n",
    "    plt.show()\n"
   ]
  },
  {
   "cell_type": "code",
   "execution_count": null,
   "id": "8041b426",
   "metadata": {},
   "outputs": [],
   "source": [
    "from sklearn.feature_extraction.text import CountVectorizer\n",
    "# Initialise the count vectorizer with the English stop words\n",
    "count_vectorizer = CountVectorizer(stop_words='english')\n",
    "# Fit and transform the processed titles\n",
    "count_data = count_vectorizer.fit_transform(news[news[\"art_article_text\"].notnull()]['art_article_text'])\n",
    "# Visualise the 10 most common words\n",
    "plot_10_most_common_words(count_data, count_vectorizer)"
   ]
  },
  {
   "cell_type": "code",
   "execution_count": null,
   "id": "0be59d3c",
   "metadata": {},
   "outputs": [],
   "source": [
    "\n",
    "# delete bigrams which not contain the topic words\n",
    "\n",
    "def word_drop_keywords(x):\n",
    "    arr = [i.strip() for i in  x[0].split(\",\") if i.strip() not in [\"russia\",\"ukriane\"] ]\n",
    "    if len(arr) >=5:\n",
    "        key_words = arr[:5]\n",
    "    else:\n",
    "        key_words = arr\n",
    "    words = x[1]\n",
    "    keep_words = []\n",
    "    for i in range(len(words)):\n",
    "        \n",
    "        if i == 0:\n",
    "            if len(set(words[i:i+1])&set(key_words)) > 0 :\n",
    "                \n",
    "                keep_words.append(words[i])\n",
    "        elif i < len(words)-1 and i > 0:\n",
    "            if len(set(words[i:i+2])&set(key_words)) > 0 or len(set(words[i-1:i+1])&set(key_words)) > 0 :\n",
    "\n",
    "                keep_words.append(words[i])\n",
    "        else:\n",
    "            if words[i-1] in key_words:\n",
    "                keep_words.append(words[i])\n",
    "    return keep_words"
   ]
  },
  {
   "cell_type": "code",
   "execution_count": null,
   "id": "1a54624e",
   "metadata": {},
   "outputs": [],
   "source": [
    "new_text = df_dominant_topic[[\"Keywords\",\"Text\"]].apply(lambda x:word_drop_keywords(x),axis=1)\n",
    "new_text = [i for i in new_text if len(i) >0]\n",
    "new_text"
   ]
  },
  {
   "cell_type": "code",
   "execution_count": 23,
   "id": "499309cf",
   "metadata": {},
   "outputs": [],
   "source": [
    "new_data = [\" \".join(i) for i in new_text ]\n",
    "new_data"
   ]
  },
  {
   "cell_type": "code",
   "execution_count": 24,
   "id": "f88ca9d0",
   "metadata": {},
   "outputs": [],
   "source": [
    "# Build the bigram and trigram models\n",
    "bigram = gensim.models.Phrases(new_data, min_count=2, threshold=1) # higher threshold fewer phrases.\n",
    "# trigram = gensim.models.Phrases(bigram[new_data], threshold=1)  \n",
    "bigram_mod = gensim.models.phrases.Phraser(bigram)\n",
    "# trigram_mod = gensim.models.phrases.Phraser(trigram)"
   ]
  },
  {
   "cell_type": "code",
   "execution_count": 28,
   "id": "b585f260",
   "metadata": {},
   "outputs": [],
   "source": [
    "# 文本处理：将每个词词根词尾化，只保留名词、形容词、动词和副词。只保留这些词性标签，因为它们对句子的意义贡献最大。在这里，我使用空格来表示词目化。\n",
    "def process_words(texts, stop_words=stop_words, allowed_postags=['NOUN', 'ADJ', 'VERB', 'ADV']):\n",
    "    \"\"\"Remove Stopwords, Form Bigrams, Trigrams and Lemmatization\"\"\"\n",
    "    \n",
    "    texts = [[word for word in simple_preprocess(str(doc)) if word not in stop_words] for doc in texts]\n",
    "    texts = [bigram_mod[doc] for doc in texts]\n",
    "    # texts = [trigram_mod[bigram_mod[doc]] for doc in texts]\n",
    "    texts_out = []\n",
    "    nlp = spacy.load(\"en_core_web_sm\", disable=['parser', 'ner'])\n",
    "    for sent in texts:\n",
    "        # print(sent)\n",
    "        doc = nlp(\" \".join(sent)) \n",
    "        texts_out.append([token.lemma_ for token in doc if token.pos_ in allowed_postags])\n",
    "    # remove stopwords once more after lemmatization\n",
    "    texts_out = [[word for word in simple_preprocess(str(doc)) if word not in stop_words] for doc in texts_out]    \n",
    "    return texts_out\n",
    "\n",
    "data_ready = process_words(new_data) "
   ]
  },
  {
   "cell_type": "code",
   "execution_count": 29,
   "id": "974fcf4e",
   "metadata": {},
   "outputs": [],
   "source": [
    "# Create Dictionary\n",
    "id2word = Dictionary(data_ready)\n",
    "\n",
    "# Create Corpus: Term Document Frequency\n",
    "corpus = [id2word.doc2bow(text) for text in data_ready]\n",
    "\n",
    "# Build LDA model\n",
    "lda_model = gensim.models.ldamodel.LdaModel(corpus=corpus,\n",
    "                                           id2word=id2word,\n",
    "                                           num_topics=5, \n",
    "                                           random_state=100,\n",
    "                                           update_every=1,\n",
    "                                           chunksize=10,\n",
    "                                           passes=10,\n",
    "                                           alpha='symmetric',\n",
    "                                           iterations=100,\n",
    "                                           per_word_topics=True)"
   ]
  },
  {
   "cell_type": "code",
   "execution_count": 30,
   "id": "2188e993",
   "metadata": {},
   "outputs": [
    {
     "name": "stdout",
     "output_type": "stream",
     "text": [
      "0.393*\"russian\" + 0.083*\"force\" + 0.036*\"troop\" + 0.017*\"military\" + 0.015*\"soldier\" + 0.008*\"accord\" + 0.007*\"kill\" + 0.006*\"destroy\"\n",
      "0.108*\"region\" + 0.074*\"people\" + 0.047*\"image\" + 0.046*\"official\" + 0.027*\"announce\" + 0.024*\"food\" + 0.023*\"senior\" + 0.021*\"accord\"\n",
      "0.079*\"apr\" + 0.067*\"gmt\" + 0.020*\"sanction\" + 0.013*\"official\" + 0.011*\"weapon\" + 0.011*\"oil\" + 0.010*\"fight\" + 0.008*\"claim\"\n",
      "0.232*\"ukraine\" + 0.095*\"war\" + 0.032*\"crime\" + 0.028*\"invasion\" + 0.017*\"statement\" + 0.017*\"official\" + 0.013*\"invade\" + 0.012*\"support\"\n",
      "0.175*\"ukrainian\" + 0.105*\"city\" + 0.096*\"kyiv\" + 0.046*\"force\" + 0.037*\"russian\" + 0.028*\"attack\" + 0.020*\"capital\" + 0.017*\"troop\"\n"
     ]
    }
   ],
   "source": [
    "for topic in lda_model.print_topics(num_topics=10, num_words=8):\n",
    "    print (topic[1])"
   ]
  },
  {
   "cell_type": "code",
   "execution_count": 31,
   "id": "9827cf1a",
   "metadata": {},
   "outputs": [
    {
     "data": {
      "text/html": [
       "<div>\n",
       "<style scoped>\n",
       "    .dataframe tbody tr th:only-of-type {\n",
       "        vertical-align: middle;\n",
       "    }\n",
       "\n",
       "    .dataframe tbody tr th {\n",
       "        vertical-align: top;\n",
       "    }\n",
       "\n",
       "    .dataframe thead th {\n",
       "        text-align: right;\n",
       "    }\n",
       "</style>\n",
       "<table border=\"1\" class=\"dataframe\">\n",
       "  <thead>\n",
       "    <tr style=\"text-align: right;\">\n",
       "      <th></th>\n",
       "      <th>Document_No</th>\n",
       "      <th>Dominant_Topic</th>\n",
       "      <th>Topic_Perc_Contrib</th>\n",
       "      <th>Keywords</th>\n",
       "      <th>Text</th>\n",
       "    </tr>\n",
       "  </thead>\n",
       "  <tbody>\n",
       "    <tr>\n",
       "      <th>0</th>\n",
       "      <td>0</td>\n",
       "      <td>0.0</td>\n",
       "      <td>0.482425</td>\n",
       "      <td>russian, force, troop, military, soldier, accord, kill, destroy, shell, pro</td>\n",
       "      <td>[diplomat, buy, russian, oil, urge, country, half, russian, gas, export, european, country, urge...</td>\n",
       "    </tr>\n",
       "    <tr>\n",
       "      <th>1</th>\n",
       "      <td>1</td>\n",
       "      <td>0.0</td>\n",
       "      <td>0.705251</td>\n",
       "      <td>russian, force, troop, military, soldier, accord, kill, destroy, shell, pro</td>\n",
       "      <td>[staff, armed, force, perm, region, republic, armed, force, punish, russian, federation, attack,...</td>\n",
       "    </tr>\n",
       "    <tr>\n",
       "      <th>2</th>\n",
       "      <td>2</td>\n",
       "      <td>1.0</td>\n",
       "      <td>0.987453</td>\n",
       "      <td>region, people, image, official, announce, food, senior, accord, luhansk, leave</td>\n",
       "      <td>[civilian, region, flee, luhansk, region, ruin, thousand, people, leave, region, region, tell, d...</td>\n",
       "    </tr>\n",
       "    <tr>\n",
       "      <th>3</th>\n",
       "      <td>3</td>\n",
       "      <td>0.0</td>\n",
       "      <td>0.720613</td>\n",
       "      <td>russian, force, troop, military, soldier, accord, kill, destroy, shell, pro</td>\n",
       "      <td>[defense, russian, aggression, russian, missile, russian, occupier, already, russian, occupier, ...</td>\n",
       "    </tr>\n",
       "    <tr>\n",
       "      <th>4</th>\n",
       "      <td>4</td>\n",
       "      <td>3.0</td>\n",
       "      <td>0.657432</td>\n",
       "      <td>ukraine, war, crime, invasion, statement, official, invade, support, zelenskyy, attack</td>\n",
       "      <td>[allegation, russian, troop, bucha, ukraine, image, ukraine, require, greenfield, vote, evidence...</td>\n",
       "    </tr>\n",
       "    <tr>\n",
       "      <th>5</th>\n",
       "      <td>5</td>\n",
       "      <td>1.0</td>\n",
       "      <td>0.987453</td>\n",
       "      <td>region, people, image, official, announce, food, senior, accord, luhansk, leave</td>\n",
       "      <td>[civilian, region, flee, luhansk, region, ruin, thousand, people, leave, region, region, tell, d...</td>\n",
       "    </tr>\n",
       "    <tr>\n",
       "      <th>6</th>\n",
       "      <td>6</td>\n",
       "      <td>0.0</td>\n",
       "      <td>0.622238</td>\n",
       "      <td>russian, force, troop, military, soldier, accord, kill, destroy, shell, pro</td>\n",
       "      <td>[destroy, russian, tank, echo, russian, military, defense, distribute, withdrawal, russian, forc...</td>\n",
       "    </tr>\n",
       "    <tr>\n",
       "      <th>7</th>\n",
       "      <td>7</td>\n",
       "      <td>0.0</td>\n",
       "      <td>0.729946</td>\n",
       "      <td>russian, force, troop, military, soldier, accord, kill, destroy, shell, pro</td>\n",
       "      <td>[russian, military, leader, russian, back, force, kyiv, northern, ukrainian, chernihiv]</td>\n",
       "    </tr>\n",
       "    <tr>\n",
       "      <th>8</th>\n",
       "      <td>8</td>\n",
       "      <td>4.0</td>\n",
       "      <td>0.853436</td>\n",
       "      <td>ukrainian, city, kyiv, force, russian, attack, capital, troop, port, mariupol</td>\n",
       "      <td>[warn, intensify, attack, ukrainian, capital, accuse, ukraine, target, russian, border, flagship...</td>\n",
       "    </tr>\n",
       "    <tr>\n",
       "      <th>9</th>\n",
       "      <td>9</td>\n",
       "      <td>4.0</td>\n",
       "      <td>0.853437</td>\n",
       "      <td>ukrainian, city, kyiv, force, russian, attack, capital, troop, port, mariupol</td>\n",
       "      <td>[warn, intensify, attack, ukrainian, capital, accuse, ukraine, target, russian, border, flagship...</td>\n",
       "    </tr>\n",
       "  </tbody>\n",
       "</table>\n",
       "</div>"
      ],
      "text/plain": [
       "   Document_No  Dominant_Topic  Topic_Perc_Contrib  \\\n",
       "0            0             0.0            0.482425   \n",
       "1            1             0.0            0.705251   \n",
       "2            2             1.0            0.987453   \n",
       "3            3             0.0            0.720613   \n",
       "4            4             3.0            0.657432   \n",
       "5            5             1.0            0.987453   \n",
       "6            6             0.0            0.622238   \n",
       "7            7             0.0            0.729946   \n",
       "8            8             4.0            0.853436   \n",
       "9            9             4.0            0.853437   \n",
       "\n",
       "                                                                                 Keywords  \\\n",
       "0             russian, force, troop, military, soldier, accord, kill, destroy, shell, pro   \n",
       "1             russian, force, troop, military, soldier, accord, kill, destroy, shell, pro   \n",
       "2         region, people, image, official, announce, food, senior, accord, luhansk, leave   \n",
       "3             russian, force, troop, military, soldier, accord, kill, destroy, shell, pro   \n",
       "4  ukraine, war, crime, invasion, statement, official, invade, support, zelenskyy, attack   \n",
       "5         region, people, image, official, announce, food, senior, accord, luhansk, leave   \n",
       "6             russian, force, troop, military, soldier, accord, kill, destroy, shell, pro   \n",
       "7             russian, force, troop, military, soldier, accord, kill, destroy, shell, pro   \n",
       "8           ukrainian, city, kyiv, force, russian, attack, capital, troop, port, mariupol   \n",
       "9           ukrainian, city, kyiv, force, russian, attack, capital, troop, port, mariupol   \n",
       "\n",
       "                                                                                                  Text  \n",
       "0  [diplomat, buy, russian, oil, urge, country, half, russian, gas, export, european, country, urge...  \n",
       "1  [staff, armed, force, perm, region, republic, armed, force, punish, russian, federation, attack,...  \n",
       "2  [civilian, region, flee, luhansk, region, ruin, thousand, people, leave, region, region, tell, d...  \n",
       "3  [defense, russian, aggression, russian, missile, russian, occupier, already, russian, occupier, ...  \n",
       "4  [allegation, russian, troop, bucha, ukraine, image, ukraine, require, greenfield, vote, evidence...  \n",
       "5  [civilian, region, flee, luhansk, region, ruin, thousand, people, leave, region, region, tell, d...  \n",
       "6  [destroy, russian, tank, echo, russian, military, defense, distribute, withdrawal, russian, forc...  \n",
       "7              [russian, military, leader, russian, back, force, kyiv, northern, ukrainian, chernihiv]  \n",
       "8  [warn, intensify, attack, ukrainian, capital, accuse, ukraine, target, russian, border, flagship...  \n",
       "9  [warn, intensify, attack, ukrainian, capital, accuse, ukraine, target, russian, border, flagship...  "
      ]
     },
     "execution_count": 31,
     "metadata": {},
     "output_type": "execute_result"
    }
   ],
   "source": [
    "df_topic_sents_keywords = format_topics_sentences(ldamodel=lda_model, corpus=corpus, texts=data_ready)\n",
    "\n",
    "# Format\n",
    "df_dominant_topic = df_topic_sents_keywords.reset_index()\n",
    "df_dominant_topic.columns = ['Document_No', 'Dominant_Topic', 'Topic_Perc_Contrib', 'Keywords', 'Text']\n",
    "df_dominant_topic.head(10)"
   ]
  },
  {
   "cell_type": "code",
   "execution_count": 32,
   "id": "c0f30a4e",
   "metadata": {},
   "outputs": [
    {
     "data": {
      "text/html": [
       "<div>\n",
       "<style scoped>\n",
       "    .dataframe tbody tr th:only-of-type {\n",
       "        vertical-align: middle;\n",
       "    }\n",
       "\n",
       "    .dataframe tbody tr th {\n",
       "        vertical-align: top;\n",
       "    }\n",
       "\n",
       "    .dataframe thead th {\n",
       "        text-align: right;\n",
       "    }\n",
       "</style>\n",
       "<table border=\"1\" class=\"dataframe\">\n",
       "  <thead>\n",
       "    <tr style=\"text-align: right;\">\n",
       "      <th></th>\n",
       "      <th>Topic_Num</th>\n",
       "      <th>Topic_Perc_Contrib</th>\n",
       "      <th>Keywords</th>\n",
       "      <th>Representative Text</th>\n",
       "    </tr>\n",
       "  </thead>\n",
       "  <tbody>\n",
       "    <tr>\n",
       "      <th>0</th>\n",
       "      <td>0.0</td>\n",
       "      <td>0.955967</td>\n",
       "      <td>russian, force, troop, military, soldier, accord, kill, destroy, shell, pro</td>\n",
       "      <td>[russian, invader, blow, russian, army, force, losse, russian, troop, blow, russian, army, accor...</td>\n",
       "    </tr>\n",
       "    <tr>\n",
       "      <th>1</th>\n",
       "      <td>1.0</td>\n",
       "      <td>0.987453</td>\n",
       "      <td>region, people, image, official, announce, food, senior, accord, luhansk, leave</td>\n",
       "      <td>[civilian, region, flee, luhansk, region, ruin, thousand, people, leave, region, region, tell, d...</td>\n",
       "    </tr>\n",
       "    <tr>\n",
       "      <th>2</th>\n",
       "      <td>2.0</td>\n",
       "      <td>0.800533</td>\n",
       "      <td>apr, gmt, sanction, official, weapon, oil, fight, claim, ally, biden</td>\n",
       "      <td>[dollar, look, sanction, evasion, effectiveness, sanction, always, nation, leader, official, key...</td>\n",
       "    </tr>\n",
       "    <tr>\n",
       "      <th>3</th>\n",
       "      <td>3.0</td>\n",
       "      <td>0.965810</td>\n",
       "      <td>ukraine, war, crime, invasion, statement, official, invade, support, zelenskyy, attack</td>\n",
       "      <td>[commit, war, crime, ukraine, stop, appalled, civilian, crime, prosecute, war, result, war, crim...</td>\n",
       "    </tr>\n",
       "    <tr>\n",
       "      <th>4</th>\n",
       "      <td>4.0</td>\n",
       "      <td>0.948870</td>\n",
       "      <td>ukrainian, city, kyiv, force, russian, attack, capital, troop, port, mariupol</td>\n",
       "      <td>[russian, troop, ukrainian, official, russian, troop, southern, city, mykolaiv, ukrainian, offic...</td>\n",
       "    </tr>\n",
       "  </tbody>\n",
       "</table>\n",
       "</div>"
      ],
      "text/plain": [
       "   Topic_Num  Topic_Perc_Contrib  \\\n",
       "0        0.0            0.955967   \n",
       "1        1.0            0.987453   \n",
       "2        2.0            0.800533   \n",
       "3        3.0            0.965810   \n",
       "4        4.0            0.948870   \n",
       "\n",
       "                                                                                 Keywords  \\\n",
       "0             russian, force, troop, military, soldier, accord, kill, destroy, shell, pro   \n",
       "1         region, people, image, official, announce, food, senior, accord, luhansk, leave   \n",
       "2                    apr, gmt, sanction, official, weapon, oil, fight, claim, ally, biden   \n",
       "3  ukraine, war, crime, invasion, statement, official, invade, support, zelenskyy, attack   \n",
       "4           ukrainian, city, kyiv, force, russian, attack, capital, troop, port, mariupol   \n",
       "\n",
       "                                                                                   Representative Text  \n",
       "0  [russian, invader, blow, russian, army, force, losse, russian, troop, blow, russian, army, accor...  \n",
       "1  [civilian, region, flee, luhansk, region, ruin, thousand, people, leave, region, region, tell, d...  \n",
       "2  [dollar, look, sanction, evasion, effectiveness, sanction, always, nation, leader, official, key...  \n",
       "3  [commit, war, crime, ukraine, stop, appalled, civilian, crime, prosecute, war, result, war, crim...  \n",
       "4  [russian, troop, ukrainian, official, russian, troop, southern, city, mykolaiv, ukrainian, offic...  "
      ]
     },
     "execution_count": 32,
     "metadata": {},
     "output_type": "execute_result"
    }
   ],
   "source": [
    "pd.options.display.max_colwidth = 100\n",
    "\n",
    "sent_topics_sorteddf_mallet = pd.DataFrame()\n",
    "sent_topics_outdf_grpd = df_topic_sents_keywords.groupby('Dominant_Topic')\n",
    "\n",
    "for i, grp in sent_topics_outdf_grpd:\n",
    "    sent_topics_sorteddf_mallet = pd.concat([sent_topics_sorteddf_mallet, \n",
    "                                             grp.sort_values(['Perc_Contribution'], ascending=False).head(1)], \n",
    "                                            axis=0)\n",
    "\n",
    "# Reset Index    \n",
    "sent_topics_sorteddf_mallet.reset_index(drop=True, inplace=True)\n",
    "\n",
    "# Format\n",
    "sent_topics_sorteddf_mallet.columns = ['Topic_Num', \"Topic_Perc_Contrib\", \"Keywords\", \"Representative Text\"]\n",
    "\n",
    "# Show\n",
    "sent_topics_sorteddf_mallet.head(10)"
   ]
  },
  {
   "cell_type": "code",
   "execution_count": 33,
   "id": "c8764d8c",
   "metadata": {},
   "outputs": [
    {
     "name": "stdout",
     "output_type": "stream",
     "text": [
      "0.393*\"russian\" + 0.083*\"force\" + 0.036*\"troop\" + 0.017*\"military\" + 0.015*\"soldier\" + 0.008*\"accord\" + 0.007*\"kill\" + 0.006*\"destroy\" + 0.006*\"shell\" + 0.006*\"pro\"\n",
      "0.108*\"region\" + 0.074*\"people\" + 0.047*\"image\" + 0.046*\"official\" + 0.027*\"announce\" + 0.024*\"food\" + 0.023*\"senior\" + 0.021*\"accord\" + 0.020*\"luhansk\" + 0.019*\"leave\"\n",
      "0.079*\"apr\" + 0.067*\"gmt\" + 0.020*\"sanction\" + 0.013*\"official\" + 0.011*\"weapon\" + 0.011*\"oil\" + 0.010*\"fight\" + 0.008*\"claim\" + 0.007*\"ally\" + 0.007*\"biden\"\n",
      "0.232*\"ukraine\" + 0.095*\"war\" + 0.032*\"crime\" + 0.028*\"invasion\" + 0.017*\"statement\" + 0.017*\"official\" + 0.013*\"invade\" + 0.012*\"support\" + 0.011*\"zelenskyy\" + 0.011*\"attack\"\n",
      "0.175*\"ukrainian\" + 0.105*\"city\" + 0.096*\"kyiv\" + 0.046*\"force\" + 0.037*\"russian\" + 0.028*\"attack\" + 0.020*\"capital\" + 0.017*\"troop\" + 0.016*\"port\" + 0.011*\"mariupol\"\n"
     ]
    }
   ],
   "source": [
    "for topic in lda_model.print_topics(num_topics=10, num_words=10):\n",
    "    print (topic[1])"
   ]
  },
  {
   "cell_type": "markdown",
   "id": "4e966c37",
   "metadata": {},
   "source": [
    "# Visualization"
   ]
  },
  {
   "cell_type": "code",
   "execution_count": 34,
   "id": "4bd51746",
   "metadata": {},
   "outputs": [
    {
     "data": {
      "text/html": [
       "<div>\n",
       "<style scoped>\n",
       "    .dataframe tbody tr th:only-of-type {\n",
       "        vertical-align: middle;\n",
       "    }\n",
       "\n",
       "    .dataframe tbody tr th {\n",
       "        vertical-align: top;\n",
       "    }\n",
       "\n",
       "    .dataframe thead th {\n",
       "        text-align: right;\n",
       "    }\n",
       "</style>\n",
       "<table border=\"1\" class=\"dataframe\">\n",
       "  <thead>\n",
       "    <tr style=\"text-align: right;\">\n",
       "      <th></th>\n",
       "      <th>Topic_Num</th>\n",
       "      <th>Topic_Perc_Contrib</th>\n",
       "      <th>Keywords</th>\n",
       "      <th>Representative Text</th>\n",
       "    </tr>\n",
       "  </thead>\n",
       "  <tbody>\n",
       "    <tr>\n",
       "      <th>0</th>\n",
       "      <td>0.0</td>\n",
       "      <td>0.955967</td>\n",
       "      <td>russian, force, troop, military, soldier, accord, kill, destroy, shell, pro</td>\n",
       "      <td>[russian, invader, blow, russian, army, force, losse, russian, troop, blow, russian, army, accor...</td>\n",
       "    </tr>\n",
       "    <tr>\n",
       "      <th>1</th>\n",
       "      <td>1.0</td>\n",
       "      <td>0.987453</td>\n",
       "      <td>region, people, image, official, announce, food, senior, accord, luhansk, leave</td>\n",
       "      <td>[civilian, region, flee, luhansk, region, ruin, thousand, people, leave, region, region, tell, d...</td>\n",
       "    </tr>\n",
       "    <tr>\n",
       "      <th>2</th>\n",
       "      <td>2.0</td>\n",
       "      <td>0.800533</td>\n",
       "      <td>apr, gmt, sanction, official, weapon, oil, fight, claim, ally, biden</td>\n",
       "      <td>[dollar, look, sanction, evasion, effectiveness, sanction, always, nation, leader, official, key...</td>\n",
       "    </tr>\n",
       "    <tr>\n",
       "      <th>3</th>\n",
       "      <td>3.0</td>\n",
       "      <td>0.965810</td>\n",
       "      <td>ukraine, war, crime, invasion, statement, official, invade, support, zelenskyy, attack</td>\n",
       "      <td>[commit, war, crime, ukraine, stop, appalled, civilian, crime, prosecute, war, result, war, crim...</td>\n",
       "    </tr>\n",
       "    <tr>\n",
       "      <th>4</th>\n",
       "      <td>4.0</td>\n",
       "      <td>0.948870</td>\n",
       "      <td>ukrainian, city, kyiv, force, russian, attack, capital, troop, port, mariupol</td>\n",
       "      <td>[russian, troop, ukrainian, official, russian, troop, southern, city, mykolaiv, ukrainian, offic...</td>\n",
       "    </tr>\n",
       "  </tbody>\n",
       "</table>\n",
       "</div>"
      ],
      "text/plain": [
       "   Topic_Num  Topic_Perc_Contrib  \\\n",
       "0        0.0            0.955967   \n",
       "1        1.0            0.987453   \n",
       "2        2.0            0.800533   \n",
       "3        3.0            0.965810   \n",
       "4        4.0            0.948870   \n",
       "\n",
       "                                                                                 Keywords  \\\n",
       "0             russian, force, troop, military, soldier, accord, kill, destroy, shell, pro   \n",
       "1         region, people, image, official, announce, food, senior, accord, luhansk, leave   \n",
       "2                    apr, gmt, sanction, official, weapon, oil, fight, claim, ally, biden   \n",
       "3  ukraine, war, crime, invasion, statement, official, invade, support, zelenskyy, attack   \n",
       "4           ukrainian, city, kyiv, force, russian, attack, capital, troop, port, mariupol   \n",
       "\n",
       "                                                                                   Representative Text  \n",
       "0  [russian, invader, blow, russian, army, force, losse, russian, troop, blow, russian, army, accor...  \n",
       "1  [civilian, region, flee, luhansk, region, ruin, thousand, people, leave, region, region, tell, d...  \n",
       "2  [dollar, look, sanction, evasion, effectiveness, sanction, always, nation, leader, official, key...  \n",
       "3  [commit, war, crime, ukraine, stop, appalled, civilian, crime, prosecute, war, result, war, crim...  \n",
       "4  [russian, troop, ukrainian, official, russian, troop, southern, city, mykolaiv, ukrainian, offic...  "
      ]
     },
     "execution_count": 34,
     "metadata": {},
     "output_type": "execute_result"
    }
   ],
   "source": [
    "sent_topics_sorteddf_mallet"
   ]
  },
  {
   "cell_type": "code",
   "execution_count": 35,
   "id": "d7dd9018",
   "metadata": {},
   "outputs": [
    {
     "data": {
      "text/html": [
       "<div>\n",
       "<style scoped>\n",
       "    .dataframe tbody tr th:only-of-type {\n",
       "        vertical-align: middle;\n",
       "    }\n",
       "\n",
       "    .dataframe tbody tr th {\n",
       "        vertical-align: top;\n",
       "    }\n",
       "\n",
       "    .dataframe thead th {\n",
       "        text-align: right;\n",
       "    }\n",
       "</style>\n",
       "<table border=\"1\" class=\"dataframe\">\n",
       "  <thead>\n",
       "    <tr style=\"text-align: right;\">\n",
       "      <th></th>\n",
       "      <th>Document_No</th>\n",
       "      <th>Dominant_Topic</th>\n",
       "      <th>Topic_Perc_Contrib</th>\n",
       "      <th>Keywords</th>\n",
       "      <th>Text</th>\n",
       "    </tr>\n",
       "  </thead>\n",
       "  <tbody>\n",
       "    <tr>\n",
       "      <th>0</th>\n",
       "      <td>0</td>\n",
       "      <td>0.0</td>\n",
       "      <td>0.482425</td>\n",
       "      <td>russian, force, troop, military, soldier, accord, kill, destroy, shell, pro</td>\n",
       "      <td>[diplomat, buy, russian, oil, urge, country, half, russian, gas, export, european, country, urge...</td>\n",
       "    </tr>\n",
       "    <tr>\n",
       "      <th>1</th>\n",
       "      <td>1</td>\n",
       "      <td>0.0</td>\n",
       "      <td>0.705251</td>\n",
       "      <td>russian, force, troop, military, soldier, accord, kill, destroy, shell, pro</td>\n",
       "      <td>[staff, armed, force, perm, region, republic, armed, force, punish, russian, federation, attack,...</td>\n",
       "    </tr>\n",
       "    <tr>\n",
       "      <th>2</th>\n",
       "      <td>2</td>\n",
       "      <td>1.0</td>\n",
       "      <td>0.987453</td>\n",
       "      <td>region, people, image, official, announce, food, senior, accord, luhansk, leave</td>\n",
       "      <td>[civilian, region, flee, luhansk, region, ruin, thousand, people, leave, region, region, tell, d...</td>\n",
       "    </tr>\n",
       "    <tr>\n",
       "      <th>3</th>\n",
       "      <td>3</td>\n",
       "      <td>0.0</td>\n",
       "      <td>0.720613</td>\n",
       "      <td>russian, force, troop, military, soldier, accord, kill, destroy, shell, pro</td>\n",
       "      <td>[defense, russian, aggression, russian, missile, russian, occupier, already, russian, occupier, ...</td>\n",
       "    </tr>\n",
       "    <tr>\n",
       "      <th>4</th>\n",
       "      <td>4</td>\n",
       "      <td>3.0</td>\n",
       "      <td>0.657432</td>\n",
       "      <td>ukraine, war, crime, invasion, statement, official, invade, support, zelenskyy, attack</td>\n",
       "      <td>[allegation, russian, troop, bucha, ukraine, image, ukraine, require, greenfield, vote, evidence...</td>\n",
       "    </tr>\n",
       "  </tbody>\n",
       "</table>\n",
       "</div>"
      ],
      "text/plain": [
       "   Document_No  Dominant_Topic  Topic_Perc_Contrib  \\\n",
       "0            0             0.0            0.482425   \n",
       "1            1             0.0            0.705251   \n",
       "2            2             1.0            0.987453   \n",
       "3            3             0.0            0.720613   \n",
       "4            4             3.0            0.657432   \n",
       "\n",
       "                                                                                 Keywords  \\\n",
       "0             russian, force, troop, military, soldier, accord, kill, destroy, shell, pro   \n",
       "1             russian, force, troop, military, soldier, accord, kill, destroy, shell, pro   \n",
       "2         region, people, image, official, announce, food, senior, accord, luhansk, leave   \n",
       "3             russian, force, troop, military, soldier, accord, kill, destroy, shell, pro   \n",
       "4  ukraine, war, crime, invasion, statement, official, invade, support, zelenskyy, attack   \n",
       "\n",
       "                                                                                                  Text  \n",
       "0  [diplomat, buy, russian, oil, urge, country, half, russian, gas, export, european, country, urge...  \n",
       "1  [staff, armed, force, perm, region, republic, armed, force, punish, russian, federation, attack,...  \n",
       "2  [civilian, region, flee, luhansk, region, ruin, thousand, people, leave, region, region, tell, d...  \n",
       "3  [defense, russian, aggression, russian, missile, russian, occupier, already, russian, occupier, ...  \n",
       "4  [allegation, russian, troop, bucha, ukraine, image, ukraine, require, greenfield, vote, evidence...  "
      ]
     },
     "execution_count": 35,
     "metadata": {},
     "output_type": "execute_result"
    }
   ],
   "source": [
    "df_dominant_topic.head()"
   ]
  },
  {
   "cell_type": "code",
   "execution_count": 36,
   "id": "3e72f2d9",
   "metadata": {},
   "outputs": [],
   "source": [
    "# analysis article\n",
    "news_tmp_1 = df_dominant_topic.iloc[0]\n",
    "news_tmp_2 = df_dominant_topic.iloc[1]"
   ]
  },
  {
   "cell_type": "code",
   "execution_count": 37,
   "id": "2101c0b6",
   "metadata": {},
   "outputs": [],
   "source": [
    "keys_word_1 = [i.strip() for i in news_tmp_1[\"Keywords\"].split(\",\")]\n",
    "keys_word_2 = [i.strip() for i in news_tmp_2[\"Keywords\"].split(\",\")]"
   ]
  },
  {
   "cell_type": "code",
   "execution_count": 38,
   "id": "768b5b05",
   "metadata": {},
   "outputs": [],
   "source": [
    "common_keywords = list(set(keys_word_1) & set(keys_word_2))"
   ]
  },
  {
   "cell_type": "code",
   "execution_count": 39,
   "id": "3e190b0c",
   "metadata": {},
   "outputs": [],
   "source": [
    "news_text_1 = news_tmp_1[\"Text\"]\n",
    "news_text_2 = news_tmp_2[\"Text\"]"
   ]
  },
  {
   "cell_type": "code",
   "execution_count": 41,
   "id": "97fe36db",
   "metadata": {},
   "outputs": [],
   "source": [
    "# Count the words appear in the bigrams which is not the topic word \n",
    "def not_keywords_frequncy(text):\n",
    "    word_dic = {}\n",
    "    for grams in bigrams(text):\n",
    "        if len(set(common_keywords) & set(grams)) >0:\n",
    "            tmp = list(set(grams).difference(set(common_keywords)))\n",
    "            for k in tmp:\n",
    "                word_dic[k] = word_dic.get(k,0) + 1\n",
    "    return word_dic"
   ]
  },
  {
   "cell_type": "code",
   "execution_count": 42,
   "id": "c5b26a3f",
   "metadata": {},
   "outputs": [],
   "source": [
    "# Viz\n",
    "def draw_from_dict(dicdata,RANGE=10, heng=1):\n",
    "    plt.figure(figsize=(10,8))\n",
    "    by_value = sorted(dicdata.items(),key = lambda item:item[1],reverse=True)\n",
    "    print(by_value)\n",
    "    x = []\n",
    "    y = []\n",
    "    for d in by_value:\n",
    "        x.append(d[0])\n",
    "        y.append(d[1])\n",
    "    if heng == 0:\n",
    "        plt.bar(x[0:RANGE], y[0:RANGE])\n",
    "        plt.show()\n",
    "        return \n",
    "    elif heng == 1:\n",
    "        plt.barh(x[0:RANGE], y[0:RANGE])\n",
    "        plt.show()\n",
    "        return \n",
    "    else:\n",
    "        return None"
   ]
  },
  {
   "cell_type": "code",
   "execution_count": 43,
   "id": "f3cc0b83",
   "metadata": {},
   "outputs": [
    {
     "name": "stdout",
     "output_type": "stream",
     "text": [
      "[('buy', 3), ('oil', 3), ('half', 2), ('gas', 2), ('street', 2), ('bucha', 1), ('army', 1), ('already', 1), ('energy', 1), ('sanction', 1), ('nation', 1), ('leader', 1), ('landsbergi', 1)]\n"
     ]
    },
    {
     "data": {
      "image/png": "[encoded data removed]",
      "text/plain": [
       "<Figure size 720x576 with 1 Axes>"
      ]
     },
     "metadata": {
      "needs_background": "light"
     },
     "output_type": "display_data"
    }
   ],
   "source": [
    "word_dic_1 = not_keywords_frequncy(news_text_1)\n",
    "draw_from_dict(word_dic_1)"
   ]
  },
  {
   "cell_type": "code",
   "execution_count": 44,
   "id": "d4a4576c",
   "metadata": {},
   "outputs": [
    {
     "name": "stdout",
     "output_type": "stream",
     "text": [
      "[('armed', 16), ('invader', 7), ('occupier', 6), ('commit', 5), ('kyiv', 3), ('capture', 3), ('equipment', 3), ('ukraine', 3), ('region', 3), ('number', 3), ('punish', 2), ('army', 2), ('declare', 2), ('today', 2), ('special', 2), ('atrocity', 2), ('sanction', 2), ('kishida', 2), ('general', 2), ('search', 2), ('ukrainian', 2), ('remain', 2), ('location', 2), ('time', 2), ('newspaper', 2), ('drag', 2), ('facebook', 2), ('perm', 1), ('federation', 1), ('attack', 1), ('associate', 1), ('hospital', 1), ('scale', 1), ('offensive', 1), ('wagon', 1), ('riot', 1), ('marauder', 1), ('paratrooper', 1), ('retreat', 1), ('aggressor', 1), ('vehicle', 1), ('brigade', 1), ('document', 1), ('diplomat', 1), ('situation', 1), ('detail', 1), ('liberate', 1), ('occupy', 1), ('country', 1), ('propagandist', 1), ('yacht', 1), ('businessman', 1), ('armored', 1), ('support', 1), ('informer', 1), ('activity', 1), ('crime', 1), ('relation', 1), ('expel', 1), ('sense', 1), ('dictator', 1), ('gas', 1), ('fascist', 1), ('izum', 1), ('area', 1), ('volgograd', 1), ('road', 1), ('agent', 1), ('conversation', 1), ('heroically', 1), ('nayem', 1), ('decision', 1), ('solovyov', 1), ('gift', 1), ('station', 1), ('diplomatic', 1), ('connection', 1), ('publisher', 1), ('coal', 1), ('radar', 1), ('oxygen', 1), ('genocide', 1), ('chernihiv', 1), ('pile', 1), ('scrap', 1), ('frigate', 1), ('editor', 1), ('withdrawal', 1), ('yesterday', 1), ('territory', 1), ('note', 1)]\n"
     ]
    },
    {
     "data": {
      "image/png": "[encoded data removed]",
      "text/plain": [
       "<Figure size 720x576 with 1 Axes>"
      ]
     },
     "metadata": {
      "needs_background": "light"
     },
     "output_type": "display_data"
    }
   ],
   "source": [
    "word_dic_2 = not_keywords_frequncy(news_text_2)\n",
    "draw_from_dict(word_dic_2)"
   ]
  },
  {
   "cell_type": "markdown",
   "id": "b047d482",
   "metadata": {},
   "source": [
    "# Theme prediction"
   ]
  },
  {
   "cell_type": "code",
   "execution_count": 45,
   "id": "c9900986",
   "metadata": {},
   "outputs": [
    {
     "data": {
      "text/html": [
       "<div>\n",
       "<style scoped>\n",
       "    .dataframe tbody tr th:only-of-type {\n",
       "        vertical-align: middle;\n",
       "    }\n",
       "\n",
       "    .dataframe tbody tr th {\n",
       "        vertical-align: top;\n",
       "    }\n",
       "\n",
       "    .dataframe thead th {\n",
       "        text-align: right;\n",
       "    }\n",
       "</style>\n",
       "<table border=\"1\" class=\"dataframe\">\n",
       "  <thead>\n",
       "    <tr style=\"text-align: right;\">\n",
       "      <th></th>\n",
       "      <th>Document_No</th>\n",
       "      <th>Dominant_Topic</th>\n",
       "      <th>Topic_Perc_Contrib</th>\n",
       "      <th>Keywords</th>\n",
       "      <th>Text</th>\n",
       "    </tr>\n",
       "  </thead>\n",
       "  <tbody>\n",
       "    <tr>\n",
       "      <th>0</th>\n",
       "      <td>0</td>\n",
       "      <td>0.0</td>\n",
       "      <td>0.482425</td>\n",
       "      <td>russian, force, troop, military, soldier, accord, kill, destroy, shell, pro</td>\n",
       "      <td>[diplomat, buy, russian, oil, urge, country, half, russian, gas, export, european, country, urge...</td>\n",
       "    </tr>\n",
       "    <tr>\n",
       "      <th>1</th>\n",
       "      <td>1</td>\n",
       "      <td>0.0</td>\n",
       "      <td>0.705251</td>\n",
       "      <td>russian, force, troop, military, soldier, accord, kill, destroy, shell, pro</td>\n",
       "      <td>[staff, armed, force, perm, region, republic, armed, force, punish, russian, federation, attack,...</td>\n",
       "    </tr>\n",
       "    <tr>\n",
       "      <th>2</th>\n",
       "      <td>2</td>\n",
       "      <td>1.0</td>\n",
       "      <td>0.987453</td>\n",
       "      <td>region, people, image, official, announce, food, senior, accord, luhansk, leave</td>\n",
       "      <td>[civilian, region, flee, luhansk, region, ruin, thousand, people, leave, region, region, tell, d...</td>\n",
       "    </tr>\n",
       "    <tr>\n",
       "      <th>3</th>\n",
       "      <td>3</td>\n",
       "      <td>0.0</td>\n",
       "      <td>0.720613</td>\n",
       "      <td>russian, force, troop, military, soldier, accord, kill, destroy, shell, pro</td>\n",
       "      <td>[defense, russian, aggression, russian, missile, russian, occupier, already, russian, occupier, ...</td>\n",
       "    </tr>\n",
       "    <tr>\n",
       "      <th>4</th>\n",
       "      <td>4</td>\n",
       "      <td>3.0</td>\n",
       "      <td>0.657432</td>\n",
       "      <td>ukraine, war, crime, invasion, statement, official, invade, support, zelenskyy, attack</td>\n",
       "      <td>[allegation, russian, troop, bucha, ukraine, image, ukraine, require, greenfield, vote, evidence...</td>\n",
       "    </tr>\n",
       "  </tbody>\n",
       "</table>\n",
       "</div>"
      ],
      "text/plain": [
       "   Document_No  Dominant_Topic  Topic_Perc_Contrib  \\\n",
       "0            0             0.0            0.482425   \n",
       "1            1             0.0            0.705251   \n",
       "2            2             1.0            0.987453   \n",
       "3            3             0.0            0.720613   \n",
       "4            4             3.0            0.657432   \n",
       "\n",
       "                                                                                 Keywords  \\\n",
       "0             russian, force, troop, military, soldier, accord, kill, destroy, shell, pro   \n",
       "1             russian, force, troop, military, soldier, accord, kill, destroy, shell, pro   \n",
       "2         region, people, image, official, announce, food, senior, accord, luhansk, leave   \n",
       "3             russian, force, troop, military, soldier, accord, kill, destroy, shell, pro   \n",
       "4  ukraine, war, crime, invasion, statement, official, invade, support, zelenskyy, attack   \n",
       "\n",
       "                                                                                                  Text  \n",
       "0  [diplomat, buy, russian, oil, urge, country, half, russian, gas, export, european, country, urge...  \n",
       "1  [staff, armed, force, perm, region, republic, armed, force, punish, russian, federation, attack,...  \n",
       "2  [civilian, region, flee, luhansk, region, ruin, thousand, people, leave, region, region, tell, d...  \n",
       "3  [defense, russian, aggression, russian, missile, russian, occupier, already, russian, occupier, ...  \n",
       "4  [allegation, russian, troop, bucha, ukraine, image, ukraine, require, greenfield, vote, evidence...  "
      ]
     },
     "execution_count": 45,
     "metadata": {},
     "output_type": "execute_result"
    }
   ],
   "source": [
    "df_dominant_topic.head()"
   ]
  },
  {
   "cell_type": "code",
   "execution_count": 46,
   "id": "f64ab093",
   "metadata": {},
   "outputs": [],
   "source": [
    "\"\"\"word2vec\"\"\"\n",
    "def word2vec_feature(data,emb_size = 32 ):\n",
    "\n",
    "    sentences = data['Text'].values.tolist()\n",
    "\n",
    "    model = Word2Vec(sentences, vector_size=emb_size, window=6, min_count=5, sg=0, hs=0, seed=1, epochs=5)\n",
    "\n",
    "    emb_matrix = []\n",
    "\n",
    "    for seq in sentences:\n",
    "        vec = []\n",
    "        for w in seq:\n",
    "            if w in model.wv:\n",
    "                vec.append(model.wv[w])\n",
    "        if len(vec) > 0:\n",
    "            emb_matrix.append(np.mean(vec, axis=0))\n",
    "        else:\n",
    "            emb_matrix.append([0] * emb_size)\n",
    "    \n",
    "    vec_feature = pd.DataFrame(emb_matrix,columns=['tag_emb_{}'.format(i) for i in range(emb_size)])\n",
    "    return vec_feature"
   ]
  },
  {
   "cell_type": "code",
   "execution_count": 47,
   "id": "72ecb6a7",
   "metadata": {},
   "outputs": [],
   "source": [
    "# w2v embedding\n",
    "embed_size = 32\n",
    "vec_feature = word2vec_feature(df_dominant_topic,emb_size = embed_size)"
   ]
  },
  {
   "cell_type": "code",
   "execution_count": 48,
   "id": "896f2621",
   "metadata": {},
   "outputs": [],
   "source": [
    "theme_label = df_dominant_topic[\"Dominant_Topic\"]"
   ]
  },
  {
   "cell_type": "code",
   "execution_count": 50,
   "id": "38dab028",
   "metadata": {},
   "outputs": [],
   "source": [
    "x_train,x_test,y_train,y_test = train_test_split(vec_feature,theme_label)"
   ]
  },
  {
   "cell_type": "markdown",
   "id": "05534be9",
   "metadata": {},
   "source": [
    "# CLF is the fitted model\n",
    "# here is random forest\n",
    "the y_score is a matrix, whose shape is (train, group number)\n",
    " for example, suppose we have 200 train data. and we need to cluster them into 5 groups the matrix is (200,5)\n",
    " moreover, the (i,j)th data means the probaboloty of the ith data is to be grouped into j"
   ]
  },
  {
   "cell_type": "code",
   "execution_count": 55,
   "id": "6d28fe11",
   "metadata": {},
   "outputs": [],
   "source": [
    "dtc = RandomForestClassifier(random_state=0)\n",
    "\n",
    "clf = dtc.fit(X=x_train, y=y_train)\n",
    "\n",
    "y_score = clf.predict_proba(x_test) "
   ]
  },
  {
   "cell_type": "code",
   "execution_count": 59,
   "id": "3fd5e2ea",
   "metadata": {},
   "outputs": [
    {
     "data": {
      "image/png": "[encoded data removed]",
      "text/plain": [
       "<Figure size 432x288 with 1 Axes>"
      ]
     },
     "metadata": {
      "needs_background": "light"
     },
     "output_type": "display_data"
    }
   ],
   "source": [
    "# Perform roc curve at 0-1, value prediction, prediction accuracy\n",
    "\n",
    "y_label = pd.get_dummies(y_test).values\n",
    "y_score = clf.predict_proba(x_test)\n",
    "n_classes = 5\n",
    "\n",
    "\n",
    "# ROC for each class\n",
    "fpr = dict()\n",
    "tpr = dict()\n",
    "roc_auc = dict()\n",
    "for i in range(n_classes):\n",
    "    fpr[i], tpr[i], _ = roc_curve(y_label[:, i], y_score[:, i])\n",
    "    roc_auc[i] = auc(fpr[i], tpr[i])\n",
    " \n",
    "\n",
    "fpr[\"micro\"], tpr[\"micro\"], _ = roc_curve(y_label.ravel(), y_score.ravel())\n",
    "roc_auc[\"micro\"] = auc(fpr[\"micro\"], tpr[\"micro\"])\n",
    " \n",
    " \n",
    "plt.plot(fpr[\"micro\"], tpr[\"micro\"],\n",
    "         label='micro-average ROC curve (area = {0:0.2f})'\n",
    "               ''.format(roc_auc[\"micro\"]),\n",
    "         color='navy', linestyle=':', linewidth=4)\n",
    " \n",
    "colors = cycle(['aqua', 'darkorange', 'cornflowerblue'])\n",
    "for i, color in zip(range(n_classes), colors):\n",
    "    plt.plot(fpr[i], tpr[i], color=color, \n",
    "             label='ROC curve of class {0} (area = {1:0.2f})'\n",
    "             ''.format(i, roc_auc[i]))\n",
    " \n",
    "plt.plot([0, 1], [0, 1], 'k--')\n",
    "plt.xlim([0.0, 1.0])\n",
    "plt.ylim([0.0, 1.05])\n",
    "plt.xlabel('False Positive Rate')\n",
    "plt.ylabel('True Positive Rate')\n",
    "plt.title('multi-calss ROC')\n",
    "plt.legend(loc=\"lower right\")\n",
    "plt.show()"
   ]
  },
  {
   "cell_type": "code",
   "execution_count": 60,
   "id": "ccce5426",
   "metadata": {},
   "outputs": [
    {
     "data": {
      "text/plain": [
       "LogisticRegression(max_iter=1000, multi_class='multinomial', solver='newton-cg')"
      ]
     },
     "execution_count": 60,
     "metadata": {},
     "output_type": "execute_result"
    }
   ],
   "source": [
    "\"\"\"LR\"\"\"\n",
    "from sklearn.linear_model import LogisticRegression\n",
    "\n",
    "# trainning\n",
    "clf = LogisticRegression(multi_class=\"multinomial\", solver=\"newton-cg\", max_iter=1000)\n",
    "clf.fit(x_train,y_train)\n"
   ]
  },
  {
   "cell_type": "code",
   "execution_count": 61,
   "id": "ebd191ce",
   "metadata": {},
   "outputs": [
    {
     "data": {
      "image/png": "[encoded data removed]",
      "text/plain": [
       "<Figure size 432x288 with 1 Axes>"
      ]
     },
     "metadata": {
      "needs_background": "light"
     },
     "output_type": "display_data"
    }
   ],
   "source": [
    "\n",
    "# viz the value range of auc is between 0-1, the higher the value, the more accuracy\n",
    "y_label = pd.get_dummies(y_test).values\n",
    "y_score = clf.predict_proba(x_test)\n",
    "n_classes = 5\n",
    "\n",
    "\n",
    "# each class roc\n",
    "fpr = dict()\n",
    "tpr = dict()\n",
    "roc_auc = dict()\n",
    "for i in range(n_classes):\n",
    "    fpr[i], tpr[i], _ = roc_curve(y_label[:, i], y_score[:, i])\n",
    "    roc_auc[i] = auc(fpr[i], tpr[i])\n",
    " \n",
    "\n",
    "fpr[\"micro\"], tpr[\"micro\"], _ = roc_curve(y_label.ravel(), y_score.ravel())\n",
    "roc_auc[\"micro\"] = auc(fpr[\"micro\"], tpr[\"micro\"])\n",
    " \n",
    " \n",
    "plt.plot(fpr[\"micro\"], tpr[\"micro\"],\n",
    "         label='micro-average ROC curve (area = {0:0.2f})'\n",
    "               ''.format(roc_auc[\"micro\"]),\n",
    "         color='navy', linestyle=':', linewidth=4)\n",
    " \n",
    "colors = cycle(['aqua', 'darkorange', 'cornflowerblue'])\n",
    "for i, color in zip(range(n_classes), colors):\n",
    "    plt.plot(fpr[i], tpr[i], color=color, \n",
    "             label='ROC curve of class {0} (area = {1:0.2f})'\n",
    "             ''.format(i, roc_auc[i]))\n",
    " \n",
    "plt.plot([0, 1], [0, 1], 'k--')\n",
    "plt.xlim([0.0, 1.0])\n",
    "plt.ylim([0.0, 1.05])\n",
    "plt.xlabel('False Positive Rate')\n",
    "plt.ylabel('True Positive Rate')\n",
    "plt.title('multi-calss ROC')\n",
    "plt.legend(loc=\"lower right\")\n",
    "plt.show()"
   ]
  },
  {
   "cell_type": "code",
   "execution_count": null,
   "id": "65a83aac",
   "metadata": {},
   "outputs": [],
   "source": []
  }
 ],
 "metadata": {
  "kernelspec": {
   "display_name": "Python 3 (ipykernel)",
   "language": "python",
   "name": "python3"
  },
  "language_info": {
   "codemirror_mode": {
    "name": "ipython",
    "version": 3
   },
   "file_extension": ".py",
   "mimetype": "text/x-python",
   "name": "python",
   "nbconvert_exporter": "python",
   "pygments_lexer": "ipython3",
   "version": "3.7.11"
  }
 },
 "nbformat": 4,
 "nbformat_minor": 5
}
