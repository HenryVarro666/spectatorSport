{
 "cells": [
  {
   "cell_type": "markdown",
   "id": "4204cf23",
   "metadata": {},
   "source": [
    "# Getting Corpus \n",
    "Searching google for the references and getting articles corresponding each reference\n",
    "\n",
    "Making a change to the reference parsing algorithm : The current __get_hotwords__ method does not include numbers so an external method is created which is able to add numbers as they are relevant contextual information \n",
    "<br/>\n",
    "        \n",
    "    case in point, the following sentence \n",
    "    - About 1500 people were evacuated from dangerous areas of Luhansk region\n",
    "    is translated as \n",
    "    - people dangerous areas luhansk region \n",
    "    \n",
    "## Methodolgy\n",
    "\n",
    "Since there are ~3000 references, we have decided to split the article dataset into \n",
    "l; oj;neipmvsd[lf 9w8uehf jwd][f\n",
    "    "
   ]
  },
  {
   "cell_type": "code",
   "execution_count": null,
   "id": "71344349",
   "metadata": {},
   "outputs": [],
   "source": [
    "import pandas as pd\n",
    "from textblob import TextBlob\n",
    "from newspaper import Article\n",
    "from datetime import timedelta\n",
    "import spacy\n",
    "from collections import Counter\n",
    "from string import punctuation\n",
    "\n",
    "from googlesearch import search\n",
    "\n",
    "\n",
    "import sys\n",
    "sys.path.append('../')\n",
    "import utility_functions\n"
   ]
  },
  {
   "cell_type": "code",
   "execution_count": null,
   "id": "b67d0e0f",
   "metadata": {},
   "outputs": [],
   "source": [
    "nlp = spacy.load(\"en_core_web_md\")"
   ]
  },
  {
   "cell_type": "code",
   "execution_count": null,
   "id": "ff81c4d2",
   "metadata": {},
   "outputs": [],
   "source": [
    "reference = pd.read_csv('../data/processed/input-data.csv',parse_dates=['time_parsed'])"
   ]
  },
  {
   "cell_type": "code",
   "execution_count": null,
   "id": "bdb45b5d",
   "metadata": {},
   "outputs": [],
   "source": [
    "len(reference)"
   ]
  },
  {
   "cell_type": "markdown",
   "id": "a86e6aa3",
   "metadata": {},
   "source": [
    "## Testing on one reference "
   ]
  },
  {
   "cell_type": "code",
   "execution_count": null,
   "id": "7434f4ef",
   "metadata": {},
   "outputs": [],
   "source": [
    "current_ref = reference.iloc[203]"
   ]
  },
  {
   "cell_type": "code",
   "execution_count": null,
   "id": "ee547325",
   "metadata": {
    "scrolled": true
   },
   "outputs": [],
   "source": [
    "current_ref"
   ]
  },
  {
   "cell_type": "code",
   "execution_count": null,
   "id": "24808d92",
   "metadata": {},
   "outputs": [],
   "source": [
    "title = current_ref['title']\n",
    "titleHotwords = utility_functions.get_hotwords(title, nlp)\n",
    "modifiedHotwords = utility_functions.add_numerics(title,titleHotwords)\n",
    "timeFrom = str(current_ref['time_parsed'].date()) # Date at the time of reporting\n",
    "timeTo = str((current_ref['time_parsed'] + timedelta(days=2)).date())  # Date 2 days from the date of reporting "
   ]
  },
  {
   "cell_type": "code",
   "execution_count": null,
   "id": "504a5376",
   "metadata": {},
   "outputs": [],
   "source": [
    "SEARCHTERM = ' '.join(modifiedHotwords) + ' after:' +timeFrom + ' before:' + timeTo\n",
    "print(f'Searching for\\n----- {SEARCHTERM}')"
   ]
  },
  {
   "cell_type": "code",
   "execution_count": null,
   "id": "9fa06f92",
   "metadata": {},
   "outputs": [],
   "source": [
    "# searches = 0 \n",
    "# for searchResult in search(SEARCHTERM):\n",
    "#     if 'liveuamap.com' in searchResult or 'wikipedia.org' in searchResult :\n",
    "#         continue\n",
    "        \n",
    "#     searches = searches + 1 \n",
    "#     print(searchResult)\n",
    "    \n",
    "    \n",
    "#     article_parse = Article(searchResult)\n",
    "#     article_parse.download()\n",
    "#     article_parse.parse()\n",
    "#     article_author = article_parse.authors\n",
    "#     article_date = article_parse.publish_date\n",
    "#     article_text = article_parse.text\n",
    "\n",
    "#     if searches >10:\n",
    "#         break"
   ]
  },
  {
   "cell_type": "markdown",
   "id": "98604e8e",
   "metadata": {},
   "source": [
    "## Applying on all dataset"
   ]
  },
  {
   "cell_type": "code",
   "execution_count": null,
   "id": "0d7f812c",
   "metadata": {},
   "outputs": [],
   "source": [
    "current_ref"
   ]
  },
  {
   "cell_type": "code",
   "execution_count": null,
   "id": "c8f4da21",
   "metadata": {},
   "outputs": [],
   "source": [
    "# Batch 1 \n",
    "start_1 = 0 \n",
    "end_1 = 10\n",
    "# end_1 = int(len(reference))\n",
    "\n",
    "print(f'Getting Dataset From {start_1} to {end_1} ')\n",
    "\n",
    "batch_1 = []\n",
    "\n",
    "for index in range(start_1,end_1):\n",
    "    current_ref = reference.iloc[index]\n",
    "    title = current_ref['title']\n",
    "    titleHotwords = utility_functions.get_hotwords(title, nlp)\n",
    "    uid = current_ref['uid']\n",
    "    modifiedHotwords = utility_functions.add_numerics(title,titleHotwords)\n",
    "    timeFrom = str(current_ref['time_parsed'].date()) # Date at the time of reporting\n",
    "    timeTo = str((current_ref['time_parsed'] + timedelta(days=2)).date())  # Date 2 days from the date of reporting \n",
    "    \n",
    "    SEARCHTERM = ' '.join(modifiedHotwords) + ' after:' +timeFrom + ' before:' + timeTo\n",
    "    print(f'Searching for\\n----- {SEARCHTERM}')\n",
    "    \n",
    "    searches = 0 \n",
    "    for searchResult in search(SEARCHTERM):\n",
    "        if 'liveuamap.com' in searchResult or 'wikipedia.org' in searchResult :\n",
    "            continue\n",
    "\n",
    "        \n",
    "        print(searchResult,end = ' ---')\n",
    "        \n",
    "        try:\n",
    "\n",
    "            article_parse = Article(searchResult)\n",
    "            article_parse.download()\n",
    "            article_parse.parse()\n",
    "            article_author = article_parse.authors\n",
    "            article_date = article_parse.publish_date\n",
    "            article_text = article_parse.text\n",
    "\n",
    "            batch_1.append({\n",
    "                'uid' : uid,\n",
    "                'article_author' : article_author,\n",
    "                'article_date' : article_date,\n",
    "                'article_text' : article_text,\n",
    "                'article_url' : searchResult\n",
    "            })\n",
    "            searches = searches + 1 \n",
    "            print('Done')\n",
    "        except Exception:\n",
    "            print('Failed:Skipping')\n",
    "        if searches >10:\n",
    "            break\n",
    "\n",
    "    "
   ]
  },
  {
   "cell_type": "code",
   "execution_count": null,
   "id": "37e76941",
   "metadata": {},
   "outputs": [],
   "source": []
  }
 ],
 "metadata": {
  "kernelspec": {
   "display_name": "Python 3 (ipykernel)",
   "language": "python",
   "name": "python3"
  },
  "language_info": {
   "codemirror_mode": {
    "name": "ipython",
    "version": 3
   },
   "file_extension": ".py",
   "mimetype": "text/x-python",
   "name": "python",
   "nbconvert_exporter": "python",
   "pygments_lexer": "ipython3",
   "version": "3.9.7"
  }
 },
 "nbformat": 4,
 "nbformat_minor": 5
}
